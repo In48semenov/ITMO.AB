{
 "cells": [
  {
   "cell_type": "markdown",
   "metadata": {},
   "source": [
    "# ДЗ 1:\n",
    "\n",
    "### Дизайн теста\n",
    "1) Из interactions взять данные за 2 последние недели (2021-08-09 по 2021-08-22)\n",
    "\n",
    "2) Посчитайте на этих данных корректность на бутстрепе и сравните ее с результатами за 1 неделю (посчитано на семинаре) (0.5 балла)\n",
    "\n",
    "3) На двух неделях посчитайте мощность. Для этого нужно в одну из групп докинуть эффект. Докиньте эффект в 1%, 3% и 5% и сравните полученную мощность (1.5 балла)\n",
    "\n",
    "4) Посчитайте MDE, который можно зафиксировать на 2х неделях. В качестве alpha и beta подставьте ваши вычисленные ошибки 1 и 2 рода. Учитывайте что у нас формула для MDE работает для t-test или z-test (1 балл)\n",
    "\n",
    "### A/B тест\n",
    "1) Представим что у нас прошел тест, используем те же самые данные за 2 недели\n",
    "\n",
    "2) Занулите для всех пользователей total_dur, у которых total_dur < 500. Их НЕ УБИРАЕМ, а просто обрабатываем эти значения, принимая за нулевые, но пользователей также учитываем в эксперименте (0.5 балла)\n",
    "\n",
    "3) Разбейте их самостоятельно на две равные группы, используйте функцию groups_splitter и соль = 'kiontestmodel20210805' (0.5 балла)\n",
    "\n",
    "4) Оказалось, что модель в группе В показала себя лучше, чем в группе А на 2.5%, причем эффект распространился неравномерно и преимущественно на 10% самых смотрящих пользователей, докиньте такой эффект самостоятельно. Нужно метрику total_dur увеличить на 2.5% для 10% пользователей с самым продолжительным смотрением. (1 балл)\n",
    "\n",
    "5) Посчитайте результат такого теста и сделайте выводы (2 балла)\n",
    "\n",
    "Еще 1 балл можно получить за хорошее и подробное объяснение каждого шага "
   ]
  },
  {
   "cell_type": "code",
   "execution_count": 1,
   "metadata": {},
   "outputs": [],
   "source": [
    "import os\n",
    "import hashlib\n",
    "from base64 import b64encode\n",
    "from typing import Union\n",
    "\n",
    "import numpy as np\n",
    "import scipy\n",
    "import matplotlib.pyplot as plt\n",
    "import scipy.stats as stats\n",
    "import pandas as pd\n",
    "import matplotlib.pyplot as plt\n",
    "from tqdm import tqdm\n",
    "from tweedie.tweedie_dist import tweedie_gen"
   ]
  },
  {
   "cell_type": "code",
   "execution_count": 2,
   "metadata": {},
   "outputs": [],
   "source": [
    "interactions = pd.read_csv('data_kion/interactions_df.csv')\n",
    "users = pd.read_csv('data_kion/users.csv')\n",
    "items = pd.read_csv('data_kion/items.csv')"
   ]
  },
  {
   "cell_type": "code",
   "execution_count": 3,
   "metadata": {},
   "outputs": [
    {
     "data": {
      "text/html": [
       "<div>\n",
       "<style scoped>\n",
       "    .dataframe tbody tr th:only-of-type {\n",
       "        vertical-align: middle;\n",
       "    }\n",
       "\n",
       "    .dataframe tbody tr th {\n",
       "        vertical-align: top;\n",
       "    }\n",
       "\n",
       "    .dataframe thead th {\n",
       "        text-align: right;\n",
       "    }\n",
       "</style>\n",
       "<table border=\"1\" class=\"dataframe\">\n",
       "  <thead>\n",
       "    <tr style=\"text-align: right;\">\n",
       "      <th></th>\n",
       "      <th>user_id</th>\n",
       "      <th>item_id</th>\n",
       "      <th>last_watch_dt</th>\n",
       "      <th>total_dur</th>\n",
       "      <th>watched_pct</th>\n",
       "    </tr>\n",
       "  </thead>\n",
       "  <tbody>\n",
       "    <tr>\n",
       "      <th>0</th>\n",
       "      <td>176549</td>\n",
       "      <td>9506</td>\n",
       "      <td>2021-05-11</td>\n",
       "      <td>4250</td>\n",
       "      <td>72.0</td>\n",
       "    </tr>\n",
       "    <tr>\n",
       "      <th>1</th>\n",
       "      <td>699317</td>\n",
       "      <td>1659</td>\n",
       "      <td>2021-05-29</td>\n",
       "      <td>8317</td>\n",
       "      <td>100.0</td>\n",
       "    </tr>\n",
       "    <tr>\n",
       "      <th>2</th>\n",
       "      <td>656683</td>\n",
       "      <td>7107</td>\n",
       "      <td>2021-05-09</td>\n",
       "      <td>10</td>\n",
       "      <td>0.0</td>\n",
       "    </tr>\n",
       "    <tr>\n",
       "      <th>5476248</th>\n",
       "      <td>697262</td>\n",
       "      <td>15297</td>\n",
       "      <td>2021-08-20</td>\n",
       "      <td>18307</td>\n",
       "      <td>63.0</td>\n",
       "    </tr>\n",
       "    <tr>\n",
       "      <th>5476249</th>\n",
       "      <td>384202</td>\n",
       "      <td>16197</td>\n",
       "      <td>2021-04-19</td>\n",
       "      <td>6203</td>\n",
       "      <td>100.0</td>\n",
       "    </tr>\n",
       "    <tr>\n",
       "      <th>5476250</th>\n",
       "      <td>319709</td>\n",
       "      <td>4436</td>\n",
       "      <td>2021-08-15</td>\n",
       "      <td>3921</td>\n",
       "      <td>45.0</td>\n",
       "    </tr>\n",
       "  </tbody>\n",
       "</table>\n",
       "</div>"
      ],
      "text/plain": [
       "         user_id  item_id last_watch_dt  total_dur  watched_pct\n",
       "0         176549     9506    2021-05-11       4250         72.0\n",
       "1         699317     1659    2021-05-29       8317        100.0\n",
       "2         656683     7107    2021-05-09         10          0.0\n",
       "5476248   697262    15297    2021-08-20      18307         63.0\n",
       "5476249   384202    16197    2021-04-19       6203        100.0\n",
       "5476250   319709     4436    2021-08-15       3921         45.0"
      ]
     },
     "execution_count": 3,
     "metadata": {},
     "output_type": "execute_result"
    }
   ],
   "source": [
    "pd.concat([interactions.head(3), interactions.tail(3)])"
   ]
  },
  {
   "cell_type": "code",
   "execution_count": 4,
   "metadata": {},
   "outputs": [
    {
     "data": {
      "text/html": [
       "<div>\n",
       "<style scoped>\n",
       "    .dataframe tbody tr th:only-of-type {\n",
       "        vertical-align: middle;\n",
       "    }\n",
       "\n",
       "    .dataframe tbody tr th {\n",
       "        vertical-align: top;\n",
       "    }\n",
       "\n",
       "    .dataframe thead th {\n",
       "        text-align: right;\n",
       "    }\n",
       "</style>\n",
       "<table border=\"1\" class=\"dataframe\">\n",
       "  <thead>\n",
       "    <tr style=\"text-align: right;\">\n",
       "      <th></th>\n",
       "      <th>user_id</th>\n",
       "      <th>age</th>\n",
       "      <th>income</th>\n",
       "      <th>sex</th>\n",
       "      <th>kids_flg</th>\n",
       "    </tr>\n",
       "  </thead>\n",
       "  <tbody>\n",
       "    <tr>\n",
       "      <th>0</th>\n",
       "      <td>973171</td>\n",
       "      <td>age_25_34</td>\n",
       "      <td>income_60_90</td>\n",
       "      <td>М</td>\n",
       "      <td>1</td>\n",
       "    </tr>\n",
       "    <tr>\n",
       "      <th>1</th>\n",
       "      <td>962099</td>\n",
       "      <td>age_18_24</td>\n",
       "      <td>income_20_40</td>\n",
       "      <td>М</td>\n",
       "      <td>0</td>\n",
       "    </tr>\n",
       "    <tr>\n",
       "      <th>2</th>\n",
       "      <td>1047345</td>\n",
       "      <td>age_45_54</td>\n",
       "      <td>income_40_60</td>\n",
       "      <td>Ж</td>\n",
       "      <td>0</td>\n",
       "    </tr>\n",
       "    <tr>\n",
       "      <th>840194</th>\n",
       "      <td>251008</td>\n",
       "      <td>NaN</td>\n",
       "      <td>NaN</td>\n",
       "      <td>NaN</td>\n",
       "      <td>0</td>\n",
       "    </tr>\n",
       "    <tr>\n",
       "      <th>840195</th>\n",
       "      <td>590706</td>\n",
       "      <td>NaN</td>\n",
       "      <td>NaN</td>\n",
       "      <td>Ж</td>\n",
       "      <td>0</td>\n",
       "    </tr>\n",
       "    <tr>\n",
       "      <th>840196</th>\n",
       "      <td>166555</td>\n",
       "      <td>age_65_inf</td>\n",
       "      <td>income_20_40</td>\n",
       "      <td>Ж</td>\n",
       "      <td>0</td>\n",
       "    </tr>\n",
       "  </tbody>\n",
       "</table>\n",
       "</div>"
      ],
      "text/plain": [
       "        user_id         age        income  sex  kids_flg\n",
       "0        973171   age_25_34  income_60_90    М         1\n",
       "1        962099   age_18_24  income_20_40    М         0\n",
       "2       1047345   age_45_54  income_40_60    Ж         0\n",
       "840194   251008         NaN           NaN  NaN         0\n",
       "840195   590706         NaN           NaN    Ж         0\n",
       "840196   166555  age_65_inf  income_20_40    Ж         0"
      ]
     },
     "execution_count": 4,
     "metadata": {},
     "output_type": "execute_result"
    }
   ],
   "source": [
    "pd.concat([users.head(3), users.tail(3)])"
   ]
  },
  {
   "cell_type": "code",
   "execution_count": 5,
   "metadata": {},
   "outputs": [
    {
     "data": {
      "text/html": [
       "<div>\n",
       "<style scoped>\n",
       "    .dataframe tbody tr th:only-of-type {\n",
       "        vertical-align: middle;\n",
       "    }\n",
       "\n",
       "    .dataframe tbody tr th {\n",
       "        vertical-align: top;\n",
       "    }\n",
       "\n",
       "    .dataframe thead th {\n",
       "        text-align: right;\n",
       "    }\n",
       "</style>\n",
       "<table border=\"1\" class=\"dataframe\">\n",
       "  <thead>\n",
       "    <tr style=\"text-align: right;\">\n",
       "      <th></th>\n",
       "      <th>item_id</th>\n",
       "      <th>content_type</th>\n",
       "      <th>title</th>\n",
       "      <th>title_orig</th>\n",
       "      <th>release_year</th>\n",
       "      <th>genres</th>\n",
       "      <th>countries</th>\n",
       "      <th>for_kids</th>\n",
       "      <th>age_rating</th>\n",
       "      <th>studios</th>\n",
       "      <th>directors</th>\n",
       "      <th>actors</th>\n",
       "      <th>description</th>\n",
       "      <th>keywords</th>\n",
       "    </tr>\n",
       "  </thead>\n",
       "  <tbody>\n",
       "    <tr>\n",
       "      <th>0</th>\n",
       "      <td>10711</td>\n",
       "      <td>film</td>\n",
       "      <td>Поговори с ней</td>\n",
       "      <td>Hable con ella</td>\n",
       "      <td>2002.0</td>\n",
       "      <td>драмы, зарубежные, детективы, мелодрамы</td>\n",
       "      <td>Испания</td>\n",
       "      <td>NaN</td>\n",
       "      <td>16.0</td>\n",
       "      <td>NaN</td>\n",
       "      <td>Педро Альмодовар</td>\n",
       "      <td>Адольфо Фернандес, Ана Фернандес, Дарио Гранди...</td>\n",
       "      <td>Мелодрама легендарного Педро Альмодовара «Пого...</td>\n",
       "      <td>Поговори, ней, 2002, Испания, друзья, любовь, ...</td>\n",
       "    </tr>\n",
       "    <tr>\n",
       "      <th>15962</th>\n",
       "      <td>3206</td>\n",
       "      <td>series</td>\n",
       "      <td>Гоша</td>\n",
       "      <td>NaN</td>\n",
       "      <td>2019.0</td>\n",
       "      <td>комедии</td>\n",
       "      <td>Россия</td>\n",
       "      <td>0.0</td>\n",
       "      <td>16.0</td>\n",
       "      <td>NaN</td>\n",
       "      <td>Михаил Миронов</td>\n",
       "      <td>Мкртыч Арзуманян, Виктория Рунцова</td>\n",
       "      <td>Добродушный Гоша не может выйти из дома, чтобы...</td>\n",
       "      <td>Гоша, 2019, Россия</td>\n",
       "    </tr>\n",
       "  </tbody>\n",
       "</table>\n",
       "</div>"
      ],
      "text/plain": [
       "       item_id content_type           title      title_orig  release_year  \\\n",
       "0        10711         film  Поговори с ней  Hable con ella        2002.0   \n",
       "15962     3206       series            Гоша             NaN        2019.0   \n",
       "\n",
       "                                        genres countries  for_kids  \\\n",
       "0      драмы, зарубежные, детективы, мелодрамы   Испания       NaN   \n",
       "15962                                  комедии    Россия       0.0   \n",
       "\n",
       "       age_rating studios         directors  \\\n",
       "0            16.0     NaN  Педро Альмодовар   \n",
       "15962        16.0     NaN    Михаил Миронов   \n",
       "\n",
       "                                                  actors  \\\n",
       "0      Адольфо Фернандес, Ана Фернандес, Дарио Гранди...   \n",
       "15962                 Мкртыч Арзуманян, Виктория Рунцова   \n",
       "\n",
       "                                             description  \\\n",
       "0      Мелодрама легендарного Педро Альмодовара «Пого...   \n",
       "15962  Добродушный Гоша не может выйти из дома, чтобы...   \n",
       "\n",
       "                                                keywords  \n",
       "0      Поговори, ней, 2002, Испания, друзья, любовь, ...  \n",
       "15962                                 Гоша, 2019, Россия  "
      ]
     },
     "execution_count": 5,
     "metadata": {},
     "output_type": "execute_result"
    }
   ],
   "source": [
    "pd.concat([items.head(1), items.tail(1)])"
   ]
  },
  {
   "cell_type": "code",
   "execution_count": 6,
   "metadata": {},
   "outputs": [
    {
     "name": "stdout",
     "output_type": "stream",
     "text": [
      " === Кол-во уникальных users:\n",
      " 1) у которых есть взаимодействия: 962_179\n",
      " 2) которые есть в датасете для users: 840_197\n",
      " === Кол-во уникальных items:\n",
      " 1) с которыми было взаимодействие: 15_706\n",
      " 2) которые есть в датасете для items: 15_963\n"
     ]
    }
   ],
   "source": [
    "print(\n",
    "    \" === Кол-во уникальных users:\\n\"\n",
    "    f\" 1) у которых есть взаимодействия: {interactions['user_id'].nunique():_}\\n\"\n",
    "    f\" 2) которые есть в датасете для users: {users['user_id'].nunique():_}\\n\"\n",
    "    \" === Кол-во уникальных items:\\n\"\n",
    "    f\" 1) с которыми было взаимодействие: {interactions['item_id'].nunique():_}\\n\"\n",
    "    f\" 2) которые есть в датасете для items: {items['item_id'].nunique():_}\"\n",
    ")"
   ]
  },
  {
   "cell_type": "markdown",
   "metadata": {},
   "source": [
    "# Дизайн теста"
   ]
  },
  {
   "cell_type": "markdown",
   "metadata": {},
   "source": [
    "### 1. Из interactions взять данные за 2 последние недели (2021-08-09 по 2021-08-22)"
   ]
  },
  {
   "cell_type": "code",
   "execution_count": 7,
   "metadata": {},
   "outputs": [
    {
     "data": {
      "text/plain": [
       "(Timestamp('2021-08-09 00:00:00'), Timestamp('2021-08-22 00:00:00'))"
      ]
     },
     "execution_count": 7,
     "metadata": {},
     "output_type": "execute_result"
    }
   ],
   "source": [
    "interactions[\"last_watch_dt\"] = pd.to_datetime(interactions[\"last_watch_dt\"])\n",
    "\n",
    "week2 = interactions[\n",
    "    (interactions[\"last_watch_dt\"] >= \"2021-08-09\")\n",
    "    & (interactions[\"last_watch_dt\"] <= \"2021-08-22\")\n",
    "]\n",
    "\n",
    "week2[\"last_watch_dt\"].min(), week2[\"last_watch_dt\"].max()"
   ]
  },
  {
   "cell_type": "code",
   "execution_count": 8,
   "metadata": {},
   "outputs": [
    {
     "name": "stdout",
     "output_type": "stream",
     "text": [
      " === Кол-во уникальных users:\n",
      " 1) у которых есть взаимодействия: 266_081\n",
      " === Кол-во уникальных items:\n",
      " 1) с которыми было взаимодействие: 8_406\n",
      "\n"
     ]
    }
   ],
   "source": [
    "print(\n",
    "    \" === Кол-во уникальных users:\\n\"\n",
    "    f\" 1) у которых есть взаимодействия: {week2['user_id'].nunique():_}\\n\"\n",
    "    \" === Кол-во уникальных items:\\n\"\n",
    "    f\" 1) с которыми было взаимодействие: {week2['item_id'].nunique():_}\\n\"\n",
    ")"
   ]
  },
  {
   "cell_type": "code",
   "execution_count": 9,
   "metadata": {},
   "outputs": [
    {
     "name": "stdout",
     "output_type": "stream",
     "text": [
      "(827089, 5)\n",
      "(827089, 5)\n"
     ]
    },
    {
     "name": "stderr",
     "output_type": "stream",
     "text": [
      "/var/folders/9p/k5cfwtns6lgd7w8zs7srrj380000gn/T/ipykernel_90025/789820189.py:2: SettingWithCopyWarning: \n",
      "A value is trying to be set on a copy of a slice from a DataFrame\n",
      "\n",
      "See the caveats in the documentation: https://pandas.pydata.org/pandas-docs/stable/user_guide/indexing.html#returning-a-view-versus-a-copy\n",
      "  week2.drop_duplicates(inplace=True)\n"
     ]
    }
   ],
   "source": [
    "print(week2.shape)\n",
    "week2.drop_duplicates(inplace=True)\n",
    "print(week2.shape)"
   ]
  },
  {
   "cell_type": "code",
   "execution_count": 10,
   "metadata": {},
   "outputs": [
    {
     "name": "stdout",
     "output_type": "stream",
     "text": [
      "(266081, 2)\n"
     ]
    },
    {
     "name": "stderr",
     "output_type": "stream",
     "text": [
      "/var/folders/9p/k5cfwtns6lgd7w8zs7srrj380000gn/T/ipykernel_90025/309705100.py:2: FutureWarning: The provided callable <built-in function sum> is currently using SeriesGroupBy.sum. In a future version of pandas, the provided callable will be used directly. To keep current behavior pass the string \"sum\" instead.\n",
      "  week2 = week2.groupby('user_id', as_index=False).agg({'total_dur': sum})\n"
     ]
    },
    {
     "data": {
      "text/html": [
       "<div>\n",
       "<style scoped>\n",
       "    .dataframe tbody tr th:only-of-type {\n",
       "        vertical-align: middle;\n",
       "    }\n",
       "\n",
       "    .dataframe tbody tr th {\n",
       "        vertical-align: top;\n",
       "    }\n",
       "\n",
       "    .dataframe thead th {\n",
       "        text-align: right;\n",
       "    }\n",
       "</style>\n",
       "<table border=\"1\" class=\"dataframe\">\n",
       "  <thead>\n",
       "    <tr style=\"text-align: right;\">\n",
       "      <th></th>\n",
       "      <th>user_id</th>\n",
       "      <th>total_dur</th>\n",
       "    </tr>\n",
       "  </thead>\n",
       "  <tbody>\n",
       "    <tr>\n",
       "      <th>0</th>\n",
       "      <td>1</td>\n",
       "      <td>21172</td>\n",
       "    </tr>\n",
       "    <tr>\n",
       "      <th>1</th>\n",
       "      <td>3</td>\n",
       "      <td>64654</td>\n",
       "    </tr>\n",
       "    <tr>\n",
       "      <th>2</th>\n",
       "      <td>9</td>\n",
       "      <td>108</td>\n",
       "    </tr>\n",
       "    <tr>\n",
       "      <th>3</th>\n",
       "      <td>12</td>\n",
       "      <td>5929</td>\n",
       "    </tr>\n",
       "    <tr>\n",
       "      <th>4</th>\n",
       "      <td>14</td>\n",
       "      <td>10324</td>\n",
       "    </tr>\n",
       "  </tbody>\n",
       "</table>\n",
       "</div>"
      ],
      "text/plain": [
       "   user_id  total_dur\n",
       "0        1      21172\n",
       "1        3      64654\n",
       "2        9        108\n",
       "3       12       5929\n",
       "4       14      10324"
      ]
     },
     "execution_count": 10,
     "metadata": {},
     "output_type": "execute_result"
    }
   ],
   "source": [
    "# Нам не важно сколько item'ов юзер просмотрел, нам важен `total_dur` => сгруппируем по юзерам\n",
    "week2 = week2.groupby('user_id', as_index=False).agg({'total_dur': sum})\n",
    "print(week2.shape)\n",
    "week2.head()"
   ]
  },
  {
   "cell_type": "code",
   "execution_count": 11,
   "metadata": {},
   "outputs": [
    {
     "data": {
      "image/png": "[encoded data removed]",
      "text/plain": [
       "<Figure size 640x480 with 1 Axes>"
      ]
     },
     "metadata": {},
     "output_type": "display_data"
    }
   ],
   "source": [
    "week2[\"total_dur\"].hist(bins=100)\n",
    "plt.title('Распределние метрики `total_dur` на исторических данных');"
   ]
  },
  {
   "cell_type": "code",
   "execution_count": 12,
   "metadata": {},
   "outputs": [
    {
     "data": {
      "image/png": "[encoded data removed]",
      "text/plain": [
       "<Figure size 640x480 with 1 Axes>"
      ]
     },
     "metadata": {},
     "output_type": "display_data"
    }
   ],
   "source": [
    "week2[\"total_dur\"].hist(log=True)\n",
    "plt.title('Распределние метрики `total_dur` на исторических данных (log = True)');"
   ]
  },
  {
   "cell_type": "markdown",
   "metadata": {},
   "source": [
    "**Распределение метрики не является нормальным** => не можем применять t-test\n",
    "\n",
    "**Посмотрим принимает ли метрика `total_dur` нули**"
   ]
  },
  {
   "cell_type": "code",
   "execution_count": 13,
   "metadata": {},
   "outputs": [
    {
     "data": {
      "text/plain": [
       "count    2.660810e+05\n",
       "mean     2.140820e+04\n",
       "std      7.404068e+04\n",
       "min      1.000000e+00\n",
       "25%      8.800000e+02\n",
       "50%      5.739000e+03\n",
       "75%      1.830700e+04\n",
       "max      9.731801e+06\n",
       "Name: total_dur, dtype: float64"
      ]
     },
     "execution_count": 13,
     "metadata": {},
     "output_type": "execute_result"
    }
   ],
   "source": [
    "week2['total_dur'].describe()"
   ]
  },
  {
   "cell_type": "code",
   "execution_count": 14,
   "metadata": {},
   "outputs": [
    {
     "data": {
      "image/png": "[encoded data removed]",
      "text/plain": [
       "<Figure size 640x480 with 1 Axes>"
      ]
     },
     "metadata": {},
     "output_type": "display_data"
    }
   ],
   "source": [
    "plt.boxplot(week2['total_dur'].values);"
   ]
  },
  {
   "cell_type": "markdown",
   "metadata": {},
   "source": [
    "**Присутствует высокая дисперсия и имеются выбросы** => нужно от них избавиться\n",
    "\n",
    "**`total_dur` не принимает значения ноль** => не беспокоимся за добавление эффекта, но хорошы бы добавлять эффект с учетом особенностей распределения метрики и его \"физического смысла\". \n",
    "\n",
    "**Так как метрика `total_dur` вряд ли сможет повыситься входе АБ-теста у пользователей в группе Б почти у всех**, иначе говоря, среднее время просмотра изменится у части пользователей в группе Б, то для оценки мощности следует добавлять эффект с учетом этого. **Тут на помощь приходит tweede-распределение**, которые добавит эффект только части пользователей.\n",
    "\n",
    "Удаляем выбросы:"
   ]
  },
  {
   "cell_type": "code",
   "execution_count": 15,
   "metadata": {},
   "outputs": [
    {
     "name": "stdout",
     "output_type": "stream",
     "text": [
      "(266081, 2)\n",
      "(262794, 2)\n"
     ]
    }
   ],
   "source": [
    "print(week2.shape)\n",
    "# Так как `toral_dur` не может быть меньше нулю, можно `total_dur` ограничить только справа\n",
    "# Зафиксируем максимальный `total_dur`, чтобы использовать так же обработать данные при расчете значений на AB-тесте \n",
    "MAX_TOTAL_DUR = week2['total_dur'].std() * 3\n",
    "week2_prep = week2[(week2['total_dur'] < MAX_TOTAL_DUR)]\n",
    "print(week2_prep.shape)"
   ]
  },
  {
   "cell_type": "code",
   "execution_count": 16,
   "metadata": {},
   "outputs": [
    {
     "data": {
      "text/plain": [
       "222122.02800964026"
      ]
     },
     "execution_count": 16,
     "metadata": {},
     "output_type": "execute_result"
    }
   ],
   "source": [
    "MAX_TOTAL_DUR"
   ]
  },
  {
   "cell_type": "code",
   "execution_count": 17,
   "metadata": {},
   "outputs": [
    {
     "data": {
      "image/png": "[encoded data removed]",
      "text/plain": [
       "<Figure size 640x480 with 1 Axes>"
      ]
     },
     "metadata": {},
     "output_type": "display_data"
    }
   ],
   "source": [
    "week2_prep[\"total_dur\"].hist(bins=100)\n",
    "plt.ylim([0, 10000])\n",
    "plt.title('Распределние метрики `total_dur` на исторических данных');"
   ]
  },
  {
   "cell_type": "code",
   "execution_count": 18,
   "metadata": {},
   "outputs": [
    {
     "data": {
      "image/png": "[encoded data removed]",
      "text/plain": [
       "<Figure size 640x480 with 1 Axes>"
      ]
     },
     "metadata": {},
     "output_type": "display_data"
    }
   ],
   "source": [
    "plt.boxplot(week2_prep['total_dur'].values);"
   ]
  },
  {
   "cell_type": "code",
   "execution_count": 19,
   "metadata": {},
   "outputs": [
    {
     "data": {
      "text/plain": [
       "count    262794.000000\n",
       "mean      15843.013048\n",
       "std       27843.529589\n",
       "min           1.000000\n",
       "25%         866.000000\n",
       "50%        5602.000000\n",
       "75%       17463.750000\n",
       "max      222029.000000\n",
       "Name: total_dur, dtype: float64"
      ]
     },
     "execution_count": 19,
     "metadata": {},
     "output_type": "execute_result"
    }
   ],
   "source": [
    "week2_prep['total_dur'].describe()"
   ]
  },
  {
   "cell_type": "markdown",
   "metadata": {},
   "source": [
    "**Удалали выбросы** => можно дизайнить эксперимет"
   ]
  },
  {
   "cell_type": "markdown",
   "metadata": {},
   "source": [
    "### 2. Посчитайте на этих данных корректность на бутстрепе и сравните ее с результатами за 1 неделю (посчитано на семинаре)"
   ]
  },
  {
   "cell_type": "code",
   "execution_count": 20,
   "metadata": {},
   "outputs": [],
   "source": [
    "def salt_generator() -> str:\n",
    "    \"\"\"\n",
    "    Generates a random salt value.\n",
    "\n",
    "    Returns:\n",
    "        str: The base64 encoded salt value as a string.\n",
    "    \"\"\"\n",
    "    salt = os.urandom(8)\n",
    "    return b64encode(salt).decode('ascii')\n",
    "\n",
    "\n",
    "def groups_splitter(df: pd.DataFrame, columns: list[str], user_salt: str = None) -> pd.DataFrame:\n",
    "    \"\"\"\n",
    "    Splits the data into two groups based on the salt value.\n",
    "\n",
    "    Parameters:\n",
    "        df (pd.DataFrame): The dataframe to split.\n",
    "        columns (list[str]): The columns to split on.\n",
    "        salt (str): The salt value to use for the split.\n",
    "    \"\"\"\n",
    "    if user_salt is None:\n",
    "        salt = salt_generator()\n",
    "    else:\n",
    "        salt = user_salt\n",
    "\n",
    "    df['hash'] = ((df['user_id'].astype(str)) + '#' + salt).apply(lambda x: hashlib.sha256(x.encode('utf-8')).hexdigest())\n",
    "\n",
    "    df['group'] = ((df['hash'].str.slice(start=-6).apply(int, base=16) % 2).map(lambda x: 'A' if x == 0 else 'B'))\n",
    "\n",
    "    return df[columns].drop_duplicates()\n",
    "\n",
    "\n",
    "def get_bootstrap_array(arr: Union[pd.Series, np.ndarray]) -> np.ndarray:\n",
    "    \"\"\"\n",
    "    Generates a bootstrap array by randomly sampling elements from the input array with replacement.\n",
    "\n",
    "    Parameters:\n",
    "        arr (Union[pd.Series, np.ndarray]): The input array to generate the bootstrap array from.\n",
    "\n",
    "    Returns:\n",
    "        np.ndarray: The bootstrap array generated from the input array.\n",
    "    \"\"\"\n",
    "    return np.random.choice(arr, replace=True, size=len(arr))\n",
    "\n",
    "\n",
    "def calc_bootstrap_mean(arr: Union[pd.Series, np.ndarray], size: int) -> np.ndarray:\n",
    "    \"\"\"\n",
    "    Calculate the bootstrap mean of an array.\n",
    "\n",
    "    Parameters:\n",
    "        arr (Union[pd.Series, np.ndarray]): Input array.\n",
    "        size (int): Number of iterations.\n",
    "\n",
    "    Returns:\n",
    "        np.ndarray: Array of bootstrap means.\n",
    "    \"\"\"\n",
    "    result = np.empty(size)\n",
    "    for idx in range(size):\n",
    "        result[idx] = np.mean(get_bootstrap_array(arr))\n",
    "    return result\n",
    "\n",
    "\n",
    "def get_p_value(dist):\n",
    "    \"\"\"\n",
    "    Calculate the p-value of a distances.\n",
    "\n",
    "    Parameters:\n",
    "        dist: Input distances.\n",
    "\n",
    "    Returns:\n",
    "        float: P-value of the distances.\n",
    "    \"\"\"\n",
    "    dist = np.array(dist)\n",
    "    x = (dist > 0).mean()\n",
    "    pvalue = min(x, 1 - x) * 2\n",
    "    return pvalue\n",
    "\n",
    "\n",
    "def generate_tweedie(mu, shape, p=1.5, phi=25):\n",
    "    \"\"\"\n",
    "    Generate a tweedie distribution.\n",
    "\n",
    "    Parameters:\n",
    "        mu: Mean parameter of the distribution.\n",
    "        shape: Shape parameter of the distribution.\n",
    "        p (float): Power parameter (default=1.5).\n",
    "        phi (float): Dispersion parameter (default=25).\n",
    "\n",
    "    Returns:\n",
    "        np.ndarray: Array of random variates from the tweedie distribution.\n",
    "    \"\"\"\n",
    "    tw = tweedie_gen()\n",
    "    return tw(p=p, mu=mu, phi=phi).rvs(shape)"
   ]
  },
  {
   "cell_type": "code",
   "execution_count": 21,
   "metadata": {},
   "outputs": [],
   "source": [
    "ITER_BOOTSTRAP = 1000 # common cycle\n",
    "NUMBER_GENERATE_PSEUDO_SAMPLES = 1000  # number of pseudo samples for bootstrap\n",
    "ALPHA = 0.05"
   ]
  },
  {
   "cell_type": "code",
   "execution_count": 51,
   "metadata": {},
   "outputs": [
    {
     "name": "stderr",
     "output_type": "stream",
     "text": [
      "100%|██████████| 1000/1000 [1:36:52<00:00,  5.81s/it]"
     ]
    },
    {
     "name": "stdout",
     "output_type": "stream",
     "text": [
      "significance: 5.6%\n"
     ]
    },
    {
     "name": "stderr",
     "output_type": "stream",
     "text": [
      "\n"
     ]
    }
   ],
   "source": [
    "correctness = []\n",
    "diff_values = []\n",
    "\n",
    "for _ in tqdm(range(ITER_BOOTSTRAP)):\n",
    "    # split on two groups\n",
    "    new_df = groups_splitter(\n",
    "        df=week2_prep.copy(),\n",
    "        columns=[\"user_id\", \"total_dur\", \"group\"],\n",
    "        user_salt=salt_generator() # create salt\n",
    "    ).drop_duplicates()\n",
    "\n",
    "    # obtain the values of the studied quantity by group\n",
    "    vec_a = new_df[new_df[\"group\"] == \"A\"][\"total_dur\"]\n",
    "    vec_b = new_df[new_df[\"group\"] == \"B\"][\"total_dur\"]\n",
    "    \n",
    "    # get values on bootstrap\n",
    "    sample_a_mean = calc_bootstrap_mean(arr=vec_a, size=NUMBER_GENERATE_PSEUDO_SAMPLES)\n",
    "    sample_b_mean = calc_bootstrap_mean(arr=vec_b, size=NUMBER_GENERATE_PSEUDO_SAMPLES)\n",
    "    diff_values.append(sample_a_mean - sample_b_mean)\n",
    "\n",
    "    # calculate the 95% confidence interval for the difference in means\n",
    "    left_side, right_side = np.percentile(\n",
    "        sample_a_mean - sample_b_mean, \n",
    "        [100 * ALPHA / 2., 100 * (1 - ALPHA / 2.)]\n",
    "    )\n",
    "\n",
    "    correctness.append(not left_side <= 0 <= right_side)\n",
    "\n",
    "significance = np.mean(correctness)\n",
    "print(f\"significance: {significance * 100:0.3}%\")\n"
   ]
  },
  {
   "cell_type": "markdown",
   "metadata": {},
   "source": [
    "Тест на 1 неделю (см. семинар) на корректность показал 5% => **тест на 2 недели показал схожий результат**"
   ]
  },
  {
   "cell_type": "code",
   "execution_count": 55,
   "metadata": {},
   "outputs": [
    {
     "data": {
      "image/png": "[encoded data removed]",
      "text/plain": [
       "<Figure size 640x480 with 1 Axes>"
      ]
     },
     "metadata": {},
     "output_type": "display_data"
    }
   ],
   "source": [
    "# get p-values\n",
    "p_values = [get_p_value(dist) for dist in diff_values]\n",
    "\n",
    "# Check distribution. Distribution p-value must be uniform!\n",
    "plt.hist(p_values, bins=10, color='purple')\n",
    "plt.title(f\"Бутстреп распределение p_value\\nsignificance = {significance*100:0.3}% for alpha = {ALPHA}\");"
   ]
  },
  {
   "cell_type": "markdown",
   "metadata": {},
   "source": [
    "Распределение напоминает нормальное.\n",
    "\n",
    "Для большей уверенности применим критерий **Колмогорова-Смирнова** для проверки гипотезы, что p-values имеет равномерное распределение"
   ]
  },
  {
   "cell_type": "code",
   "execution_count": 56,
   "metadata": {},
   "outputs": [
    {
     "name": "stdout",
     "output_type": "stream",
     "text": [
      "p_value = 0.7097553870119024 - p_values равномерное распределение\n"
     ]
    }
   ],
   "source": [
    "stat, p_value = stats.kstest(p_values, scipy.stats.uniform(loc=0.0, scale=1.0).cdf)\n",
    "\n",
    "if p_value < 0.05:\n",
    "    print(f'p_value = {p_value} - p_values неравномерное распределение')\n",
    "else:\n",
    "    print(f'p_value = {p_value} - p_values равномерное распределение')"
   ]
  },
  {
   "cell_type": "markdown",
   "metadata": {},
   "source": [
    "**При этом распределение P-values является равномерным**"
   ]
  },
  {
   "cell_type": "markdown",
   "metadata": {},
   "source": [
    "### 3. На двух неделях посчитайте мощность. Для этого нужно в одну из групп докинуть эффект. Докиньте эффект в 1%, 3% и 5% и сравните полученную мощность"
   ]
  },
  {
   "cell_type": "code",
   "execution_count": 25,
   "metadata": {},
   "outputs": [
    {
     "name": "stderr",
     "output_type": "stream",
     "text": [
      "100%|██████████| 1000/1000 [2:58:48<00:00, 10.73s/it] "
     ]
    },
    {
     "name": "stdout",
     "output_type": "stream",
     "text": [
      " === Мощность бустрэпа при эффекте в группу Б в 1.0% : 33.8%\n",
      " === Мощность бустрэпа при эффекте в группу Б в 3.0% : 99.3%\n",
      " === Мощность бустрэпа при эффекте в группу Б в 5.0% : 1e+02%\n"
     ]
    },
    {
     "name": "stderr",
     "output_type": "stream",
     "text": [
      "\n"
     ]
    }
   ],
   "source": [
    "EFFECTS = [0.01, 0.03, 0.05]\n",
    "\n",
    "corrections = [[] for _ in range(len(EFFECTS))]\n",
    "diff_values = [[] for _ in range(len(EFFECTS))]\n",
    "\n",
    "for _ in tqdm(range(ITER_BOOTSTRAP)):\n",
    "    # create salt\n",
    "    salt = salt_generator()\n",
    "\n",
    "    # split on two groups\n",
    "    new_df = groups_splitter(\n",
    "        df=week2_prep.copy(),\n",
    "        columns=[\"user_id\", \"total_dur\", \"group\"],\n",
    "        user_salt=salt\n",
    "    )\n",
    "\n",
    "    # obtain the values of the studied quantity by group\n",
    "    vec_a = new_df[new_df[\"group\"] == \"A\"][\"total_dur\"]\n",
    "    vec_b = new_df[new_df[\"group\"] == \"B\"][\"total_dur\"]\n",
    "\n",
    "    # add effect to metric for group B\n",
    "    vecs_b = []\n",
    "    mean_b = vec_b.mean()\n",
    "    for effect in EFFECTS:\n",
    "        vecs_b.append(\n",
    "            vec_b + generate_tweedie(effect * mean_b, len(vec_b))\n",
    "        ) \n",
    "    del vec_b\n",
    "\n",
    "    # get values on bootstrap\n",
    "    sample_a_mean = calc_bootstrap_mean(arr=vec_a, size=NUMBER_GENERATE_PSEUDO_SAMPLES)\n",
    "\n",
    "    samples_b_mean = []\n",
    "    for vec_b in vecs_b:\n",
    "        samples_b_mean.append(\n",
    "            calc_bootstrap_mean(arr=vec_b, size=NUMBER_GENERATE_PSEUDO_SAMPLES)\n",
    "        )\n",
    "    del vecs_b\n",
    "\n",
    "    for idx, sample_b_mean in enumerate(samples_b_mean): \n",
    "        diff_values[idx].append(sample_a_mean - sample_b_mean)\n",
    "    del samples_b_mean\n",
    "\n",
    "    # calculate the 95% confidence interval for the difference in means\n",
    "    for idx, diff_v in enumerate(diff_values): \n",
    "        left_side, right_side = np.percentile(\n",
    "            diff_v[-1], \n",
    "            [100 * ALPHA / 2., 100 * (1 - ALPHA / 2.)]\n",
    "        )\n",
    "        corrections[idx].append(not left_side <= 0 <= right_side)\n",
    "\n",
    "powers = {}\n",
    "for idx, correct in enumerate(corrections):\n",
    "    power = np.mean(correct)\n",
    "    powers[f\"effect_{EFFECTS[idx] * 100}%\"] = [power]\n",
    "    print(f\" === Мощность бустрэпа при эффекте в группу Б в {EFFECTS[idx] * 100}% : {power * 100:0.3}%\")"
   ]
  },
  {
   "cell_type": "code",
   "execution_count": 26,
   "metadata": {},
   "outputs": [
    {
     "data": {
      "text/html": [
       "<div>\n",
       "<style scoped>\n",
       "    .dataframe tbody tr th:only-of-type {\n",
       "        vertical-align: middle;\n",
       "    }\n",
       "\n",
       "    .dataframe tbody tr th {\n",
       "        vertical-align: top;\n",
       "    }\n",
       "\n",
       "    .dataframe thead th {\n",
       "        text-align: right;\n",
       "    }\n",
       "</style>\n",
       "<table border=\"1\" class=\"dataframe\">\n",
       "  <thead>\n",
       "    <tr style=\"text-align: right;\">\n",
       "      <th></th>\n",
       "      <th>effect_1.0%</th>\n",
       "      <th>effect_3.0%</th>\n",
       "      <th>effect_5.0%</th>\n",
       "    </tr>\n",
       "  </thead>\n",
       "  <tbody>\n",
       "    <tr>\n",
       "      <th>Мощность</th>\n",
       "      <td>0.338</td>\n",
       "      <td>0.993</td>\n",
       "      <td>1.0</td>\n",
       "    </tr>\n",
       "  </tbody>\n",
       "</table>\n",
       "</div>"
      ],
      "text/plain": [
       "          effect_1.0%  effect_3.0%  effect_5.0%\n",
       "Мощность        0.338        0.993          1.0"
      ]
     },
     "execution_count": 26,
     "metadata": {},
     "output_type": "execute_result"
    }
   ],
   "source": [
    "result_power = pd.DataFrame(powers, index=[\"Мощность\"])\n",
    "powers = result_power.loc[\"Мощность\"].values\n",
    "result_power"
   ]
  },
  {
   "cell_type": "code",
   "execution_count": 27,
   "metadata": {},
   "outputs": [
    {
     "data": {
      "image/png": "[encoded data removed]",
      "text/plain": [
       "<Figure size 640x480 with 1 Axes>"
      ]
     },
     "metadata": {},
     "output_type": "display_data"
    }
   ],
   "source": [
    "plt.plot(\n",
    "    EFFECTS,\n",
    "    powers,\n",
    "    marker=\"o\"\n",
    ")\n",
    "plt.xlabel(\"effect\")\n",
    "plt.ylabel(\"power\")\n",
    "plt.grid();"
   ]
  },
  {
   "cell_type": "markdown",
   "metadata": {},
   "source": [
    "**Значения мощности для 3% и 5% имеют хорошие значения, которая нас могут удовлетворить**"
   ]
  },
  {
   "cell_type": "markdown",
   "metadata": {},
   "source": [
    "### 4. Посчитайте MDE, который можно зафиксировать на 2х неделях. В качестве alpha и beta подставьте ваши вычисленные ошибки 1 и 2 рода. Учитывайте что у нас формула для MDE работает для t-test или z-test"
   ]
  },
  {
   "cell_type": "code",
   "execution_count": 28,
   "metadata": {},
   "outputs": [],
   "source": [
    "def get_mde(metric_vec, alpha=0.05, beta=0.2):\n",
    "    \n",
    "    metric_mean, metric_std, metric_num = metric_vec.mean(), metric_vec.std(), len(metric_vec)\n",
    "    \n",
    "    z_alpha = stats.norm.ppf(1 - (alpha / 2), loc=0, scale=1)\n",
    "    z_beta = stats.norm.ppf(1 - beta, loc=0, scale=1)\n",
    "    \n",
    "    mde = (z_alpha + z_beta) * metric_std / np.sqrt(metric_num)\n",
    "    \n",
    "    return mde * 100 / metric_mean"
   ]
  },
  {
   "cell_type": "markdown",
   "metadata": {},
   "source": [
    "Формула для расчета mde, которая была реазилована выше, работает только для t-test и z-test, но в наших расчетах для корректности и мощности использовался бустреп, поэтому следут её изменить.\n",
    "\n",
    "Так как корректность была получена около 5% и нас удовлетворит мощность равная 0.8, то можно воспользоваться расчитынными мощностями из пункта выше, так как они были расчитаны для уровня значимости alpha = 0.05. Сделаем линейную апроксимацию между значениями эффекта 0.01 и 0.03, тем самым мы сможем найти эффект при мощности 0.8, который и будет являтся MDE (минимальный детектируемый эффект)"
   ]
  },
  {
   "cell_type": "code",
   "execution_count": 30,
   "metadata": {},
   "outputs": [
    {
     "name": "stdout",
     "output_type": "stream",
     "text": [
      "MDE = 2.4107%\n"
     ]
    }
   ],
   "source": [
    "k = (powers[1] - powers[0]) / (EFFECTS[1] - EFFECTS[0])\n",
    "b = powers[1] - EFFECTS[1] * k\n",
    "\n",
    "power_needed = 0.8\n",
    "mde = (power_needed - b) / k\n",
    "print(f\"MDE = {mde * 100:0.5}%\")"
   ]
  },
  {
   "cell_type": "code",
   "execution_count": 47,
   "metadata": {},
   "outputs": [
    {
     "data": {
      "text/plain": [
       "0.9333254083412641"
      ]
     },
     "execution_count": 47,
     "metadata": {},
     "output_type": "execute_result"
    }
   ],
   "source": [
    "# для интереса рассмотрим mde посчитанный по формуле с семинара\n",
    "get_mde(week2_prep[\"total_dur\"], alpha=0.06, beta=0.2)"
   ]
  },
  {
   "cell_type": "markdown",
   "metadata": {},
   "source": [
    "# A/B тест"
   ]
  },
  {
   "cell_type": "markdown",
   "metadata": {},
   "source": [
    "### Занулим для всех пользователей total_dur, у которых total_dur < 500"
   ]
  },
  {
   "cell_type": "code",
   "execution_count": 34,
   "metadata": {},
   "outputs": [
    {
     "data": {
      "text/html": [
       "<div>\n",
       "<style scoped>\n",
       "    .dataframe tbody tr th:only-of-type {\n",
       "        vertical-align: middle;\n",
       "    }\n",
       "\n",
       "    .dataframe tbody tr th {\n",
       "        vertical-align: top;\n",
       "    }\n",
       "\n",
       "    .dataframe thead th {\n",
       "        text-align: right;\n",
       "    }\n",
       "</style>\n",
       "<table border=\"1\" class=\"dataframe\">\n",
       "  <thead>\n",
       "    <tr style=\"text-align: right;\">\n",
       "      <th></th>\n",
       "      <th>user_id</th>\n",
       "      <th>total_dur</th>\n",
       "    </tr>\n",
       "  </thead>\n",
       "  <tbody>\n",
       "    <tr>\n",
       "      <th>0</th>\n",
       "      <td>1</td>\n",
       "      <td>21172</td>\n",
       "    </tr>\n",
       "    <tr>\n",
       "      <th>1</th>\n",
       "      <td>3</td>\n",
       "      <td>64654</td>\n",
       "    </tr>\n",
       "    <tr>\n",
       "      <th>2</th>\n",
       "      <td>9</td>\n",
       "      <td>0</td>\n",
       "    </tr>\n",
       "    <tr>\n",
       "      <th>3</th>\n",
       "      <td>12</td>\n",
       "      <td>5929</td>\n",
       "    </tr>\n",
       "    <tr>\n",
       "      <th>4</th>\n",
       "      <td>14</td>\n",
       "      <td>10324</td>\n",
       "    </tr>\n",
       "    <tr>\n",
       "      <th>266076</th>\n",
       "      <td>1097536</td>\n",
       "      <td>0</td>\n",
       "    </tr>\n",
       "    <tr>\n",
       "      <th>266077</th>\n",
       "      <td>1097540</td>\n",
       "      <td>0</td>\n",
       "    </tr>\n",
       "    <tr>\n",
       "      <th>266078</th>\n",
       "      <td>1097544</td>\n",
       "      <td>16478</td>\n",
       "    </tr>\n",
       "    <tr>\n",
       "      <th>266079</th>\n",
       "      <td>1097545</td>\n",
       "      <td>0</td>\n",
       "    </tr>\n",
       "    <tr>\n",
       "      <th>266080</th>\n",
       "      <td>1097549</td>\n",
       "      <td>0</td>\n",
       "    </tr>\n",
       "  </tbody>\n",
       "</table>\n",
       "</div>"
      ],
      "text/plain": [
       "        user_id  total_dur\n",
       "0             1      21172\n",
       "1             3      64654\n",
       "2             9          0\n",
       "3            12       5929\n",
       "4            14      10324\n",
       "266076  1097536          0\n",
       "266077  1097540          0\n",
       "266078  1097544      16478\n",
       "266079  1097545          0\n",
       "266080  1097549          0"
      ]
     },
     "execution_count": 34,
     "metadata": {},
     "output_type": "execute_result"
    }
   ],
   "source": [
    "week2_ab = week2.copy()\n",
    "week2_ab.loc[week2_ab[\"total_dur\"] < 500, \"total_dur\"] = 0\n",
    "pd.concat([week2_ab.head(), week2_ab.tail()])"
   ]
  },
  {
   "cell_type": "markdown",
   "metadata": {},
   "source": [
    "### Разобем пользователей на две равные группы, используйте функцию groups_splitter и соль = 'kiontestmodel20210805'"
   ]
  },
  {
   "cell_type": "code",
   "execution_count": 35,
   "metadata": {},
   "outputs": [
    {
     "data": {
      "text/html": [
       "<div>\n",
       "<style scoped>\n",
       "    .dataframe tbody tr th:only-of-type {\n",
       "        vertical-align: middle;\n",
       "    }\n",
       "\n",
       "    .dataframe tbody tr th {\n",
       "        vertical-align: top;\n",
       "    }\n",
       "\n",
       "    .dataframe thead th {\n",
       "        text-align: right;\n",
       "    }\n",
       "</style>\n",
       "<table border=\"1\" class=\"dataframe\">\n",
       "  <thead>\n",
       "    <tr style=\"text-align: right;\">\n",
       "      <th></th>\n",
       "      <th>user_id</th>\n",
       "      <th>total_dur</th>\n",
       "      <th>group</th>\n",
       "    </tr>\n",
       "  </thead>\n",
       "  <tbody>\n",
       "    <tr>\n",
       "      <th>0</th>\n",
       "      <td>1</td>\n",
       "      <td>21172</td>\n",
       "      <td>B</td>\n",
       "    </tr>\n",
       "    <tr>\n",
       "      <th>1</th>\n",
       "      <td>3</td>\n",
       "      <td>64654</td>\n",
       "      <td>A</td>\n",
       "    </tr>\n",
       "    <tr>\n",
       "      <th>2</th>\n",
       "      <td>9</td>\n",
       "      <td>0</td>\n",
       "      <td>A</td>\n",
       "    </tr>\n",
       "    <tr>\n",
       "      <th>3</th>\n",
       "      <td>12</td>\n",
       "      <td>5929</td>\n",
       "      <td>A</td>\n",
       "    </tr>\n",
       "    <tr>\n",
       "      <th>4</th>\n",
       "      <td>14</td>\n",
       "      <td>10324</td>\n",
       "      <td>A</td>\n",
       "    </tr>\n",
       "    <tr>\n",
       "      <th>266076</th>\n",
       "      <td>1097536</td>\n",
       "      <td>0</td>\n",
       "      <td>A</td>\n",
       "    </tr>\n",
       "    <tr>\n",
       "      <th>266077</th>\n",
       "      <td>1097540</td>\n",
       "      <td>0</td>\n",
       "      <td>B</td>\n",
       "    </tr>\n",
       "    <tr>\n",
       "      <th>266078</th>\n",
       "      <td>1097544</td>\n",
       "      <td>16478</td>\n",
       "      <td>A</td>\n",
       "    </tr>\n",
       "    <tr>\n",
       "      <th>266079</th>\n",
       "      <td>1097545</td>\n",
       "      <td>0</td>\n",
       "      <td>B</td>\n",
       "    </tr>\n",
       "    <tr>\n",
       "      <th>266080</th>\n",
       "      <td>1097549</td>\n",
       "      <td>0</td>\n",
       "      <td>A</td>\n",
       "    </tr>\n",
       "  </tbody>\n",
       "</table>\n",
       "</div>"
      ],
      "text/plain": [
       "        user_id  total_dur group\n",
       "0             1      21172     B\n",
       "1             3      64654     A\n",
       "2             9          0     A\n",
       "3            12       5929     A\n",
       "4            14      10324     A\n",
       "266076  1097536          0     A\n",
       "266077  1097540          0     B\n",
       "266078  1097544      16478     A\n",
       "266079  1097545          0     B\n",
       "266080  1097549          0     A"
      ]
     },
     "execution_count": 35,
     "metadata": {},
     "output_type": "execute_result"
    }
   ],
   "source": [
    "salt = \"kiontestmodel20210805\"\n",
    "ab_df = groups_splitter(df=week2_ab, columns=[\"user_id\", \"total_dur\", \"group\"], user_salt=\"salt\")\n",
    "pd.concat([ab_df.head(), ab_df.tail()])"
   ]
  },
  {
   "cell_type": "code",
   "execution_count": 36,
   "metadata": {},
   "outputs": [
    {
     "data": {
      "image/png": "[encoded data removed]",
      "text/plain": [
       "<Figure size 640x480 with 1 Axes>"
      ]
     },
     "metadata": {},
     "output_type": "display_data"
    }
   ],
   "source": [
    "ab_df[\"group\"].value_counts().plot.barh()\n",
    "plt.title(\"Распределение по группам\");"
   ]
  },
  {
   "cell_type": "markdown",
   "metadata": {},
   "source": [
    "**Каждый пользователь был отнесен только к одной группе**"
   ]
  },
  {
   "cell_type": "markdown",
   "metadata": {},
   "source": [
    "### ПРЕДПОЛОЖИМ, что модель в группе В показала себя лучше, чем в группе А на 2.5%, причем эффект распространился неравномерно и преимущественно на 10% самых смотрящих пользователей, докиньте такой эффект самостоятельно. Нужно метрику total_dur увеличить на 2.5% для 10% пользователей с самым продолжительным смотрением."
   ]
  },
  {
   "cell_type": "code",
   "execution_count": 37,
   "metadata": {},
   "outputs": [
    {
     "name": "stdout",
     "output_type": "stream",
     "text": [
      "Количество пользователей в 10% от всех пользователей: 13282\n"
     ]
    },
    {
     "name": "stderr",
     "output_type": "stream",
     "text": [
      "/var/folders/9p/k5cfwtns6lgd7w8zs7srrj380000gn/T/ipykernel_90025/3394413470.py:14: FutureWarning: Setting an item of incompatible dtype is deprecated and will raise in a future error of pandas. Value '[ 48441.5    89649.575  48890.45  ... 248961.225 253760.275  63301.95 ]' has dtype incompatible with int64, please explicitly cast to a compatible dtype first.\n",
      "  ab_df.loc[ab_df[\"user_id\"].isin(uses_id_from_10_percent), \"total_dur_ab\"] *= 1.025\n"
     ]
    },
    {
     "data": {
      "text/html": [
       "<div>\n",
       "<style scoped>\n",
       "    .dataframe tbody tr th:only-of-type {\n",
       "        vertical-align: middle;\n",
       "    }\n",
       "\n",
       "    .dataframe tbody tr th {\n",
       "        vertical-align: top;\n",
       "    }\n",
       "\n",
       "    .dataframe thead th {\n",
       "        text-align: right;\n",
       "    }\n",
       "</style>\n",
       "<table border=\"1\" class=\"dataframe\">\n",
       "  <thead>\n",
       "    <tr style=\"text-align: right;\">\n",
       "      <th></th>\n",
       "      <th>user_id</th>\n",
       "      <th>total_dur</th>\n",
       "      <th>group</th>\n",
       "      <th>total_dur_ab</th>\n",
       "    </tr>\n",
       "  </thead>\n",
       "  <tbody>\n",
       "    <tr>\n",
       "      <th>0</th>\n",
       "      <td>1</td>\n",
       "      <td>21172</td>\n",
       "      <td>B</td>\n",
       "      <td>21172.0</td>\n",
       "    </tr>\n",
       "    <tr>\n",
       "      <th>1</th>\n",
       "      <td>3</td>\n",
       "      <td>64654</td>\n",
       "      <td>A</td>\n",
       "      <td>64654.0</td>\n",
       "    </tr>\n",
       "    <tr>\n",
       "      <th>2</th>\n",
       "      <td>9</td>\n",
       "      <td>0</td>\n",
       "      <td>A</td>\n",
       "      <td>0.0</td>\n",
       "    </tr>\n",
       "    <tr>\n",
       "      <th>3</th>\n",
       "      <td>12</td>\n",
       "      <td>5929</td>\n",
       "      <td>A</td>\n",
       "      <td>5929.0</td>\n",
       "    </tr>\n",
       "    <tr>\n",
       "      <th>4</th>\n",
       "      <td>14</td>\n",
       "      <td>10324</td>\n",
       "      <td>A</td>\n",
       "      <td>10324.0</td>\n",
       "    </tr>\n",
       "    <tr>\n",
       "      <th>0</th>\n",
       "      <td>1</td>\n",
       "      <td>21172</td>\n",
       "      <td>B</td>\n",
       "      <td>21172.0</td>\n",
       "    </tr>\n",
       "    <tr>\n",
       "      <th>1</th>\n",
       "      <td>3</td>\n",
       "      <td>64654</td>\n",
       "      <td>A</td>\n",
       "      <td>64654.0</td>\n",
       "    </tr>\n",
       "    <tr>\n",
       "      <th>2</th>\n",
       "      <td>9</td>\n",
       "      <td>0</td>\n",
       "      <td>A</td>\n",
       "      <td>0.0</td>\n",
       "    </tr>\n",
       "    <tr>\n",
       "      <th>3</th>\n",
       "      <td>12</td>\n",
       "      <td>5929</td>\n",
       "      <td>A</td>\n",
       "      <td>5929.0</td>\n",
       "    </tr>\n",
       "    <tr>\n",
       "      <th>4</th>\n",
       "      <td>14</td>\n",
       "      <td>10324</td>\n",
       "      <td>A</td>\n",
       "      <td>10324.0</td>\n",
       "    </tr>\n",
       "  </tbody>\n",
       "</table>\n",
       "</div>"
      ],
      "text/plain": [
       "   user_id  total_dur group  total_dur_ab\n",
       "0        1      21172     B       21172.0\n",
       "1        3      64654     A       64654.0\n",
       "2        9          0     A           0.0\n",
       "3       12       5929     A        5929.0\n",
       "4       14      10324     A       10324.0\n",
       "0        1      21172     B       21172.0\n",
       "1        3      64654     A       64654.0\n",
       "2        9          0     A           0.0\n",
       "3       12       5929     A        5929.0\n",
       "4       14      10324     A       10324.0"
      ]
     },
     "execution_count": 37,
     "metadata": {},
     "output_type": "execute_result"
    }
   ],
   "source": [
    "num_user_id_10_percent = int(ab_df[ab_df[\"group\"] == \"B\"][\"user_id\"].nunique() * 0.1)\n",
    "print(f\"Количество пользователей в 10% от всех пользователей: {num_user_id_10_percent}\")\n",
    "\n",
    "# 1. Сортируем пользователей из группы Б по продолжительности просмотра в порядке убывания\n",
    "# 2. Берем user_id из топ 10% всех пользователей\n",
    "uses_id_from_10_percent = (\n",
    "    ab_df[ab_df[\"group\"] == \"B\"].sort_values(\"total_dur\", ascending=False)[\"user_id\"]\n",
    "    .iloc[: num_user_id_10_percent].tolist()\n",
    ")\n",
    "\n",
    "assert len(uses_id_from_10_percent) == num_user_id_10_percent\n",
    "\n",
    "ab_df[\"total_dur_ab\"] = ab_df[\"total_dur\"].copy()\n",
    "ab_df.loc[ab_df[\"user_id\"].isin(uses_id_from_10_percent), \"total_dur_ab\"] *= 1.025\n",
    "\n",
    "pd.concat([ab_df.head(), ab_df.head()])"
   ]
  },
  {
   "cell_type": "markdown",
   "metadata": {},
   "source": [
    "Проверим, как изменилась метрика для 10 случайных пользователей из группы B и 10 %:"
   ]
  },
  {
   "cell_type": "code",
   "execution_count": 38,
   "metadata": {},
   "outputs": [
    {
     "data": {
      "text/html": [
       "<div>\n",
       "<style scoped>\n",
       "    .dataframe tbody tr th:only-of-type {\n",
       "        vertical-align: middle;\n",
       "    }\n",
       "\n",
       "    .dataframe tbody tr th {\n",
       "        vertical-align: top;\n",
       "    }\n",
       "\n",
       "    .dataframe thead th {\n",
       "        text-align: right;\n",
       "    }\n",
       "</style>\n",
       "<table border=\"1\" class=\"dataframe\">\n",
       "  <thead>\n",
       "    <tr style=\"text-align: right;\">\n",
       "      <th></th>\n",
       "      <th>user_id</th>\n",
       "      <th>total_dur</th>\n",
       "      <th>group</th>\n",
       "      <th>total_dur_ab</th>\n",
       "    </tr>\n",
       "  </thead>\n",
       "  <tbody>\n",
       "    <tr>\n",
       "      <th>25721</th>\n",
       "      <td>107421</td>\n",
       "      <td>60311</td>\n",
       "      <td>B</td>\n",
       "      <td>61818.775</td>\n",
       "    </tr>\n",
       "    <tr>\n",
       "      <th>34019</th>\n",
       "      <td>141693</td>\n",
       "      <td>170006</td>\n",
       "      <td>B</td>\n",
       "      <td>174256.150</td>\n",
       "    </tr>\n",
       "    <tr>\n",
       "      <th>38858</th>\n",
       "      <td>161674</td>\n",
       "      <td>72047</td>\n",
       "      <td>B</td>\n",
       "      <td>73848.175</td>\n",
       "    </tr>\n",
       "    <tr>\n",
       "      <th>93679</th>\n",
       "      <td>388066</td>\n",
       "      <td>656550</td>\n",
       "      <td>B</td>\n",
       "      <td>672963.750</td>\n",
       "    </tr>\n",
       "    <tr>\n",
       "      <th>119118</th>\n",
       "      <td>493076</td>\n",
       "      <td>82140</td>\n",
       "      <td>B</td>\n",
       "      <td>84193.500</td>\n",
       "    </tr>\n",
       "    <tr>\n",
       "      <th>152648</th>\n",
       "      <td>631330</td>\n",
       "      <td>58775</td>\n",
       "      <td>B</td>\n",
       "      <td>60244.375</td>\n",
       "    </tr>\n",
       "    <tr>\n",
       "      <th>156759</th>\n",
       "      <td>648242</td>\n",
       "      <td>75256</td>\n",
       "      <td>B</td>\n",
       "      <td>77137.400</td>\n",
       "    </tr>\n",
       "    <tr>\n",
       "      <th>217546</th>\n",
       "      <td>897035</td>\n",
       "      <td>52244</td>\n",
       "      <td>B</td>\n",
       "      <td>53550.100</td>\n",
       "    </tr>\n",
       "    <tr>\n",
       "      <th>220784</th>\n",
       "      <td>910003</td>\n",
       "      <td>50112</td>\n",
       "      <td>B</td>\n",
       "      <td>51364.800</td>\n",
       "    </tr>\n",
       "    <tr>\n",
       "      <th>240167</th>\n",
       "      <td>990494</td>\n",
       "      <td>112880</td>\n",
       "      <td>B</td>\n",
       "      <td>115702.000</td>\n",
       "    </tr>\n",
       "  </tbody>\n",
       "</table>\n",
       "</div>"
      ],
      "text/plain": [
       "        user_id  total_dur group  total_dur_ab\n",
       "25721    107421      60311     B     61818.775\n",
       "34019    141693     170006     B    174256.150\n",
       "38858    161674      72047     B     73848.175\n",
       "93679    388066     656550     B    672963.750\n",
       "119118   493076      82140     B     84193.500\n",
       "152648   631330      58775     B     60244.375\n",
       "156759   648242      75256     B     77137.400\n",
       "217546   897035      52244     B     53550.100\n",
       "220784   910003      50112     B     51364.800\n",
       "240167   990494     112880     B    115702.000"
      ]
     },
     "execution_count": 38,
     "metadata": {},
     "output_type": "execute_result"
    }
   ],
   "source": [
    "ab_df[\n",
    "    ab_df[\"user_id\"].isin(np.random.choice(uses_id_from_10_percent, size=10, replace=False))\n",
    "]"
   ]
  },
  {
   "cell_type": "markdown",
   "metadata": {},
   "source": [
    "**средний `total_dur` в группах до AB:**"
   ]
  },
  {
   "cell_type": "code",
   "execution_count": 39,
   "metadata": {},
   "outputs": [
    {
     "data": {
      "text/html": [
       "<div>\n",
       "<style scoped>\n",
       "    .dataframe tbody tr th:only-of-type {\n",
       "        vertical-align: middle;\n",
       "    }\n",
       "\n",
       "    .dataframe tbody tr th {\n",
       "        vertical-align: top;\n",
       "    }\n",
       "\n",
       "    .dataframe thead th {\n",
       "        text-align: right;\n",
       "    }\n",
       "</style>\n",
       "<table border=\"1\" class=\"dataframe\">\n",
       "  <thead>\n",
       "    <tr style=\"text-align: right;\">\n",
       "      <th></th>\n",
       "      <th>group</th>\n",
       "      <th>total_dur</th>\n",
       "    </tr>\n",
       "  </thead>\n",
       "  <tbody>\n",
       "    <tr>\n",
       "      <th>0</th>\n",
       "      <td>A</td>\n",
       "      <td>21483.851851</td>\n",
       "    </tr>\n",
       "    <tr>\n",
       "      <th>1</th>\n",
       "      <td>B</td>\n",
       "      <td>21286.489147</td>\n",
       "    </tr>\n",
       "  </tbody>\n",
       "</table>\n",
       "</div>"
      ],
      "text/plain": [
       "  group     total_dur\n",
       "0     A  21483.851851\n",
       "1     B  21286.489147"
      ]
     },
     "execution_count": 39,
     "metadata": {},
     "output_type": "execute_result"
    }
   ],
   "source": [
    "ab_df.groupby(\"group\", as_index=False)[\"total_dur\"].agg(\"mean\")"
   ]
  },
  {
   "cell_type": "markdown",
   "metadata": {},
   "source": [
    "### Посчитайте результат такого теста и сделайте выводы"
   ]
  },
  {
   "cell_type": "markdown",
   "metadata": {},
   "source": [
    "**Для подведения результатов AB-теста применим бутстрем**"
   ]
  },
  {
   "cell_type": "markdown",
   "metadata": {},
   "source": [
    "**НЕ ЗАБЫВАЕМ, что для дезайна АБ удалялись выбросы**"
   ]
  },
  {
   "cell_type": "code",
   "execution_count": 40,
   "metadata": {},
   "outputs": [
    {
     "data": {
      "text/plain": [
       "count    2.660810e+05\n",
       "mean     2.155322e+04\n",
       "std      7.491525e+04\n",
       "min      0.000000e+00\n",
       "25%      8.800000e+02\n",
       "50%      5.739000e+03\n",
       "75%      1.830700e+04\n",
       "max      9.975096e+06\n",
       "Name: total_dur_ab, dtype: float64"
      ]
     },
     "execution_count": 40,
     "metadata": {},
     "output_type": "execute_result"
    }
   ],
   "source": [
    "ab_df[\"total_dur_ab\"].describe()"
   ]
  },
  {
   "cell_type": "code",
   "execution_count": 41,
   "metadata": {},
   "outputs": [],
   "source": [
    "ab_df = ab_df[(ab_df['total_dur_ab'] < MAX_TOTAL_DUR)]"
   ]
  },
  {
   "cell_type": "markdown",
   "metadata": {},
   "source": [
    "**средний `total_dur` в группах после AB:**"
   ]
  },
  {
   "cell_type": "code",
   "execution_count": 42,
   "metadata": {},
   "outputs": [
    {
     "data": {
      "text/html": [
       "<div>\n",
       "<style scoped>\n",
       "    .dataframe tbody tr th:only-of-type {\n",
       "        vertical-align: middle;\n",
       "    }\n",
       "\n",
       "    .dataframe tbody tr th {\n",
       "        vertical-align: top;\n",
       "    }\n",
       "\n",
       "    .dataframe thead th {\n",
       "        text-align: right;\n",
       "    }\n",
       "</style>\n",
       "<table border=\"1\" class=\"dataframe\">\n",
       "  <thead>\n",
       "    <tr style=\"text-align: right;\">\n",
       "      <th></th>\n",
       "      <th>group</th>\n",
       "      <th>total_dur_ab</th>\n",
       "    </tr>\n",
       "  </thead>\n",
       "  <tbody>\n",
       "    <tr>\n",
       "      <th>0</th>\n",
       "      <td>A</td>\n",
       "      <td>15784.567700</td>\n",
       "    </tr>\n",
       "    <tr>\n",
       "      <th>1</th>\n",
       "      <td>B</td>\n",
       "      <td>15961.209207</td>\n",
       "    </tr>\n",
       "  </tbody>\n",
       "</table>\n",
       "</div>"
      ],
      "text/plain": [
       "  group  total_dur_ab\n",
       "0     A  15784.567700\n",
       "1     B  15961.209207"
      ]
     },
     "execution_count": 42,
     "metadata": {},
     "output_type": "execute_result"
    }
   ],
   "source": [
    "ab_df.groupby(\"group\", as_index=False)[\"total_dur_ab\"].agg(\"mean\")"
   ]
  },
  {
   "cell_type": "code",
   "execution_count": 43,
   "metadata": {},
   "outputs": [
    {
     "name": "stdout",
     "output_type": "stream",
     "text": [
      "ВЫВОДЫ:\n",
      "\n",
      " ====================== \n",
      "При уровне значимости = 0.05 / при уровне доверия = 0.95:\n",
      "\n",
      "H0 принимается, то есть среднии значения группы А и Б не имеют статистически значимых отличий\n",
      " - P-value = 0.084 > 0.05\n",
      "\n",
      "\n",
      " - Границы доверительного интервала: левая = -386.61926639570976 - правая = 24.89297608454\n"
     ]
    }
   ],
   "source": [
    "# 1. Получаем группы А и Б\n",
    "group_a = ab_df[ab_df[\"group\"] == \"A\"][\"total_dur_ab\"]\n",
    "group_b = ab_df[ab_df[\"group\"] == \"B\"][\"total_dur_ab\"]\n",
    "\n",
    "# 2. 1000 раз генерируем подвыборки того же размера, что исходные группы контроля и эксперимента\n",
    "# 3. Считаем среднее для каждой сгенерированной подвыборки\n",
    "# get values on bootstrap\n",
    "sample_a_mean = calc_bootstrap_mean(arr=group_a, size=1000)\n",
    "sample_b_mean = calc_bootstrap_mean(arr=group_b, size=1000)\n",
    "\n",
    "# 4. Вычисляем разность на каждой из сгенерированных пар выборок\n",
    "differences = sample_a_mean - sample_b_mean\n",
    "\n",
    "# 5. Cтроим доверительный интервал для разностей из п.4 с уровнем значимости alpha = 0.5\n",
    "# calculate the 95% confidence interval for the difference in means\n",
    "ALPHA = 0.05\n",
    "left_side, right_side = np.percentile(\n",
    "    differences, \n",
    "    [\n",
    "        100 * ALPHA / 2., \n",
    "        100 * (1 - ALPHA / 2.)\n",
    "    ]\n",
    ")\n",
    "\n",
    "# 6. Смотрим доверительный интервал содержит ноль или нет\n",
    "include_zero = left_side <= 0 <= right_side\n",
    "p_value = get_p_value(dist=differences)\n",
    "\n",
    "print(\"ВЫВОДЫ:\\n\")\n",
    "print(\" ====================== \")\n",
    "print(f\"При уровне значимости = {ALPHA} / при уровне доверия = {1 - ALPHA}:\\n\")\n",
    "if include_zero:\n",
    "    print(\n",
    "        f\"H0 принимается, то есть среднии значения группы А и Б не имеют статистически значимых отличий\\n\"\n",
    "        f\" - P-value = {p_value} > {ALPHA}\\n\"\n",
    "    )\n",
    "    print()\n",
    "else:\n",
    "    print(\n",
    "        f\"H0 отвергается, то есть среднии значения группы А и Б имеют статистически значимые отличия\\n\"\n",
    "        f\" - P-value = {p_value} < {ALPHA}\\n\"\n",
    "    )\n",
    "\n",
    "print(\n",
    "    f\" - Границы доверительного интервала: левая = {left_side} - правая = {right_side}\"\n",
    ")"
   ]
  },
  {
   "cell_type": "markdown",
   "metadata": {},
   "source": [
    "**Эффект, который был достигнут:**"
   ]
  },
  {
   "cell_type": "code",
   "execution_count": 44,
   "metadata": {},
   "outputs": [
    {
     "name": "stdout",
     "output_type": "stream",
     "text": [
      "Достигнутый эффект: 1.12%\n"
     ]
    }
   ],
   "source": [
    "mean_by_group = ab_df.groupby(\"group\", as_index=False)[\"total_dur_ab\"].agg(\"mean\")\n",
    "effect = (\n",
    "    mean_by_group[mean_by_group[\"group\"] == \"B\"][\"total_dur_ab\"].iloc[0] \n",
    "    / mean_by_group[mean_by_group[\"group\"] == \"A\"][\"total_dur_ab\"].iloc[0]\n",
    ")\n",
    "print(f\"Достигнутый эффект: {(effect - 1) * 100:0.3}%\")"
   ]
  },
  {
   "cell_type": "markdown",
   "metadata": {},
   "source": [
    "Такой эффект на АБ-тесте мы бы не смогли отловить, так как MDE, посчитанный выше составляет 2.4107%"
   ]
  },
  {
   "cell_type": "code",
   "execution_count": 45,
   "metadata": {},
   "outputs": [
    {
     "data": {
      "image/png": "[encoded data removed]",
      "text/plain": [
       "<Figure size 640x480 with 1 Axes>"
      ]
     },
     "metadata": {},
     "output_type": "display_data"
    }
   ],
   "source": [
    "plt.hist(group_a, alpha=0.5, color=\"pink\", label=\"группа A\", log=True)\n",
    "plt.hist(group_b, alpha=0.3, color=\"green\", label=\"группа B\", log=True)\n",
    "plt.legend()\n",
    "plt.title(\"Гистограмма метрики `total_dur` групп А и B\");"
   ]
  },
  {
   "cell_type": "code",
   "execution_count": 46,
   "metadata": {},
   "outputs": [
    {
     "data": {
      "image/png": "[encoded data removed]",
      "text/plain": [
       "<Figure size 640x480 with 1 Axes>"
      ]
     },
     "metadata": {},
     "output_type": "display_data"
    }
   ],
   "source": [
    "plt.hist(sample_a_mean, alpha=0.5, label=\"группа A\");\n",
    "plt.hist(sample_b_mean, alpha=0.5, label=\"группа B\")\n",
    "plt.legend()\n",
    "plt.title(\"Распределение средних значений на сгенерированных подвыборок для групп А и B\");"
   ]
  },
  {
   "cell_type": "code",
   "execution_count": null,
   "metadata": {},
   "outputs": [],
   "source": []
  }
 ],
 "metadata": {
  "kernelspec": {
   "display_name": "venv",
   "language": "python",
   "name": "python3"
  },
  "language_info": {
   "codemirror_mode": {
    "name": "ipython",
    "version": 3
   },
   "file_extension": ".py",
   "mimetype": "text/x-python",
   "name": "python",
   "nbconvert_exporter": "python",
   "pygments_lexer": "ipython3",
   "version": "3.10.8"
  },
  "orig_nbformat": 4
 },
 "nbformat": 4,
 "nbformat_minor": 2
}
