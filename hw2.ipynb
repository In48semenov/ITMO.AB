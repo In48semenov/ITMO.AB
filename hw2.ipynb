{
 "cells": [
  {
   "cell_type": "markdown",
   "metadata": {},
   "source": [
    "# ДЗ 2:\n",
    "\n",
    "1. Применить ранговую трансформацию (потом t-test) и сравнить с результатами по Манну-Уитни на:\n",
    "- метрике cart_added_cnt \n",
    "\n",
    "(1 балл)\n",
    "\n",
    "2. Реализовать cuped-трансформацию и сравнить мощность t-критерия на:\n",
    "- обычной метрике cart_added_cnt\n",
    "- логарфимированной метрике cart_added_cnt\n",
    "- метрике cart_added_cnt (а после подвергнуть ранговому преобразованию)\n",
    "\n",
    "(3 балла)\n",
    "\n",
    "В каждом случае фиксировать, на сколько сокращается дисперсия, проверять равны ли средние в группах в ковариате и совпадают ли средние в метрике до и после применения cuped\n",
    "\n",
    "3. Реализовать разбивку на бакеты, оценить t-критерием и сравнить с результатом без бакетирования:\n",
    "- на логнормальном распределении (сгенерированные данные)\n",
    "- на метрике cart_added_cnt\n",
    "\n",
    "(2 балла)\n",
    "\n",
    "4. Реализовать постстратификацию на данных shop_metrics_old для метрики cart_added_cnt:\n",
    "- на сочетании пола и возраста (возраст разбить на подгруппы: 18-24, 25-45, 46-60, 61-75, 76+)\n",
    "подсчитать результаты для случая без постстратификации и с постстратификацией\n",
    "- проверить мощность и корректность t-критерия для постстратифицированного случая\n",
    "\n",
    "(2 балла)"
   ]
  },
  {
   "cell_type": "code",
   "execution_count": 1,
   "metadata": {},
   "outputs": [],
   "source": [
    "import os\n",
    "import hashlib\n",
    "from base64 import b64encode\n",
    " \n",
    "import numpy as np\n",
    "import pandas as pd\n",
    "import seaborn as sns\n",
    "import matplotlib.pyplot as plt\n",
    "import scipy\n",
    "from scipy import stats\n",
    "from tqdm import tqdm"
   ]
  },
  {
   "cell_type": "code",
   "execution_count": 2,
   "metadata": {},
   "outputs": [],
   "source": [
    "def salt_generator() -> str:\n",
    "    \"\"\"\n",
    "    Generates a random salt value.\n",
    "\n",
    "    Returns:\n",
    "        str: The base64 encoded salt value as a string.\n",
    "    \"\"\"\n",
    "    salt = os.urandom(8)\n",
    "    return b64encode(salt).decode('ascii')\n",
    "\n",
    "\n",
    "def groups_splitter(df: pd.DataFrame, columns: list[str], user_salt: str = None) -> pd.DataFrame:\n",
    "    \"\"\"\n",
    "    Splits the data into two groups based on the salt value.\n",
    "\n",
    "    Parameters:\n",
    "        df (pd.DataFrame): The dataframe to split.\n",
    "        columns (list[str]): The columns to split on.\n",
    "        salt (str): The salt value to use for the split.\n",
    "    \"\"\"\n",
    "    if user_salt is None:\n",
    "        salt = salt_generator()\n",
    "    else:\n",
    "        salt = user_salt\n",
    "\n",
    "    df['hash'] = ((df['user_id'].astype(str)) + '#' + salt).apply(lambda x: hashlib.sha256(x.encode('utf-8')).hexdigest())\n",
    "\n",
    "    df['group'] = ((df['hash'].str.slice(start=-6).apply(int, base=16) % 2).map(lambda x: 'A' if x == 0 else 'B'))\n",
    "\n",
    "    return df[columns].drop_duplicates()\n"
   ]
  },
  {
   "cell_type": "code",
   "execution_count": 3,
   "metadata": {},
   "outputs": [],
   "source": [
    "shop_metrics_new = pd.read_csv('./data_shop/shop_df_metrics_dec.csv').drop(columns='Unnamed: 0')\n",
    "shop_metrics_old = pd.read_csv('./data_shop/shop_df_metrics_sept.csv').drop(columns='Unnamed: 0')\n",
    "shop_users_info = pd.read_csv('./data_shop/shop_df_users.csv').drop(columns='Unnamed: 0')"
   ]
  },
  {
   "cell_type": "code",
   "execution_count": 4,
   "metadata": {},
   "outputs": [
    {
     "name": "stdout",
     "output_type": "stream",
     "text": [
      "(222521, 9)\n"
     ]
    },
    {
     "data": {
      "text/html": [
       "<div>\n",
       "<style scoped>\n",
       "    .dataframe tbody tr th:only-of-type {\n",
       "        vertical-align: middle;\n",
       "    }\n",
       "\n",
       "    .dataframe tbody tr th {\n",
       "        vertical-align: top;\n",
       "    }\n",
       "\n",
       "    .dataframe thead th {\n",
       "        text-align: right;\n",
       "    }\n",
       "</style>\n",
       "<table border=\"1\" class=\"dataframe\">\n",
       "  <thead>\n",
       "    <tr style=\"text-align: right;\">\n",
       "      <th></th>\n",
       "      <th>user_id</th>\n",
       "      <th>group</th>\n",
       "      <th>is_viewed</th>\n",
       "      <th>products_viewed_cnt</th>\n",
       "      <th>price_sum</th>\n",
       "      <th>is_cart_added</th>\n",
       "      <th>is_purchased</th>\n",
       "      <th>cart_added_cnt</th>\n",
       "      <th>purchased_cnt</th>\n",
       "    </tr>\n",
       "  </thead>\n",
       "  <tbody>\n",
       "    <tr>\n",
       "      <th>0</th>\n",
       "      <td>1515915625353230683</td>\n",
       "      <td>A</td>\n",
       "      <td>1</td>\n",
       "      <td>1</td>\n",
       "      <td>339.79</td>\n",
       "      <td>0.0</td>\n",
       "      <td>0.0</td>\n",
       "      <td>0</td>\n",
       "      <td>0</td>\n",
       "    </tr>\n",
       "    <tr>\n",
       "      <th>1</th>\n",
       "      <td>1515915625353234047</td>\n",
       "      <td>A</td>\n",
       "      <td>1</td>\n",
       "      <td>9</td>\n",
       "      <td>861.86</td>\n",
       "      <td>0.0</td>\n",
       "      <td>0.0</td>\n",
       "      <td>0</td>\n",
       "      <td>0</td>\n",
       "    </tr>\n",
       "    <tr>\n",
       "      <th>2</th>\n",
       "      <td>1515915625353236157</td>\n",
       "      <td>A</td>\n",
       "      <td>1</td>\n",
       "      <td>4</td>\n",
       "      <td>179.60</td>\n",
       "      <td>0.0</td>\n",
       "      <td>0.0</td>\n",
       "      <td>0</td>\n",
       "      <td>0</td>\n",
       "    </tr>\n",
       "    <tr>\n",
       "      <th>3</th>\n",
       "      <td>1515915625353294441</td>\n",
       "      <td>B</td>\n",
       "      <td>1</td>\n",
       "      <td>28</td>\n",
       "      <td>4283.04</td>\n",
       "      <td>0.0</td>\n",
       "      <td>0.0</td>\n",
       "      <td>0</td>\n",
       "      <td>0</td>\n",
       "    </tr>\n",
       "    <tr>\n",
       "      <th>4</th>\n",
       "      <td>1515915625353386199</td>\n",
       "      <td>B</td>\n",
       "      <td>1</td>\n",
       "      <td>1</td>\n",
       "      <td>20.98</td>\n",
       "      <td>0.0</td>\n",
       "      <td>0.0</td>\n",
       "      <td>0</td>\n",
       "      <td>0</td>\n",
       "    </tr>\n",
       "  </tbody>\n",
       "</table>\n",
       "</div>"
      ],
      "text/plain": [
       "               user_id group  is_viewed  products_viewed_cnt  price_sum  \\\n",
       "0  1515915625353230683     A          1                    1     339.79   \n",
       "1  1515915625353234047     A          1                    9     861.86   \n",
       "2  1515915625353236157     A          1                    4     179.60   \n",
       "3  1515915625353294441     B          1                   28    4283.04   \n",
       "4  1515915625353386199     B          1                    1      20.98   \n",
       "\n",
       "   is_cart_added  is_purchased  cart_added_cnt  purchased_cnt  \n",
       "0            0.0           0.0               0              0  \n",
       "1            0.0           0.0               0              0  \n",
       "2            0.0           0.0               0              0  \n",
       "3            0.0           0.0               0              0  \n",
       "4            0.0           0.0               0              0  "
      ]
     },
     "execution_count": 4,
     "metadata": {},
     "output_type": "execute_result"
    }
   ],
   "source": [
    "print(shop_metrics_new.shape)\n",
    "shop_metrics_new.head(5)"
   ]
  },
  {
   "cell_type": "code",
   "execution_count": 5,
   "metadata": {},
   "outputs": [
    {
     "name": "stdout",
     "output_type": "stream",
     "text": [
      "(406863, 9)\n"
     ]
    },
    {
     "data": {
      "text/html": [
       "<div>\n",
       "<style scoped>\n",
       "    .dataframe tbody tr th:only-of-type {\n",
       "        vertical-align: middle;\n",
       "    }\n",
       "\n",
       "    .dataframe tbody tr th {\n",
       "        vertical-align: top;\n",
       "    }\n",
       "\n",
       "    .dataframe thead th {\n",
       "        text-align: right;\n",
       "    }\n",
       "</style>\n",
       "<table border=\"1\" class=\"dataframe\">\n",
       "  <thead>\n",
       "    <tr style=\"text-align: right;\">\n",
       "      <th></th>\n",
       "      <th>user_id</th>\n",
       "      <th>group</th>\n",
       "      <th>is_viewed</th>\n",
       "      <th>products_viewed_cnt</th>\n",
       "      <th>price_sum</th>\n",
       "      <th>is_cart_added</th>\n",
       "      <th>is_purchased</th>\n",
       "      <th>cart_added_cnt</th>\n",
       "      <th>purchased_cnt</th>\n",
       "    </tr>\n",
       "  </thead>\n",
       "  <tbody>\n",
       "    <tr>\n",
       "      <th>0</th>\n",
       "      <td>1515915625353226922</td>\n",
       "      <td>B</td>\n",
       "      <td>1</td>\n",
       "      <td>1</td>\n",
       "      <td>76.48</td>\n",
       "      <td>0.0</td>\n",
       "      <td>0.0</td>\n",
       "      <td>0</td>\n",
       "      <td>0</td>\n",
       "    </tr>\n",
       "    <tr>\n",
       "      <th>1</th>\n",
       "      <td>1515915625353230067</td>\n",
       "      <td>A</td>\n",
       "      <td>1</td>\n",
       "      <td>1</td>\n",
       "      <td>28.98</td>\n",
       "      <td>0.0</td>\n",
       "      <td>0.0</td>\n",
       "      <td>0</td>\n",
       "      <td>0</td>\n",
       "    </tr>\n",
       "    <tr>\n",
       "      <th>2</th>\n",
       "      <td>1515915625353230683</td>\n",
       "      <td>A</td>\n",
       "      <td>1</td>\n",
       "      <td>10</td>\n",
       "      <td>592.21</td>\n",
       "      <td>0.0</td>\n",
       "      <td>0.0</td>\n",
       "      <td>0</td>\n",
       "      <td>0</td>\n",
       "    </tr>\n",
       "    <tr>\n",
       "      <th>3</th>\n",
       "      <td>1515915625353230922</td>\n",
       "      <td>A</td>\n",
       "      <td>1</td>\n",
       "      <td>1</td>\n",
       "      <td>274.40</td>\n",
       "      <td>0.0</td>\n",
       "      <td>0.0</td>\n",
       "      <td>0</td>\n",
       "      <td>0</td>\n",
       "    </tr>\n",
       "    <tr>\n",
       "      <th>4</th>\n",
       "      <td>1515915625353234047</td>\n",
       "      <td>A</td>\n",
       "      <td>1</td>\n",
       "      <td>14</td>\n",
       "      <td>1857.94</td>\n",
       "      <td>0.0</td>\n",
       "      <td>0.0</td>\n",
       "      <td>0</td>\n",
       "      <td>0</td>\n",
       "    </tr>\n",
       "  </tbody>\n",
       "</table>\n",
       "</div>"
      ],
      "text/plain": [
       "               user_id group  is_viewed  products_viewed_cnt  price_sum  \\\n",
       "0  1515915625353226922     B          1                    1      76.48   \n",
       "1  1515915625353230067     A          1                    1      28.98   \n",
       "2  1515915625353230683     A          1                   10     592.21   \n",
       "3  1515915625353230922     A          1                    1     274.40   \n",
       "4  1515915625353234047     A          1                   14    1857.94   \n",
       "\n",
       "   is_cart_added  is_purchased  cart_added_cnt  purchased_cnt  \n",
       "0            0.0           0.0               0              0  \n",
       "1            0.0           0.0               0              0  \n",
       "2            0.0           0.0               0              0  \n",
       "3            0.0           0.0               0              0  \n",
       "4            0.0           0.0               0              0  "
      ]
     },
     "execution_count": 5,
     "metadata": {},
     "output_type": "execute_result"
    }
   ],
   "source": [
    "print(shop_metrics_old.shape)\n",
    "shop_metrics_old.head(5)"
   ]
  },
  {
   "cell_type": "code",
   "execution_count": 6,
   "metadata": {},
   "outputs": [
    {
     "name": "stdout",
     "output_type": "stream",
     "text": [
      "(407283, 3)\n"
     ]
    },
    {
     "data": {
      "text/html": [
       "<div>\n",
       "<style scoped>\n",
       "    .dataframe tbody tr th:only-of-type {\n",
       "        vertical-align: middle;\n",
       "    }\n",
       "\n",
       "    .dataframe tbody tr th {\n",
       "        vertical-align: top;\n",
       "    }\n",
       "\n",
       "    .dataframe thead th {\n",
       "        text-align: right;\n",
       "    }\n",
       "</style>\n",
       "<table border=\"1\" class=\"dataframe\">\n",
       "  <thead>\n",
       "    <tr style=\"text-align: right;\">\n",
       "      <th></th>\n",
       "      <th>user_id</th>\n",
       "      <th>user_age</th>\n",
       "      <th>user_sex</th>\n",
       "    </tr>\n",
       "  </thead>\n",
       "  <tbody>\n",
       "    <tr>\n",
       "      <th>0</th>\n",
       "      <td>1515915625519388267</td>\n",
       "      <td>41</td>\n",
       "      <td>f</td>\n",
       "    </tr>\n",
       "    <tr>\n",
       "      <th>1</th>\n",
       "      <td>1515915625519380411</td>\n",
       "      <td>84</td>\n",
       "      <td>m</td>\n",
       "    </tr>\n",
       "    <tr>\n",
       "      <th>2</th>\n",
       "      <td>1515915625513238515</td>\n",
       "      <td>41</td>\n",
       "      <td>m</td>\n",
       "    </tr>\n",
       "    <tr>\n",
       "      <th>3</th>\n",
       "      <td>1515915625519014356</td>\n",
       "      <td>25</td>\n",
       "      <td>m</td>\n",
       "    </tr>\n",
       "    <tr>\n",
       "      <th>4</th>\n",
       "      <td>1515915625510743344</td>\n",
       "      <td>42</td>\n",
       "      <td>m</td>\n",
       "    </tr>\n",
       "  </tbody>\n",
       "</table>\n",
       "</div>"
      ],
      "text/plain": [
       "               user_id  user_age user_sex\n",
       "0  1515915625519388267        41        f\n",
       "1  1515915625519380411        84        m\n",
       "2  1515915625513238515        41        m\n",
       "3  1515915625519014356        25        m\n",
       "4  1515915625510743344        42        m"
      ]
     },
     "execution_count": 6,
     "metadata": {},
     "output_type": "execute_result"
    }
   ],
   "source": [
    "print(shop_users_info.shape)\n",
    "shop_users_info.head(5)"
   ]
  },
  {
   "cell_type": "markdown",
   "metadata": {},
   "source": [
    "**Метрики:**\n",
    "\n",
    " - is_viewed - айтем товара просмотрен\n",
    " - products_viewed_cnt - количество уникальных просмотренных айтемов\n",
    " - price_sum - суммарная цена товаров\n",
    " - is_cart_added - товар добавлен в корзину\n",
    " - is_purchased - товар куплен\n",
    " - **cart_added_cnt** - количество товаров, добавленных в корзину\n",
    " - purchased_cnt - количество купленных товаров"
   ]
  },
  {
   "cell_type": "code",
   "execution_count": 7,
   "metadata": {},
   "outputs": [
    {
     "data": {
      "image/png": "[encoded data removed]",
      "text/plain": [
       "<Figure size 640x480 with 1 Axes>"
      ]
     },
     "metadata": {},
     "output_type": "display_data"
    }
   ],
   "source": [
    "sns.histplot(data=shop_metrics_new, x=\"cart_added_cnt\", bins=100);"
   ]
  },
  {
   "cell_type": "code",
   "execution_count": 8,
   "metadata": {},
   "outputs": [
    {
     "data": {
      "image/png": "[encoded data removed]",
      "text/plain": [
       "<Figure size 640x480 with 1 Axes>"
      ]
     },
     "metadata": {},
     "output_type": "display_data"
    }
   ],
   "source": [
    "sns.histplot(data=shop_metrics_new, x=\"cart_added_cnt\", hue=\"group\", kde=True, stat=\"density\", common_norm=False, bins=100);"
   ]
  },
  {
   "cell_type": "code",
   "execution_count": 9,
   "metadata": {},
   "outputs": [
    {
     "data": {
      "text/html": [
       "<div>\n",
       "<style scoped>\n",
       "    .dataframe tbody tr th:only-of-type {\n",
       "        vertical-align: middle;\n",
       "    }\n",
       "\n",
       "    .dataframe tbody tr th {\n",
       "        vertical-align: top;\n",
       "    }\n",
       "\n",
       "    .dataframe thead th {\n",
       "        text-align: right;\n",
       "    }\n",
       "</style>\n",
       "<table border=\"1\" class=\"dataframe\">\n",
       "  <thead>\n",
       "    <tr style=\"text-align: right;\">\n",
       "      <th></th>\n",
       "      <th>count</th>\n",
       "      <th>mean</th>\n",
       "      <th>std</th>\n",
       "      <th>min</th>\n",
       "      <th>25%</th>\n",
       "      <th>50%</th>\n",
       "      <th>75%</th>\n",
       "      <th>max</th>\n",
       "    </tr>\n",
       "    <tr>\n",
       "      <th>group</th>\n",
       "      <th></th>\n",
       "      <th></th>\n",
       "      <th></th>\n",
       "      <th></th>\n",
       "      <th></th>\n",
       "      <th></th>\n",
       "      <th></th>\n",
       "      <th></th>\n",
       "    </tr>\n",
       "  </thead>\n",
       "  <tbody>\n",
       "    <tr>\n",
       "      <th>A</th>\n",
       "      <td>111321.0</td>\n",
       "      <td>0.135042</td>\n",
       "      <td>0.616917</td>\n",
       "      <td>0.0</td>\n",
       "      <td>0.0</td>\n",
       "      <td>0.0</td>\n",
       "      <td>0.0</td>\n",
       "      <td>61.0</td>\n",
       "    </tr>\n",
       "    <tr>\n",
       "      <th>B</th>\n",
       "      <td>111200.0</td>\n",
       "      <td>0.138552</td>\n",
       "      <td>0.651705</td>\n",
       "      <td>0.0</td>\n",
       "      <td>0.0</td>\n",
       "      <td>0.0</td>\n",
       "      <td>0.0</td>\n",
       "      <td>75.0</td>\n",
       "    </tr>\n",
       "  </tbody>\n",
       "</table>\n",
       "</div>"
      ],
      "text/plain": [
       "          count      mean       std  min  25%  50%  75%   max\n",
       "group                                                        \n",
       "A      111321.0  0.135042  0.616917  0.0  0.0  0.0  0.0  61.0\n",
       "B      111200.0  0.138552  0.651705  0.0  0.0  0.0  0.0  75.0"
      ]
     },
     "execution_count": 9,
     "metadata": {},
     "output_type": "execute_result"
    }
   ],
   "source": [
    "shop_metrics_new.groupby(\"group\")[\"cart_added_cnt\"].describe()"
   ]
  },
  {
   "cell_type": "markdown",
   "metadata": {},
   "source": [
    "## 1. Применить ранговую трансформацию (потом t-test) и сравнить с результатами по Манну-Уитни на:\n",
    "- метрике cart_added_cnt "
   ]
  },
  {
   "cell_type": "code",
   "execution_count": 10,
   "metadata": {},
   "outputs": [],
   "source": [
    "def rank_transform(df_group_a: pd.DataFrame, df_group_b: pd.DataFrame, metric_name: str) -> pd.DataFrame:\n",
    "    df = pd.concat([df_group_a, df_group_b], axis=0, ignore_index=True)\n",
    "    df[f'{metric_name}_rank'] = df[metric_name].rank()\n",
    "    return df"
   ]
  },
  {
   "cell_type": "code",
   "execution_count": 11,
   "metadata": {},
   "outputs": [
    {
     "data": {
      "text/html": [
       "<div>\n",
       "<style scoped>\n",
       "    .dataframe tbody tr th:only-of-type {\n",
       "        vertical-align: middle;\n",
       "    }\n",
       "\n",
       "    .dataframe tbody tr th {\n",
       "        vertical-align: top;\n",
       "    }\n",
       "\n",
       "    .dataframe thead th {\n",
       "        text-align: right;\n",
       "    }\n",
       "</style>\n",
       "<table border=\"1\" class=\"dataframe\">\n",
       "  <thead>\n",
       "    <tr style=\"text-align: right;\">\n",
       "      <th></th>\n",
       "      <th>user_id</th>\n",
       "      <th>group</th>\n",
       "      <th>is_viewed</th>\n",
       "      <th>products_viewed_cnt</th>\n",
       "      <th>price_sum</th>\n",
       "      <th>is_cart_added</th>\n",
       "      <th>is_purchased</th>\n",
       "      <th>cart_added_cnt</th>\n",
       "      <th>purchased_cnt</th>\n",
       "      <th>cart_added_cnt_rank</th>\n",
       "    </tr>\n",
       "  </thead>\n",
       "  <tbody>\n",
       "    <tr>\n",
       "      <th>0</th>\n",
       "      <td>1515915625353230683</td>\n",
       "      <td>A</td>\n",
       "      <td>1</td>\n",
       "      <td>1</td>\n",
       "      <td>339.79</td>\n",
       "      <td>0.0</td>\n",
       "      <td>0.0</td>\n",
       "      <td>0</td>\n",
       "      <td>0</td>\n",
       "      <td>100038.5</td>\n",
       "    </tr>\n",
       "    <tr>\n",
       "      <th>1</th>\n",
       "      <td>1515915625353234047</td>\n",
       "      <td>A</td>\n",
       "      <td>1</td>\n",
       "      <td>9</td>\n",
       "      <td>861.86</td>\n",
       "      <td>0.0</td>\n",
       "      <td>0.0</td>\n",
       "      <td>0</td>\n",
       "      <td>0</td>\n",
       "      <td>100038.5</td>\n",
       "    </tr>\n",
       "    <tr>\n",
       "      <th>2</th>\n",
       "      <td>1515915625353236157</td>\n",
       "      <td>A</td>\n",
       "      <td>1</td>\n",
       "      <td>4</td>\n",
       "      <td>179.60</td>\n",
       "      <td>0.0</td>\n",
       "      <td>0.0</td>\n",
       "      <td>0</td>\n",
       "      <td>0</td>\n",
       "      <td>100038.5</td>\n",
       "    </tr>\n",
       "    <tr>\n",
       "      <th>3</th>\n",
       "      <td>1515915625353400724</td>\n",
       "      <td>A</td>\n",
       "      <td>1</td>\n",
       "      <td>2</td>\n",
       "      <td>103.33</td>\n",
       "      <td>0.0</td>\n",
       "      <td>0.0</td>\n",
       "      <td>0</td>\n",
       "      <td>0</td>\n",
       "      <td>100038.5</td>\n",
       "    </tr>\n",
       "    <tr>\n",
       "      <th>4</th>\n",
       "      <td>1515915625353416040</td>\n",
       "      <td>A</td>\n",
       "      <td>1</td>\n",
       "      <td>13</td>\n",
       "      <td>1861.21</td>\n",
       "      <td>0.0</td>\n",
       "      <td>0.0</td>\n",
       "      <td>0</td>\n",
       "      <td>0</td>\n",
       "      <td>100038.5</td>\n",
       "    </tr>\n",
       "    <tr>\n",
       "      <th>222516</th>\n",
       "      <td>1515915625611023671</td>\n",
       "      <td>B</td>\n",
       "      <td>1</td>\n",
       "      <td>1</td>\n",
       "      <td>32.22</td>\n",
       "      <td>0.0</td>\n",
       "      <td>0.0</td>\n",
       "      <td>0</td>\n",
       "      <td>0</td>\n",
       "      <td>100038.5</td>\n",
       "    </tr>\n",
       "    <tr>\n",
       "      <th>222517</th>\n",
       "      <td>1515915625611023730</td>\n",
       "      <td>B</td>\n",
       "      <td>1</td>\n",
       "      <td>1</td>\n",
       "      <td>219.94</td>\n",
       "      <td>0.0</td>\n",
       "      <td>0.0</td>\n",
       "      <td>0</td>\n",
       "      <td>0</td>\n",
       "      <td>100038.5</td>\n",
       "    </tr>\n",
       "    <tr>\n",
       "      <th>222518</th>\n",
       "      <td>1515915625611024014</td>\n",
       "      <td>B</td>\n",
       "      <td>1</td>\n",
       "      <td>1</td>\n",
       "      <td>80.03</td>\n",
       "      <td>0.0</td>\n",
       "      <td>0.0</td>\n",
       "      <td>0</td>\n",
       "      <td>0</td>\n",
       "      <td>100038.5</td>\n",
       "    </tr>\n",
       "    <tr>\n",
       "      <th>222519</th>\n",
       "      <td>1515915625611024020</td>\n",
       "      <td>B</td>\n",
       "      <td>1</td>\n",
       "      <td>1</td>\n",
       "      <td>64.92</td>\n",
       "      <td>0.0</td>\n",
       "      <td>0.0</td>\n",
       "      <td>0</td>\n",
       "      <td>0</td>\n",
       "      <td>100038.5</td>\n",
       "    </tr>\n",
       "    <tr>\n",
       "      <th>222520</th>\n",
       "      <td>1515915625611024030</td>\n",
       "      <td>B</td>\n",
       "      <td>1</td>\n",
       "      <td>1</td>\n",
       "      <td>10.16</td>\n",
       "      <td>0.0</td>\n",
       "      <td>0.0</td>\n",
       "      <td>0</td>\n",
       "      <td>0</td>\n",
       "      <td>100038.5</td>\n",
       "    </tr>\n",
       "  </tbody>\n",
       "</table>\n",
       "</div>"
      ],
      "text/plain": [
       "                    user_id group  is_viewed  products_viewed_cnt  price_sum  \\\n",
       "0       1515915625353230683     A          1                    1     339.79   \n",
       "1       1515915625353234047     A          1                    9     861.86   \n",
       "2       1515915625353236157     A          1                    4     179.60   \n",
       "3       1515915625353400724     A          1                    2     103.33   \n",
       "4       1515915625353416040     A          1                   13    1861.21   \n",
       "222516  1515915625611023671     B          1                    1      32.22   \n",
       "222517  1515915625611023730     B          1                    1     219.94   \n",
       "222518  1515915625611024014     B          1                    1      80.03   \n",
       "222519  1515915625611024020     B          1                    1      64.92   \n",
       "222520  1515915625611024030     B          1                    1      10.16   \n",
       "\n",
       "        is_cart_added  is_purchased  cart_added_cnt  purchased_cnt  \\\n",
       "0                 0.0           0.0               0              0   \n",
       "1                 0.0           0.0               0              0   \n",
       "2                 0.0           0.0               0              0   \n",
       "3                 0.0           0.0               0              0   \n",
       "4                 0.0           0.0               0              0   \n",
       "222516            0.0           0.0               0              0   \n",
       "222517            0.0           0.0               0              0   \n",
       "222518            0.0           0.0               0              0   \n",
       "222519            0.0           0.0               0              0   \n",
       "222520            0.0           0.0               0              0   \n",
       "\n",
       "        cart_added_cnt_rank  \n",
       "0                  100038.5  \n",
       "1                  100038.5  \n",
       "2                  100038.5  \n",
       "3                  100038.5  \n",
       "4                  100038.5  \n",
       "222516             100038.5  \n",
       "222517             100038.5  \n",
       "222518             100038.5  \n",
       "222519             100038.5  \n",
       "222520             100038.5  "
      ]
     },
     "execution_count": 11,
     "metadata": {},
     "output_type": "execute_result"
    }
   ],
   "source": [
    "df_ranked = rank_transform(\n",
    "    df_group_a=shop_metrics_new[shop_metrics_new[\"group\"] == \"A\"], \n",
    "    df_group_b=shop_metrics_new[shop_metrics_new[\"group\"] == \"B\"], \n",
    "    metric_name='cart_added_cnt'\n",
    ")\n",
    "\n",
    "pd.concat([df_ranked.head(), df_ranked.tail()])"
   ]
  },
  {
   "cell_type": "code",
   "execution_count": 12,
   "metadata": {},
   "outputs": [
    {
     "data": {
      "text/html": [
       "<div>\n",
       "<style scoped>\n",
       "    .dataframe tbody tr th:only-of-type {\n",
       "        vertical-align: middle;\n",
       "    }\n",
       "\n",
       "    .dataframe tbody tr th {\n",
       "        vertical-align: top;\n",
       "    }\n",
       "\n",
       "    .dataframe thead th {\n",
       "        text-align: right;\n",
       "    }\n",
       "</style>\n",
       "<table border=\"1\" class=\"dataframe\">\n",
       "  <thead>\n",
       "    <tr style=\"text-align: right;\">\n",
       "      <th></th>\n",
       "      <th>user_id</th>\n",
       "      <th>group</th>\n",
       "      <th>is_viewed</th>\n",
       "      <th>products_viewed_cnt</th>\n",
       "      <th>price_sum</th>\n",
       "      <th>is_cart_added</th>\n",
       "      <th>is_purchased</th>\n",
       "      <th>cart_added_cnt</th>\n",
       "      <th>purchased_cnt</th>\n",
       "      <th>cart_added_cnt_rank</th>\n",
       "    </tr>\n",
       "  </thead>\n",
       "  <tbody>\n",
       "    <tr>\n",
       "      <th>7</th>\n",
       "      <td>1515915625353706476</td>\n",
       "      <td>A</td>\n",
       "      <td>1</td>\n",
       "      <td>12</td>\n",
       "      <td>522.75</td>\n",
       "      <td>0.0</td>\n",
       "      <td>0.0</td>\n",
       "      <td>2</td>\n",
       "      <td>0</td>\n",
       "      <td>219885.0</td>\n",
       "    </tr>\n",
       "    <tr>\n",
       "      <th>21</th>\n",
       "      <td>1515915625355805313</td>\n",
       "      <td>A</td>\n",
       "      <td>1</td>\n",
       "      <td>4</td>\n",
       "      <td>1336.40</td>\n",
       "      <td>0.0</td>\n",
       "      <td>0.0</td>\n",
       "      <td>1</td>\n",
       "      <td>0</td>\n",
       "      <td>209349.0</td>\n",
       "    </tr>\n",
       "    <tr>\n",
       "      <th>23</th>\n",
       "      <td>1515915625356129712</td>\n",
       "      <td>A</td>\n",
       "      <td>1</td>\n",
       "      <td>4</td>\n",
       "      <td>144.42</td>\n",
       "      <td>0.0</td>\n",
       "      <td>0.0</td>\n",
       "      <td>1</td>\n",
       "      <td>0</td>\n",
       "      <td>209349.0</td>\n",
       "    </tr>\n",
       "    <tr>\n",
       "      <th>59</th>\n",
       "      <td>1515915625367976920</td>\n",
       "      <td>A</td>\n",
       "      <td>1</td>\n",
       "      <td>4</td>\n",
       "      <td>144.83</td>\n",
       "      <td>0.0</td>\n",
       "      <td>0.0</td>\n",
       "      <td>1</td>\n",
       "      <td>1</td>\n",
       "      <td>209349.0</td>\n",
       "    </tr>\n",
       "    <tr>\n",
       "      <th>62</th>\n",
       "      <td>1515915625368720412</td>\n",
       "      <td>A</td>\n",
       "      <td>1</td>\n",
       "      <td>2</td>\n",
       "      <td>425.56</td>\n",
       "      <td>0.0</td>\n",
       "      <td>0.0</td>\n",
       "      <td>1</td>\n",
       "      <td>0</td>\n",
       "      <td>209349.0</td>\n",
       "    </tr>\n",
       "    <tr>\n",
       "      <th>222442</th>\n",
       "      <td>1515915625611002957</td>\n",
       "      <td>B</td>\n",
       "      <td>1</td>\n",
       "      <td>1</td>\n",
       "      <td>490.54</td>\n",
       "      <td>0.0</td>\n",
       "      <td>0.0</td>\n",
       "      <td>1</td>\n",
       "      <td>0</td>\n",
       "      <td>209349.0</td>\n",
       "    </tr>\n",
       "    <tr>\n",
       "      <th>222458</th>\n",
       "      <td>1515915625611007170</td>\n",
       "      <td>B</td>\n",
       "      <td>1</td>\n",
       "      <td>1</td>\n",
       "      <td>839.75</td>\n",
       "      <td>0.0</td>\n",
       "      <td>0.0</td>\n",
       "      <td>1</td>\n",
       "      <td>0</td>\n",
       "      <td>209349.0</td>\n",
       "    </tr>\n",
       "    <tr>\n",
       "      <th>222473</th>\n",
       "      <td>1515915625611010717</td>\n",
       "      <td>B</td>\n",
       "      <td>1</td>\n",
       "      <td>3</td>\n",
       "      <td>1493.89</td>\n",
       "      <td>0.0</td>\n",
       "      <td>0.0</td>\n",
       "      <td>2</td>\n",
       "      <td>0</td>\n",
       "      <td>219885.0</td>\n",
       "    </tr>\n",
       "    <tr>\n",
       "      <th>222477</th>\n",
       "      <td>1515915625611013140</td>\n",
       "      <td>B</td>\n",
       "      <td>1</td>\n",
       "      <td>2</td>\n",
       "      <td>642.29</td>\n",
       "      <td>0.0</td>\n",
       "      <td>0.0</td>\n",
       "      <td>2</td>\n",
       "      <td>0</td>\n",
       "      <td>219885.0</td>\n",
       "    </tr>\n",
       "    <tr>\n",
       "      <th>222495</th>\n",
       "      <td>1515915625611017481</td>\n",
       "      <td>B</td>\n",
       "      <td>1</td>\n",
       "      <td>1</td>\n",
       "      <td>214.10</td>\n",
       "      <td>0.0</td>\n",
       "      <td>0.0</td>\n",
       "      <td>1</td>\n",
       "      <td>0</td>\n",
       "      <td>209349.0</td>\n",
       "    </tr>\n",
       "  </tbody>\n",
       "</table>\n",
       "</div>"
      ],
      "text/plain": [
       "                    user_id group  is_viewed  products_viewed_cnt  price_sum  \\\n",
       "7       1515915625353706476     A          1                   12     522.75   \n",
       "21      1515915625355805313     A          1                    4    1336.40   \n",
       "23      1515915625356129712     A          1                    4     144.42   \n",
       "59      1515915625367976920     A          1                    4     144.83   \n",
       "62      1515915625368720412     A          1                    2     425.56   \n",
       "222442  1515915625611002957     B          1                    1     490.54   \n",
       "222458  1515915625611007170     B          1                    1     839.75   \n",
       "222473  1515915625611010717     B          1                    3    1493.89   \n",
       "222477  1515915625611013140     B          1                    2     642.29   \n",
       "222495  1515915625611017481     B          1                    1     214.10   \n",
       "\n",
       "        is_cart_added  is_purchased  cart_added_cnt  purchased_cnt  \\\n",
       "7                 0.0           0.0               2              0   \n",
       "21                0.0           0.0               1              0   \n",
       "23                0.0           0.0               1              0   \n",
       "59                0.0           0.0               1              1   \n",
       "62                0.0           0.0               1              0   \n",
       "222442            0.0           0.0               1              0   \n",
       "222458            0.0           0.0               1              0   \n",
       "222473            0.0           0.0               2              0   \n",
       "222477            0.0           0.0               2              0   \n",
       "222495            0.0           0.0               1              0   \n",
       "\n",
       "        cart_added_cnt_rank  \n",
       "7                  219885.0  \n",
       "21                 209349.0  \n",
       "23                 209349.0  \n",
       "59                 209349.0  \n",
       "62                 209349.0  \n",
       "222442             209349.0  \n",
       "222458             209349.0  \n",
       "222473             219885.0  \n",
       "222477             219885.0  \n",
       "222495             209349.0  "
      ]
     },
     "execution_count": 12,
     "metadata": {},
     "output_type": "execute_result"
    }
   ],
   "source": [
    "pd.concat([df_ranked[df_ranked[\"cart_added_cnt\"] > 0].head(), df_ranked[df_ranked[\"cart_added_cnt\"] > 0].tail()])"
   ]
  },
  {
   "cell_type": "code",
   "execution_count": 13,
   "metadata": {},
   "outputs": [
    {
     "name": "stdout",
     "output_type": "stream",
     "text": [
      "111170.45633348604 111351.6421897482 0.16298022175842064\n"
     ]
    }
   ],
   "source": [
    "print(df_ranked[df_ranked.group == 'A']['cart_added_cnt_rank'].mean(),\n",
    "      df_ranked[df_ranked.group == 'B']['cart_added_cnt_rank'].mean(), \n",
    "      ((df_ranked[df_ranked.group == 'B']['cart_added_cnt_rank'].mean() - df_ranked[df_ranked.group == 'A']['cart_added_cnt_rank'].mean()) / \n",
    "       df_ranked[df_ranked.group == 'A']['cart_added_cnt_rank'].mean()*100))"
   ]
  },
  {
   "cell_type": "markdown",
   "metadata": {},
   "source": [
    "**Различие в между средними в группах составляет ~0.1629%**"
   ]
  },
  {
   "cell_type": "markdown",
   "metadata": {},
   "source": [
    "**t-test**"
   ]
  },
  {
   "cell_type": "code",
   "execution_count": 14,
   "metadata": {},
   "outputs": [
    {
     "name": "stdout",
     "output_type": "stream",
     "text": [
      "P-value: 0.20253266477504916\n",
      "H0 принимается, не найдены статитистически значимые отличия\n"
     ]
    }
   ],
   "source": [
    "statictic, p_value = stats.ttest_ind(\n",
    "    df_ranked[df_ranked.group == 'A']['cart_added_cnt_rank'], \n",
    "    df_ranked[df_ranked.group == 'B']['cart_added_cnt_rank']\n",
    ")\n",
    "\n",
    "print(f\"P-value: {p_value}\")\n",
    "if p_value < 0.05:\n",
    "    print(\"H0 отклюняется, найдены статитистически значимый отличий\")\n",
    "else:\n",
    "    print(\"H0 принимается, не найдены статитистически значимые отличия\")"
   ]
  },
  {
   "cell_type": "markdown",
   "metadata": {},
   "source": [
    "Различий между группами не было => t-test не нашел разнциа"
   ]
  },
  {
   "cell_type": "markdown",
   "metadata": {},
   "source": [
    "**Манна-Уитни:**"
   ]
  },
  {
   "cell_type": "code",
   "execution_count": 15,
   "metadata": {},
   "outputs": [
    {
     "name": "stdout",
     "output_type": "stream",
     "text": [
      "0.2025319893087626\n",
      "H0 принимается, не найдены статитистически значимые отличия\n"
     ]
    }
   ],
   "source": [
    "statictic, p_value = stats.mannwhitneyu(\n",
    "    df_ranked[df_ranked.group == 'A']['cart_added_cnt'], \n",
    "    df_ranked[df_ranked.group == 'B']['cart_added_cnt']\n",
    ")\n",
    "\n",
    "print(p_value)\n",
    "if p_value < 0.05:\n",
    "    print(\"H0 отклюняется, найдены статитистически значимый отличий\")\n",
    "else:\n",
    "    print(\"H0 принимается, не найдены статитистически значимые отличия\")"
   ]
  },
  {
   "cell_type": "markdown",
   "metadata": {},
   "source": [
    "**Оба подхода не нашли стат. значимых отличий в группах**, так как действительно оно не очень большое ~0.16%"
   ]
  },
  {
   "cell_type": "markdown",
   "metadata": {},
   "source": [
    "**Проверка мощности и корректности t-test для метода ранговой трансформации:**"
   ]
  },
  {
   "cell_type": "code",
   "execution_count": 16,
   "metadata": {},
   "outputs": [
    {
     "data": {
      "text/html": [
       "<div>\n",
       "<style scoped>\n",
       "    .dataframe tbody tr th:only-of-type {\n",
       "        vertical-align: middle;\n",
       "    }\n",
       "\n",
       "    .dataframe tbody tr th {\n",
       "        vertical-align: top;\n",
       "    }\n",
       "\n",
       "    .dataframe thead th {\n",
       "        text-align: right;\n",
       "    }\n",
       "</style>\n",
       "<table border=\"1\" class=\"dataframe\">\n",
       "  <thead>\n",
       "    <tr style=\"text-align: right;\">\n",
       "      <th></th>\n",
       "      <th>user_id</th>\n",
       "      <th>is_viewed</th>\n",
       "      <th>products_viewed_cnt</th>\n",
       "      <th>price_sum</th>\n",
       "      <th>is_cart_added</th>\n",
       "      <th>is_purchased</th>\n",
       "      <th>cart_added_cnt</th>\n",
       "      <th>purchased_cnt</th>\n",
       "    </tr>\n",
       "  </thead>\n",
       "  <tbody>\n",
       "    <tr>\n",
       "      <th>0</th>\n",
       "      <td>1515915625353230683</td>\n",
       "      <td>1</td>\n",
       "      <td>1</td>\n",
       "      <td>339.79</td>\n",
       "      <td>0.0</td>\n",
       "      <td>0.0</td>\n",
       "      <td>0</td>\n",
       "      <td>0</td>\n",
       "    </tr>\n",
       "    <tr>\n",
       "      <th>1</th>\n",
       "      <td>1515915625353234047</td>\n",
       "      <td>1</td>\n",
       "      <td>9</td>\n",
       "      <td>861.86</td>\n",
       "      <td>0.0</td>\n",
       "      <td>0.0</td>\n",
       "      <td>0</td>\n",
       "      <td>0</td>\n",
       "    </tr>\n",
       "    <tr>\n",
       "      <th>2</th>\n",
       "      <td>1515915625353236157</td>\n",
       "      <td>1</td>\n",
       "      <td>4</td>\n",
       "      <td>179.60</td>\n",
       "      <td>0.0</td>\n",
       "      <td>0.0</td>\n",
       "      <td>0</td>\n",
       "      <td>0</td>\n",
       "    </tr>\n",
       "  </tbody>\n",
       "</table>\n",
       "</div>"
      ],
      "text/plain": [
       "               user_id  is_viewed  products_viewed_cnt  price_sum  \\\n",
       "0  1515915625353230683          1                    1     339.79   \n",
       "1  1515915625353234047          1                    9     861.86   \n",
       "2  1515915625353236157          1                    4     179.60   \n",
       "\n",
       "   is_cart_added  is_purchased  cart_added_cnt  purchased_cnt  \n",
       "0            0.0           0.0               0              0  \n",
       "1            0.0           0.0               0              0  \n",
       "2            0.0           0.0               0              0  "
      ]
     },
     "execution_count": 16,
     "metadata": {},
     "output_type": "execute_result"
    }
   ],
   "source": [
    "df_shop = shop_metrics_new.drop(columns=['group'])\n",
    "df_shop.head(3)"
   ]
  },
  {
   "cell_type": "code",
   "execution_count": 17,
   "metadata": {},
   "outputs": [],
   "source": [
    "ALPHA = 0.05\n",
    "ITER = 1000"
   ]
  },
  {
   "cell_type": "code",
   "execution_count": 18,
   "metadata": {},
   "outputs": [
    {
     "name": "stderr",
     "output_type": "stream",
     "text": [
      "  0%|          | 0/1000 [00:00<?, ?it/s]"
     ]
    },
    {
     "name": "stderr",
     "output_type": "stream",
     "text": [
      "100%|██████████| 1000/1000 [06:45<00:00,  2.47it/s]\n"
     ]
    },
    {
     "name": "stdout",
     "output_type": "stream",
     "text": [
      "p_value = 0.25912322580388847 - p_values равномерное распределение\n",
      " === Power: 100.000%\n",
      " === Correctness: 95.600%\n"
     ]
    },
    {
     "data": {
      "image/png": "[encoded data removed]",
      "text/plain": [
       "<Figure size 470x427 with 1 Axes>"
      ]
     },
     "metadata": {},
     "output_type": "display_data"
    }
   ],
   "source": [
    "correctness = []\n",
    "power = []\n",
    "\n",
    "for idx in tqdm(range(ITER)):\n",
    "\n",
    "    df_with_group = groups_splitter(df_shop.copy(), columns=[\"user_id\", \"group\", \"cart_added_cnt\"], user_salt=salt_generator())\n",
    "\n",
    "    df_ranked_curr = rank_transform(\n",
    "        df_group_a=df_with_group[df_with_group[\"group\"] == \"A\"], \n",
    "        df_group_b=df_with_group[df_with_group[\"group\"] == \"B\"], \n",
    "        metric_name='cart_added_cnt'\n",
    "    )\n",
    "\n",
    "    vec_a = df_ranked_curr[df_ranked_curr.group == 'A']['cart_added_cnt_rank']\n",
    "    vec_b = df_ranked_curr[df_ranked_curr.group == 'B']['cart_added_cnt_rank']\n",
    "\n",
    "    vec_b_effect = df_with_group[df_with_group['group'] == 'B']['cart_added_cnt'] * 1.05\n",
    "    new_df_b = df_with_group[df_with_group.group == 'B'].drop(columns=['cart_added_cnt'])\n",
    "    new_df_b['cart_added_cnt'] = list(vec_b_effect)\n",
    "    \n",
    "    df_ranked_curr_effect = rank_transform(\n",
    "        df_group_a=df_with_group[df_with_group.group == 'A'], \n",
    "        df_group_b=new_df_b, \n",
    "        metric_name='cart_added_cnt'\n",
    "    )\n",
    "    vec_a_power = df_ranked_curr_effect[df_ranked_curr_effect['group'] == 'A']['cart_added_cnt_rank']\n",
    "    vec_b_power = df_ranked_curr_effect[df_ranked_curr_effect['group'] == 'B']['cart_added_cnt_rank']\n",
    "\n",
    "\n",
    "    p_correctness, p_power = stats.ttest_ind(vec_a, vec_b)[1], stats.ttest_ind(vec_a_power, vec_b_power)[1]\n",
    "    correctness.append(p_correctness)\n",
    "    power.append(p_power)\n",
    "\n",
    "\n",
    "correctness = np.array(correctness)\n",
    "power = np.array(power)\n",
    "\n",
    "sns.set(rc={'figure.figsize':(4.7,4.27)})\n",
    "sns.histplot(data=correctness, bins=10, color='blue', kde=True)\n",
    "\n",
    "_, p_value_for_norm = stats.kstest(correctness, scipy.stats.uniform(loc=0.0, scale=1.0).cdf)\n",
    "if p_value_for_norm < 0.05:\n",
    "    print(f'p_value = {p_value_for_norm} - p_values неравномерное распределение')\n",
    "else:\n",
    "    print(f'p_value = {p_value_for_norm} - p_values равномерное распределение')\n",
    "\n",
    "print(\n",
    "    f\" === Power: {len(power[power < ALPHA]) / len(power) :.3%}\\n\"\n",
    "    f\" === Correctness: {1 - len(correctness[correctness < ALPHA]) / len(correctness):.3%}\"\n",
    ")"
   ]
  },
  {
   "cell_type": "markdown",
   "metadata": {},
   "source": [
    "***Мощность и корректность при уровне значимости alpha достаточно хороши***"
   ]
  },
  {
   "cell_type": "markdown",
   "metadata": {},
   "source": [
    "**Проверка мощности и корректности Манна-Уитни на исходной метрике `cart_added_cnt`:**"
   ]
  },
  {
   "cell_type": "code",
   "execution_count": 19,
   "metadata": {},
   "outputs": [
    {
     "name": "stderr",
     "output_type": "stream",
     "text": [
      "  0%|          | 0/1000 [00:00<?, ?it/s]"
     ]
    },
    {
     "name": "stderr",
     "output_type": "stream",
     "text": [
      "100%|██████████| 1000/1000 [07:36<00:00,  2.19it/s]\n"
     ]
    },
    {
     "name": "stdout",
     "output_type": "stream",
     "text": [
      "p_value = 0.9123146326538728 - p_values равномерное распределение\n",
      " === Power: 100.000%\n",
      " === Correctness: 95.600%\n"
     ]
    },
    {
     "data": {
      "image/png": "[encoded data removed]",
      "text/plain": [
       "<Figure size 470x427 with 1 Axes>"
      ]
     },
     "metadata": {},
     "output_type": "display_data"
    }
   ],
   "source": [
    "correctness = []\n",
    "power = []\n",
    "\n",
    "for idx in tqdm(range(ITER)):\n",
    "\n",
    "    df_with_group = groups_splitter(df_shop.copy(), columns=[\"user_id\", \"group\", \"cart_added_cnt\"], user_salt=salt_generator())\n",
    "\n",
    "    vec_a = df_with_group[df_with_group.group == 'A']['cart_added_cnt']\n",
    "    vec_b = df_with_group[df_with_group.group == 'B']['cart_added_cnt']\n",
    "    vec_b_effect = vec_b * 1.05\n",
    "\n",
    "    p_correctness, p_power = stats.mannwhitneyu(vec_a, vec_b)[1], stats.mannwhitneyu(vec_a, vec_b_effect)[1]\n",
    "    correctness.append(p_correctness)\n",
    "    power.append(p_power)\n",
    "\n",
    "correctness = np.array(correctness)\n",
    "power = np.array(power)\n",
    "\n",
    "sns.set(rc={'figure.figsize':(4.7,4.27)})\n",
    "sns.histplot(data=correctness, bins=10, color='blue', kde=True)\n",
    "\n",
    "_, p_value_for_norm = stats.kstest(correctness, scipy.stats.uniform(loc=0.0, scale=1.0).cdf)\n",
    "if p_value_for_norm < 0.05:\n",
    "    print(f'p_value = {p_value_for_norm} - p_values неравномерное распределение')\n",
    "else:\n",
    "    print(f'p_value = {p_value_for_norm} - p_values равномерное распределение')\n",
    "\n",
    "print(\n",
    "    f\" === Power: {len(power[power < ALPHA]) / len(power) :.3%}\\n\"\n",
    "    f\" === Correctness: {1 - len(correctness[correctness < ALPHA]) / len(correctness):.3%}\"\n",
    ")"
   ]
  },
  {
   "cell_type": "markdown",
   "metadata": {},
   "source": [
    "***Мощность и корректность при уровне значимости alpha достаточно хороши***"
   ]
  },
  {
   "cell_type": "markdown",
   "metadata": {},
   "source": [
    "**Результаты ранговой трансформации с критерием t-test имеет примерно одинаковый результат с критерием Манна-Уитни на оригинальной метрике `cart_added_cnt`**"
   ]
  },
  {
   "cell_type": "markdown",
   "metadata": {},
   "source": [
    "## 2. Реализовать cuped-трансформацию и сравнить мощность t-критерия на:\n",
    "- обычной метрике cart_added_cnt\n",
    "- логарфимированной метрике cart_added_cnt\n",
    "- метрике cart_added_cnt (а после подвергнуть ранговому преобразованию)\n",
    "\n",
    "В каждом случае фиксировать, на сколько сокращается дисперсия, проверять равны ли средние в группах в ковариате и совпадают ли средние в метрике до и после применения cuped"
   ]
  },
  {
   "cell_type": "code",
   "execution_count": 20,
   "metadata": {},
   "outputs": [],
   "source": [
    "def cuped_transform(df, metrics):\n",
    "\n",
    "    new_columns = [str(m+'_cuped') for m in metrics]\n",
    "    df[new_columns] = pd.DataFrame([[0] * len(new_columns)], index=df.index)\n",
    "\n",
    "    df_mini = df.fillna(0)\n",
    "    for m in metrics:\n",
    "        covariate_column = str(m + '_covariate')\n",
    "        cuped_column = str(m + '_cuped')\n",
    "        mean_covariate = df_mini[covariate_column].mean()\n",
    "\n",
    "        theta = (df_mini[m].cov(df_mini[covariate_column]))/(df_mini.loc[:,covariate_column].var())\n",
    "        df_mini[cuped_column] = df_mini[m] - (df_mini[covariate_column] - mean_covariate) * theta\n",
    "\n",
    "    df.update(df_mini)\n",
    "\n",
    "    return df.drop_duplicates()\n"
   ]
  },
  {
   "cell_type": "code",
   "execution_count": 21,
   "metadata": {},
   "outputs": [],
   "source": [
    "ALPHA = 0.05\n",
    "ITER = 1000"
   ]
  },
  {
   "cell_type": "markdown",
   "metadata": {},
   "source": [
    "**t-test на обычной метрике + CUPED**"
   ]
  },
  {
   "cell_type": "code",
   "execution_count": 22,
   "metadata": {},
   "outputs": [
    {
     "name": "stderr",
     "output_type": "stream",
     "text": [
      "  0%|          | 0/1000 [00:00<?, ?it/s]"
     ]
    },
    {
     "name": "stderr",
     "output_type": "stream",
     "text": [
      "100%|██████████| 1000/1000 [07:23<00:00,  2.25it/s]"
     ]
    },
    {
     "name": "stdout",
     "output_type": "stream",
     "text": [
      " === Power: 100.000%\n",
      " ============================\n",
      " === Диспресия в среднем сокращается в группе А на 0.38065; в группе B на 0.38288\n",
      " === Разница средних до и после применения cuped в среднем в группе А: 0.0010523; в группе B: 0.0067887\n",
      " === Разница средних в коварите между группами А и B в среднем: 0.002251\n",
      "\n"
     ]
    },
    {
     "name": "stderr",
     "output_type": "stream",
     "text": [
      "\n"
     ]
    }
   ],
   "source": [
    "power = []\n",
    "diff_var_a, diff_var_b = [], []\n",
    "diff_mean_group_in_cov = []\n",
    "diff_mean_a, diff_mean_b = [], []\n",
    "\n",
    "\n",
    "for idx in tqdm(range(ITER)):\n",
    "\n",
    "    df_with_group = groups_splitter(df_shop.copy(), columns=[\"user_id\", \"group\", \"cart_added_cnt\"], user_salt=salt_generator())\n",
    "\n",
    "    all_df = pd.merge(df_with_group, shop_metrics_old[['user_id', 'cart_added_cnt']], on=['user_id'], how='left')\n",
    "    all_df = all_df.rename(columns={'cart_added_cnt_x': 'cart_added_cnt', 'cart_added_cnt_y': 'cart_added_cnt_covariate'})\n",
    "    \n",
    "    cuped_df = cuped_transform(all_df, ['cart_added_cnt'])\n",
    "    \n",
    "    vec_a = cuped_df[(cuped_df['group'] == 'A')]['cart_added_cnt_cuped']\n",
    "    vec_b = cuped_df[(cuped_df['group'] == 'B')]['cart_added_cnt_cuped']\n",
    "\n",
    "    vec_b_effect = vec_b * 1.05\n",
    "\n",
    "    p_power = stats.ttest_ind(vec_a, vec_b_effect)[1]\n",
    "    power.append(p_power)\n",
    "\n",
    "    var_a = cuped_df[(cuped_df['group'] == 'A')][\"cart_added_cnt\"].var()\n",
    "    var_b = cuped_df[(cuped_df['group'] == 'B')][\"cart_added_cnt\"].var()\n",
    "    mean_a = cuped_df[(cuped_df['group'] == 'A')][\"cart_added_cnt\"].mean()\n",
    "    mean_b = cuped_df[(cuped_df['group'] == 'B')][\"cart_added_cnt\"].mean()\n",
    "    mean_a_in_cov = cuped_df[(cuped_df['group'] == 'A')][\"cart_added_cnt_covariate\"].mean()\n",
    "    mean_b_in_cov = cuped_df[(cuped_df['group'] == 'B')][\"cart_added_cnt_covariate\"].mean()\n",
    "\n",
    "    var_cuped_a = vec_a.var()\n",
    "    var_cuped_b = vec_b_effect.var()\n",
    "    mean_cuped_a = vec_a.mean()\n",
    "    mean_cuped_b = vec_b_effect.mean()\n",
    "\n",
    "    diff_var_a.append(var_a - var_cuped_a)\n",
    "    diff_var_b.append(var_b - var_cuped_b)\n",
    "    diff_mean_a.append(abs(mean_a - mean_cuped_a))\n",
    "    diff_mean_b.append(abs(mean_b - mean_cuped_b))\n",
    "    diff_mean_group_in_cov.append(abs(mean_a_in_cov - mean_b_in_cov))\n",
    "\n",
    "power = np.array(power)\n",
    "power_res1 = len(power[power < ALPHA]) / len(power) \n",
    "\n",
    "diff_var_a1 = np.mean(diff_var_a)\n",
    "diff_var_b1 = np.mean(diff_var_b)\n",
    "diff_mean_a1 = np.mean(diff_mean_a)\n",
    "diff_mean_b1 = np.mean(diff_mean_b)\n",
    "diff_mean_group_in_cov1 = np.mean(diff_mean_group_in_cov)\n",
    "\n",
    "print(\n",
    "    f\" === Power: {power_res1:.3%}\\n\"\n",
    "    f\" ============================\\n\"\n",
    "    f\" === Диспресия в среднем сокращается в группе А на {diff_var_a1:.5}; в группе B на {diff_var_b1:.5}\\n\"\n",
    "    f\" === Разница средних до и после применения cuped в среднем в группе А: {diff_mean_a1:.5}; в группе B: {diff_mean_b1:.5}\\n\"\n",
    "    f\" === Разница средних в коварите между группами А и B в среднем: {diff_mean_group_in_cov1:.5}\\n\"\n",
    ")"
   ]
  },
  {
   "cell_type": "markdown",
   "metadata": {},
   "source": [
    "**логарфимированной метрике cart_added_cnt + CUPED:**"
   ]
  },
  {
   "cell_type": "code",
   "execution_count": 23,
   "metadata": {},
   "outputs": [
    {
     "name": "stderr",
     "output_type": "stream",
     "text": [
      "100%|██████████| 1000/1000 [07:27<00:00,  2.24it/s]"
     ]
    },
    {
     "name": "stdout",
     "output_type": "stream",
     "text": [
      " === Power: 100.000%\n",
      " ============================\n",
      " === Диспресия в среднем сокращается в группе А на 0.063575; в группе B на 0.063362\n",
      " === Разница средних до и после применения cuped в среднем в группе А: 0.0004221; в группе B: 0.0040238\n",
      " === Разница средних в коварите между группами А и B в среднем: 0.00087337\n",
      "\n"
     ]
    },
    {
     "name": "stderr",
     "output_type": "stream",
     "text": [
      "\n"
     ]
    }
   ],
   "source": [
    "power = []\n",
    "diff_var_a, diff_var_b = [], []\n",
    "diff_mean_group_in_cov = []\n",
    "diff_mean_a, diff_mean_b = [], []\n",
    "\n",
    "\n",
    "for idx in tqdm(range(ITER)):\n",
    "\n",
    "    df_with_group = groups_splitter(df_shop.copy(), columns=[\"user_id\", \"group\", \"cart_added_cnt\"], user_salt=salt_generator())\n",
    "\n",
    "    all_df = pd.merge(df_with_group, shop_metrics_old[['user_id', 'cart_added_cnt']], on=['user_id'], how='left')\n",
    "    all_df = all_df.rename(columns={'cart_added_cnt_x': 'cart_added_cnt', 'cart_added_cnt_y': 'cart_added_cnt_covariate'})\n",
    "    \n",
    "     # Прологарифмируем метрики в группах\n",
    "    all_df[\"cart_added_cnt\"] = np.log(all_df[\"cart_added_cnt\"] + 1)\n",
    "    all_df[\"cart_added_cnt_covariate\"] = np.log(all_df[\"cart_added_cnt_covariate\"] + 1)\n",
    "\n",
    "    cuped_df = cuped_transform(all_df, ['cart_added_cnt'])\n",
    "    \n",
    "    vec_a = cuped_df[(cuped_df['group'] == 'A')]['cart_added_cnt_cuped']\n",
    "    vec_b = cuped_df[(cuped_df['group'] == 'B')]['cart_added_cnt_cuped']\n",
    "\n",
    "    vec_b_effect = vec_b * 1.05\n",
    "\n",
    "    p_power = stats.ttest_ind(vec_a, vec_b_effect)[1]\n",
    "    power.append(p_power)\n",
    "\n",
    "    var_a = cuped_df[(cuped_df['group'] == 'A')][\"cart_added_cnt\"].var()\n",
    "    var_b = cuped_df[(cuped_df['group'] == 'B')][\"cart_added_cnt\"].var()\n",
    "    mean_a = cuped_df[(cuped_df['group'] == 'A')][\"cart_added_cnt\"].mean()\n",
    "    mean_b = cuped_df[(cuped_df['group'] == 'B')][\"cart_added_cnt\"].mean()\n",
    "    mean_a_in_cov = cuped_df[(cuped_df['group'] == 'A')][\"cart_added_cnt_covariate\"].mean()\n",
    "    mean_b_in_cov = cuped_df[(cuped_df['group'] == 'B')][\"cart_added_cnt_covariate\"].mean()\n",
    "\n",
    "    var_cuped_a = vec_a.var()\n",
    "    var_cuped_b = vec_b_effect.var()\n",
    "    mean_cuped_a = vec_a.mean()\n",
    "    mean_cuped_b = vec_b_effect.mean()\n",
    "\n",
    "    diff_var_a.append(var_a - var_cuped_a)\n",
    "    diff_var_b.append(var_b - var_cuped_b)\n",
    "    diff_mean_a.append(abs(mean_a - mean_cuped_a))\n",
    "    diff_mean_b.append(abs(mean_b - mean_cuped_b))\n",
    "    diff_mean_group_in_cov.append(abs(mean_a_in_cov - mean_b_in_cov))\n",
    "\n",
    "\n",
    "power = np.array(power)\n",
    "power_res2 = len(power[power < ALPHA]) / len(power) \n",
    "\n",
    "diff_var_a2 = np.mean(diff_var_a)\n",
    "diff_var_b2 = np.mean(diff_var_b)\n",
    "diff_mean_a2 = np.mean(diff_mean_a)\n",
    "diff_mean_b2 = np.mean(diff_mean_b)\n",
    "diff_mean_group_in_cov2 = np.mean(diff_mean_group_in_cov)\n",
    "\n",
    "print(\n",
    "    f\" === Power: {power_res2:.3%}\\n\"\n",
    "    f\" ============================\\n\"\n",
    "    f\" === Диспресия в среднем сокращается в группе А на {diff_var_a2:.5}; в группе B на {diff_var_b2:.5}\\n\"\n",
    "    f\" === Разница средних до и после применения cuped в среднем в группе А: {diff_mean_a2:.5}; в группе B: {diff_mean_b2:.5}\\n\"\n",
    "    f\" === Разница средних в коварите между группами А и B в среднем: {diff_mean_group_in_cov2:.5}\\n\"\n",
    ")"
   ]
  },
  {
   "cell_type": "markdown",
   "metadata": {},
   "source": [
    "**CUPED метрике cart_added_cnt (а после подвергнуть ранговому преобразованию)**"
   ]
  },
  {
   "cell_type": "code",
   "execution_count": 24,
   "metadata": {},
   "outputs": [
    {
     "name": "stderr",
     "output_type": "stream",
     "text": [
      "100%|██████████| 1000/1000 [08:40<00:00,  1.92it/s]"
     ]
    },
    {
     "name": "stdout",
     "output_type": "stream",
     "text": [
      " === Power: 100.000%\n",
      " ============================\n",
      " === Диспресия в среднем сокращается в группе А на 0.38502; в группе B на 0.37851\n",
      " === Разница средних до и после применения cuped в среднем в группе А: 0.0010671; в группе B: 0.0068689\n",
      " === Разница средних в коварите между группами А и B в среднем: 0.0022822\n",
      "\n"
     ]
    },
    {
     "name": "stderr",
     "output_type": "stream",
     "text": [
      "\n"
     ]
    }
   ],
   "source": [
    "power = []\n",
    "diff_var_a, diff_var_b = [], []\n",
    "diff_mean_group_in_cov = []\n",
    "diff_mean_a, diff_mean_b = [], []\n",
    "\n",
    "\n",
    "for idx in tqdm(range(ITER)):\n",
    "\n",
    "    df_with_group = groups_splitter(df_shop.copy(), columns=[\"user_id\", \"group\", \"cart_added_cnt\"], user_salt=salt_generator())\n",
    "\n",
    "    all_df = pd.merge(df_with_group, shop_metrics_old[['user_id', 'cart_added_cnt']], on=['user_id'], how='left')\n",
    "    all_df = all_df.rename(columns={'cart_added_cnt_x': 'cart_added_cnt', 'cart_added_cnt_y': 'cart_added_cnt_covariate'})\n",
    "    \n",
    "    # CUPED transform\n",
    "    cuped_df = cuped_transform(all_df, ['cart_added_cnt'])\n",
    "    \n",
    "    # Added effect 5%\n",
    "    cuped_df.loc[cuped_df.group == 'B', 'cart_added_cnt_cuped'] *= 1.05\n",
    "\n",
    "    # RANK transform\n",
    "    df_cuped_ranked_curr = rank_transform(\n",
    "        df_group_a=cuped_df[cuped_df[\"group\"] == \"A\"], \n",
    "        df_group_b=cuped_df[cuped_df[\"group\"] == \"B\"], \n",
    "        metric_name='cart_added_cnt_cuped'\n",
    "    )\n",
    "\n",
    "    vec_a_rank = df_cuped_ranked_curr[df_cuped_ranked_curr['group'] == 'A']['cart_added_cnt_cuped_rank']\n",
    "    vec_b_rank_effect = df_cuped_ranked_curr[df_cuped_ranked_curr['group'] == 'B']['cart_added_cnt_cuped_rank']\n",
    "\n",
    "    p_power = stats.ttest_ind(vec_a_rank, vec_b_rank_effect)[1]\n",
    "    power.append(p_power)\n",
    "\n",
    "    var_a = cuped_df[(cuped_df['group'] == 'A')][\"cart_added_cnt\"].var()\n",
    "    var_b = cuped_df[(cuped_df['group'] == 'B')][\"cart_added_cnt\"].var()\n",
    "    mean_a = cuped_df[(cuped_df['group'] == 'A')][\"cart_added_cnt\"].mean()\n",
    "    mean_b = cuped_df[(cuped_df['group'] == 'B')][\"cart_added_cnt\"].mean()\n",
    "    mean_a_in_cov = cuped_df[(cuped_df['group'] == 'A')][\"cart_added_cnt_covariate\"].mean()\n",
    "    mean_b_in_cov = cuped_df[(cuped_df['group'] == 'B')][\"cart_added_cnt_covariate\"].mean()\n",
    "\n",
    "    var_cuped_a = cuped_df[(cuped_df['group'] == 'A')][\"cart_added_cnt_cuped\"].var()\n",
    "    var_cuped_b = cuped_df[(cuped_df['group'] == 'B')][\"cart_added_cnt_cuped\"].var()\n",
    "    mean_cuped_a = cuped_df[(cuped_df['group'] == 'A')][\"cart_added_cnt_cuped\"].mean()\n",
    "    mean_cuped_b = cuped_df[(cuped_df['group'] == 'B')][\"cart_added_cnt_cuped\"].mean()\n",
    "\n",
    "    diff_var_a.append(var_a - var_cuped_a)\n",
    "    diff_var_b.append(var_b - var_cuped_b)\n",
    "    diff_mean_a.append(abs(mean_a - mean_cuped_a))\n",
    "    diff_mean_b.append(abs(mean_b - mean_cuped_b))\n",
    "    diff_mean_group_in_cov.append(abs(mean_a_in_cov - mean_b_in_cov))\n",
    "\n",
    "power = np.array(power)\n",
    "power_res3 = len(power[power < ALPHA]) / len(power) \n",
    "\n",
    "diff_var_a3 = np.mean(diff_var_a)\n",
    "diff_var_b3 = np.mean(diff_var_b)\n",
    "diff_mean_a3 = np.mean(diff_mean_a)\n",
    "diff_mean_b3 = np.mean(diff_mean_b)\n",
    "diff_mean_group_in_cov3 = np.mean(diff_mean_group_in_cov)\n",
    "\n",
    "print(\n",
    "    f\" === Power: {power_res3:.3%}\\n\"\n",
    "    f\" ============================\\n\"\n",
    "    f\" === Диспресия в среднем сокращается в группе А на {diff_var_a3:.5}; в группе B на {diff_var_b3:.5}\\n\"\n",
    "    f\" === Разница средних до и после применения cuped в среднем в группе А: {diff_mean_a3:.5}; в группе B: {diff_mean_b3:.5}\\n\"\n",
    "    f\" === Разница средних в коварите между группами А и B в среднем: {diff_mean_group_in_cov3:.5}\\n\"\n",
    ")"
   ]
  },
  {
   "cell_type": "code",
   "execution_count": 25,
   "metadata": {},
   "outputs": [
    {
     "data": {
      "text/html": [
       "<div>\n",
       "<style scoped>\n",
       "    .dataframe tbody tr th:only-of-type {\n",
       "        vertical-align: middle;\n",
       "    }\n",
       "\n",
       "    .dataframe tbody tr th {\n",
       "        vertical-align: top;\n",
       "    }\n",
       "\n",
       "    .dataframe thead th {\n",
       "        text-align: right;\n",
       "    }\n",
       "</style>\n",
       "<table border=\"1\" class=\"dataframe\">\n",
       "  <thead>\n",
       "    <tr style=\"text-align: right;\">\n",
       "      <th></th>\n",
       "      <th>power</th>\n",
       "      <th>Сокращение дисперсии в группе А</th>\n",
       "      <th>Сокращение дисперсии в группе B</th>\n",
       "      <th>Разница средних в группе А</th>\n",
       "      <th>Разница средних в группе Б</th>\n",
       "      <th>Разница средних в ковариате между группами А и Б</th>\n",
       "    </tr>\n",
       "  </thead>\n",
       "  <tbody>\n",
       "    <tr>\n",
       "      <th>cart_added_cnt+CUPED</th>\n",
       "      <td>1.0</td>\n",
       "      <td>0.380646</td>\n",
       "      <td>0.382882</td>\n",
       "      <td>0.001052</td>\n",
       "      <td>0.006789</td>\n",
       "      <td>0.002251</td>\n",
       "    </tr>\n",
       "    <tr>\n",
       "      <th>cart_added_cnt+log+CUPED</th>\n",
       "      <td>1.0</td>\n",
       "      <td>0.063575</td>\n",
       "      <td>0.063362</td>\n",
       "      <td>0.000422</td>\n",
       "      <td>0.004024</td>\n",
       "      <td>0.000873</td>\n",
       "    </tr>\n",
       "    <tr>\n",
       "      <th>cart_added_cnt+CUPED+RANK</th>\n",
       "      <td>1.0</td>\n",
       "      <td>0.385025</td>\n",
       "      <td>0.378508</td>\n",
       "      <td>0.001067</td>\n",
       "      <td>0.006869</td>\n",
       "      <td>0.002282</td>\n",
       "    </tr>\n",
       "  </tbody>\n",
       "</table>\n",
       "</div>"
      ],
      "text/plain": [
       "                           power  Сокращение дисперсии в группе А  \\\n",
       "cart_added_cnt+CUPED         1.0                         0.380646   \n",
       "cart_added_cnt+log+CUPED     1.0                         0.063575   \n",
       "cart_added_cnt+CUPED+RANK    1.0                         0.385025   \n",
       "\n",
       "                           Сокращение дисперсии в группе B  \\\n",
       "cart_added_cnt+CUPED                              0.382882   \n",
       "cart_added_cnt+log+CUPED                          0.063362   \n",
       "cart_added_cnt+CUPED+RANK                         0.378508   \n",
       "\n",
       "                           Разница средних в группе А  \\\n",
       "cart_added_cnt+CUPED                         0.001052   \n",
       "cart_added_cnt+log+CUPED                     0.000422   \n",
       "cart_added_cnt+CUPED+RANK                    0.001067   \n",
       "\n",
       "                           Разница средних в группе Б  \\\n",
       "cart_added_cnt+CUPED                         0.006789   \n",
       "cart_added_cnt+log+CUPED                     0.004024   \n",
       "cart_added_cnt+CUPED+RANK                    0.006869   \n",
       "\n",
       "                           Разница средних в ковариате между группами А и Б  \n",
       "cart_added_cnt+CUPED                                               0.002251  \n",
       "cart_added_cnt+log+CUPED                                           0.000873  \n",
       "cart_added_cnt+CUPED+RANK                                          0.002282  "
      ]
     },
     "execution_count": 25,
     "metadata": {},
     "output_type": "execute_result"
    }
   ],
   "source": [
    "df_result = pd.DataFrame(\n",
    "    {\n",
    "        \"power\": [power_res1, power_res2, power_res3],\n",
    "        \"Сокращение дисперсии в группе А\": [diff_var_a1, diff_var_a2, diff_var_a3],\n",
    "        \"Сокращение дисперсии в группе B\": [diff_var_b1, diff_var_b2, diff_var_b3],\n",
    "        \"Разница средних в группе А\": [diff_mean_a1, diff_mean_a2, diff_mean_a3],\n",
    "        \"Разница средних в группе Б\": [diff_mean_b1, diff_mean_b2, diff_mean_b3],\n",
    "        \"Разница средних в ковариате между группами А и Б\": [diff_mean_group_in_cov1, diff_mean_group_in_cov2, diff_mean_group_in_cov3],\n",
    "    },\n",
    "    index=[\"cart_added_cnt+CUPED\", \"cart_added_cnt+log+CUPED\", \"cart_added_cnt+CUPED+RANK\"]\n",
    ")\n",
    "\n",
    "df_result"
   ]
  },
  {
   "cell_type": "markdown",
   "metadata": {},
   "source": [
    "**Все подходы демонстрируют хорошую мощность.** Возможно следевало бы взять во внимание распределение метрики и добавлять эффект с учетом этого, а не просто домножать на константу"
   ]
  },
  {
   "cell_type": "markdown",
   "metadata": {},
   "source": [
    "## 3. Реализовать разбивку на бакеты, оценить t-критерием и сравнить с результатом без бакетирования:\n",
    "- на логнормальном распределении (сгенерированные данные)\n",
    "- на метрике cart_added_cnt"
   ]
  },
  {
   "cell_type": "code",
   "execution_count": 26,
   "metadata": {},
   "outputs": [],
   "source": [
    "def get_bucket(df: pd.DataFrame, col_metric: str, num_buckets: int) -> pd.DataFrame:\n",
    "    df = (\n",
    "        df.sort_values(by=col_metric)\n",
    "        .reset_index(drop=True)\n",
    "    )\n",
    "    bucket_size = len(df) // num_buckets   \n",
    "    df[\"bucket\"] =  df.index // bucket_size\n",
    "\n",
    "    df = df.groupby(\"bucket\", as_index=False)[col_metric].agg(\"mean\")\n",
    "    df.rename(columns={\"bucket\": \"user_id\"}, inplace=True)\n",
    "    \n",
    "    return df"
   ]
  },
  {
   "cell_type": "markdown",
   "metadata": {},
   "source": [
    "**на логнормальном распределении (сгенерированные данные):**"
   ]
  },
  {
   "cell_type": "code",
   "execution_count": 27,
   "metadata": {},
   "outputs": [
    {
     "data": {
      "text/html": [
       "<div>\n",
       "<style scoped>\n",
       "    .dataframe tbody tr th:only-of-type {\n",
       "        vertical-align: middle;\n",
       "    }\n",
       "\n",
       "    .dataframe tbody tr th {\n",
       "        vertical-align: top;\n",
       "    }\n",
       "\n",
       "    .dataframe thead th {\n",
       "        text-align: right;\n",
       "    }\n",
       "</style>\n",
       "<table border=\"1\" class=\"dataframe\">\n",
       "  <thead>\n",
       "    <tr style=\"text-align: right;\">\n",
       "      <th></th>\n",
       "      <th>user_id</th>\n",
       "      <th>metric</th>\n",
       "    </tr>\n",
       "  </thead>\n",
       "  <tbody>\n",
       "    <tr>\n",
       "      <th>0</th>\n",
       "      <td>0</td>\n",
       "      <td>0.697330</td>\n",
       "    </tr>\n",
       "    <tr>\n",
       "      <th>1</th>\n",
       "      <td>1</td>\n",
       "      <td>1.751290</td>\n",
       "    </tr>\n",
       "    <tr>\n",
       "      <th>2</th>\n",
       "      <td>2</td>\n",
       "      <td>2.615818</td>\n",
       "    </tr>\n",
       "    <tr>\n",
       "      <th>3</th>\n",
       "      <td>3</td>\n",
       "      <td>0.305159</td>\n",
       "    </tr>\n",
       "    <tr>\n",
       "      <th>4</th>\n",
       "      <td>4</td>\n",
       "      <td>2.706582</td>\n",
       "    </tr>\n",
       "  </tbody>\n",
       "</table>\n",
       "</div>"
      ],
      "text/plain": [
       "   user_id    metric\n",
       "0        0  0.697330\n",
       "1        1  1.751290\n",
       "2        2  2.615818\n",
       "3        3  0.305159\n",
       "4        4  2.706582"
      ]
     },
     "execution_count": 27,
     "metadata": {},
     "output_type": "execute_result"
    }
   ],
   "source": [
    "size = 1_000_000\n",
    "log_norm_data = np.random.lognormal(mean=0, sigma=1, size=size)\n",
    "df_log_norm = pd.DataFrame({\"user_id\": np.arange(size), \"metric\": log_norm_data})\n",
    "df_log_norm.head()"
   ]
  },
  {
   "cell_type": "code",
   "execution_count": 28,
   "metadata": {},
   "outputs": [],
   "source": [
    "ALPHA = 0.5\n",
    "ITER = 1000\n",
    "NUM_BUCKETS = [100, 1_000, 10_000, 50_000, 100_000, 500_000]"
   ]
  },
  {
   "cell_type": "markdown",
   "metadata": {},
   "source": [
    "**без бакитирования:**"
   ]
  },
  {
   "cell_type": "code",
   "execution_count": 29,
   "metadata": {},
   "outputs": [
    {
     "name": "stderr",
     "output_type": "stream",
     "text": [
      "100%|██████████| 1000/1000 [24:03<00:00,  1.44s/it]\n"
     ]
    },
    {
     "name": "stdout",
     "output_type": "stream",
     "text": [
      "p_value = 0.11623996612206355 - p_values равномерное распределение\n",
      " === Power: 100.000%\n",
      " === Correctness: 50.900%\n"
     ]
    },
    {
     "data": {
      "image/png": "[encoded data removed]",
      "text/plain": [
       "<Figure size 470x427 with 1 Axes>"
      ]
     },
     "metadata": {},
     "output_type": "display_data"
    }
   ],
   "source": [
    "correctness = []\n",
    "power = []\n",
    "\n",
    "for idx in tqdm(range(ITER)):\n",
    "    df_with_group = groups_splitter(df_log_norm.copy(), columns=[\"user_id\", \"group\", \"metric\"], user_salt=salt_generator())\n",
    "\n",
    "    vec_a = df_with_group[df_with_group.group == 'A']['metric']\n",
    "    vec_b = df_with_group[df_with_group.group == 'B']['metric']\n",
    "    vec_b_effect = vec_b * 1.05\n",
    "\n",
    "    p_correctness, p_power = stats.ttest_ind(vec_a, vec_b)[1], stats.ttest_ind(vec_a, vec_b_effect)[1]\n",
    "    correctness.append(p_correctness)\n",
    "    power.append(p_power)\n",
    "\n",
    "correctness = np.array(correctness)\n",
    "power = np.array(power)\n",
    "\n",
    "sns.histplot(data=correctness, bins=10, kde=True)\n",
    "\n",
    "_, p_value_for_norm = stats.kstest(correctness, scipy.stats.uniform(loc=0.0, scale=1.0).cdf)\n",
    "if p_value_for_norm < 0.05:\n",
    "    print(f'p_value = {p_value_for_norm} - p_values неравномерное распределение')\n",
    "else:\n",
    "    print(f'p_value = {p_value_for_norm} - p_values равномерное распределение')\n",
    "\n",
    "print(\n",
    "    f\" === Power: {len(power[power < ALPHA]) / len(power) :.3%}\\n\"\n",
    "    f\" === Correctness: {1 - len(correctness[correctness < ALPHA]) / len(correctness):.3%}\"\n",
    ")"
   ]
  },
  {
   "cell_type": "markdown",
   "metadata": {},
   "source": [
    "**Мощность хорошая, но корректность не очень, хоть она и имеет равномерное распредление по критерию Колмоговора-Смирнова**"
   ]
  },
  {
   "cell_type": "markdown",
   "metadata": {},
   "source": [
    "**с бакитированием:**"
   ]
  },
  {
   "cell_type": "code",
   "execution_count": 30,
   "metadata": {},
   "outputs": [
    {
     "name": "stdout",
     "output_type": "stream",
     "text": [
      " === Number of buckets: 100 ===\n",
      "p_value = 0.0 - распределние мерики после бакитирования не нормальное\n",
      " === Power: 100.000%\n",
      " === Correctness: 50.900%\n"
     ]
    },
    {
     "name": "stderr",
     "output_type": "stream",
     "text": [
      "100%|██████████| 1000/1000 [00:02<00:00, 344.34it/s]\n"
     ]
    },
    {
     "name": "stdout",
     "output_type": "stream",
     "text": [
      "p_value = 0.025812033493359587 - p_values неравномерное распределение\n",
      " === Power: 54.400%\n",
      " === Correctness: 47.600%\n",
      "\n",
      "****************************************\n",
      "\n",
      " === Number of buckets: 1000 ===\n",
      "p_value = 0.0 - распределние мерики после бакитирования не нормальное\n",
      " === Power: 54.400%\n",
      " === Correctness: 47.600%\n"
     ]
    },
    {
     "name": "stderr",
     "output_type": "stream",
     "text": [
      "100%|██████████| 1000/1000 [00:03<00:00, 333.33it/s]\n"
     ]
    },
    {
     "name": "stdout",
     "output_type": "stream",
     "text": [
      "p_value = 0.5163363840624504 - p_values равномерное распределение\n",
      " === Power: 56.900%\n",
      " === Correctness: 50.000%\n",
      "\n",
      "****************************************\n",
      "\n",
      " === Number of buckets: 10000 ===\n",
      "p_value = 0.0 - распределние мерики после бакитирования не нормальное\n",
      " === Power: 56.900%\n",
      " === Correctness: 50.000%\n"
     ]
    },
    {
     "name": "stderr",
     "output_type": "stream",
     "text": [
      "100%|██████████| 1000/1000 [00:16<00:00, 60.18it/s]\n"
     ]
    },
    {
     "name": "stdout",
     "output_type": "stream",
     "text": [
      "p_value = 0.7448380799961092 - p_values равномерное распределение\n",
      " === Power: 88.400%\n",
      " === Correctness: 49.500%\n",
      "\n",
      "****************************************\n",
      "\n",
      " === Number of buckets: 50000 ===\n",
      "p_value = 0.0 - распределние мерики после бакитирования не нормальное\n",
      " === Power: 88.400%\n",
      " === Correctness: 49.500%\n"
     ]
    },
    {
     "name": "stderr",
     "output_type": "stream",
     "text": [
      "100%|██████████| 1000/1000 [01:17<00:00, 12.86it/s]\n"
     ]
    },
    {
     "name": "stdout",
     "output_type": "stream",
     "text": [
      "p_value = 0.1991259123095157 - p_values равномерное распределение\n",
      " === Power: 100.000%\n",
      " === Correctness: 52.800%\n",
      "\n",
      "****************************************\n",
      "\n",
      " === Number of buckets: 100000 ===\n",
      "p_value = 0.0 - распределние мерики после бакитирования не нормальное\n",
      " === Power: 100.000%\n",
      " === Correctness: 52.800%\n"
     ]
    },
    {
     "name": "stderr",
     "output_type": "stream",
     "text": [
      "100%|██████████| 1000/1000 [02:28<00:00,  6.75it/s]\n"
     ]
    },
    {
     "name": "stdout",
     "output_type": "stream",
     "text": [
      "p_value = 0.3521674368262536 - p_values равномерное распределение\n",
      " === Power: 100.000%\n",
      " === Correctness: 51.200%\n",
      "\n",
      "****************************************\n",
      "\n",
      " === Number of buckets: 500000 ===\n",
      "p_value = 0.0 - распределние мерики после бакитирования не нормальное\n",
      " === Power: 100.000%\n",
      " === Correctness: 51.200%\n"
     ]
    },
    {
     "name": "stderr",
     "output_type": "stream",
     "text": [
      "100%|██████████| 1000/1000 [1:20:12<00:00,  4.81s/it] \n"
     ]
    },
    {
     "name": "stdout",
     "output_type": "stream",
     "text": [
      "p_value = 0.9072779722936823 - p_values равномерное распределение\n",
      " === Power: 100.000%\n",
      " === Correctness: 49.900%\n",
      "\n",
      "****************************************\n",
      "\n"
     ]
    },
    {
     "data": {
      "image/png": "[encoded data removed]",
      "text/plain": [
       "<Figure size 470x427 with 6 Axes>"
      ]
     },
     "metadata": {},
     "output_type": "display_data"
    }
   ],
   "source": [
    "correctnesses, powers, norms = [], [], []\n",
    "\n",
    "fig, axs = plt.subplots(3, 2)\n",
    "for plt_idx, n_bucket in enumerate(NUM_BUCKETS):\n",
    "    print(f\" === Number of buckets: {n_bucket} ===\")\n",
    "    df_log_norm_bucket = get_bucket(df=df_log_norm.copy(), col_metric=\"metric\", num_buckets=n_bucket)\n",
    "\n",
    "    _, p_value_for_norm = stats.kstest(correctness, \n",
    "                                       scipy.stats.norm(loc=df_log_norm_bucket['metric'].mean(), \n",
    "                                                        scale=df_log_norm_bucket['metric'].std()).cdf)\n",
    "    if p_value_for_norm < 0.05:\n",
    "        print(f'p_value = {p_value_for_norm} - распределние мерики после бакитирования не нормальное')\n",
    "        norms.append(False)\n",
    "    else:\n",
    "        norms.append(True)\n",
    "        print(f'p_value = {p_value_for_norm} - распределние мерики после бакитирования нормальное')\n",
    "\n",
    "    print(\n",
    "        f\" === Power: {len(power[power < ALPHA]) / len(power) :.3%}\\n\"\n",
    "        f\" === Correctness: {1 - len(correctness[correctness < ALPHA]) / len(correctness):.3%}\"\n",
    "    )\n",
    "    correctness = []\n",
    "    power = []\n",
    "\n",
    "    for idx in tqdm(range(ITER)):\n",
    "        df_with_group = groups_splitter(df_log_norm_bucket.copy(), columns=[\"user_id\", \"group\", \"metric\"], user_salt=salt_generator())\n",
    "\n",
    "        vec_a = df_with_group[df_with_group.group == 'A']['metric']\n",
    "        vec_b = df_with_group[df_with_group.group == 'B']['metric']\n",
    "        vec_b_effect = vec_b * 1.05\n",
    "\n",
    "        p_correctness, p_power = stats.ttest_ind(vec_a, vec_b)[1], stats.ttest_ind(vec_a, vec_b_effect)[1]\n",
    "        correctness.append(p_correctness)\n",
    "        power.append(p_power)\n",
    "\n",
    "    correctness = np.array(correctness)\n",
    "    power = np.array(power)\n",
    "\n",
    "    sns.histplot(data=correctness, bins=10, kde=True, ax=axs[plt_idx % 3, plt_idx % 2]) \n",
    "    axs[plt_idx % 3, plt_idx % 2].set_title(f\"Number of buckets: {n_bucket}\")\n",
    "\n",
    "    _, p_value_for_norm = stats.kstest(correctness, scipy.stats.uniform(loc=0.0, scale=1.0).cdf)\n",
    "    if p_value_for_norm < 0.05:\n",
    "        print(f'p_value = {p_value_for_norm} - p_values неравномерное распределение')\n",
    "    else:\n",
    "        print(f'p_value = {p_value_for_norm} - p_values равномерное распределение')\n",
    "\n",
    "    print(\n",
    "        f\" === Power: {len(power[power < ALPHA]) / len(power) :.3%}\\n\"\n",
    "        f\" === Correctness: {1 - len(correctness[correctness < ALPHA]) / len(correctness):.3%}\"\n",
    "    )\n",
    "\n",
    "    correctnesses.append(np.round((1 - len(correctness[correctness < ALPHA]) / len(correctness)) * 100, 3))\n",
    "    powers.append(np.round(len(power[power < ALPHA]) / len(power) * 100, 3))\n",
    "\n",
    "    print(\"\\n****************************************\\n\")\n",
    "\n",
    "plt.title(\"P-values correctness\")\n",
    "plt.tight_layout()"
   ]
  },
  {
   "cell_type": "code",
   "execution_count": 31,
   "metadata": {},
   "outputs": [
    {
     "data": {
      "text/html": [
       "<div>\n",
       "<style scoped>\n",
       "    .dataframe tbody tr th:only-of-type {\n",
       "        vertical-align: middle;\n",
       "    }\n",
       "\n",
       "    .dataframe tbody tr th {\n",
       "        vertical-align: top;\n",
       "    }\n",
       "\n",
       "    .dataframe thead th {\n",
       "        text-align: right;\n",
       "    }\n",
       "</style>\n",
       "<table border=\"1\" class=\"dataframe\">\n",
       "  <thead>\n",
       "    <tr style=\"text-align: right;\">\n",
       "      <th></th>\n",
       "      <th>Number of buckets</th>\n",
       "      <th>Power</th>\n",
       "      <th>Correctness</th>\n",
       "      <th>Dist_normal</th>\n",
       "    </tr>\n",
       "  </thead>\n",
       "  <tbody>\n",
       "    <tr>\n",
       "      <th>0</th>\n",
       "      <td>100</td>\n",
       "      <td>54.4</td>\n",
       "      <td>47.6</td>\n",
       "      <td>False</td>\n",
       "    </tr>\n",
       "    <tr>\n",
       "      <th>1</th>\n",
       "      <td>1000</td>\n",
       "      <td>56.9</td>\n",
       "      <td>50.0</td>\n",
       "      <td>False</td>\n",
       "    </tr>\n",
       "    <tr>\n",
       "      <th>2</th>\n",
       "      <td>10000</td>\n",
       "      <td>88.4</td>\n",
       "      <td>49.5</td>\n",
       "      <td>False</td>\n",
       "    </tr>\n",
       "    <tr>\n",
       "      <th>3</th>\n",
       "      <td>50000</td>\n",
       "      <td>100.0</td>\n",
       "      <td>52.8</td>\n",
       "      <td>False</td>\n",
       "    </tr>\n",
       "    <tr>\n",
       "      <th>4</th>\n",
       "      <td>100000</td>\n",
       "      <td>100.0</td>\n",
       "      <td>51.2</td>\n",
       "      <td>False</td>\n",
       "    </tr>\n",
       "    <tr>\n",
       "      <th>5</th>\n",
       "      <td>500000</td>\n",
       "      <td>100.0</td>\n",
       "      <td>49.9</td>\n",
       "      <td>False</td>\n",
       "    </tr>\n",
       "  </tbody>\n",
       "</table>\n",
       "</div>"
      ],
      "text/plain": [
       "   Number of buckets  Power  Correctness  Dist_normal\n",
       "0                100   54.4         47.6        False\n",
       "1               1000   56.9         50.0        False\n",
       "2              10000   88.4         49.5        False\n",
       "3              50000  100.0         52.8        False\n",
       "4             100000  100.0         51.2        False\n",
       "5             500000  100.0         49.9        False"
      ]
     },
     "execution_count": 31,
     "metadata": {},
     "output_type": "execute_result"
    }
   ],
   "source": [
    "pd.DataFrame(\n",
    "    {\n",
    "        \"Number of buckets\": NUM_BUCKETS,\n",
    "        \"Power\": powers,\n",
    "        \"Correctness\": correctnesses,\n",
    "        \"Dist_normal\": norms,\n",
    "    }\n",
    ")"
   ]
  },
  {
   "cell_type": "markdown",
   "metadata": {},
   "source": [
    "**При увеличении кол-во бакетов мощность растет (Я это связываю с тем, что эффект следовало бы добавлять по-другому так как тут логнормальное распределение), но корректность теста покзаывает низкие результаты, колеблясь в диапазоне от 47 дл 51**"
   ]
  },
  {
   "cell_type": "markdown",
   "metadata": {},
   "source": [
    "**на метрике cart_added_cnt:**"
   ]
  },
  {
   "cell_type": "markdown",
   "metadata": {},
   "source": [
    "**без бакитирования:**"
   ]
  },
  {
   "cell_type": "code",
   "execution_count": 32,
   "metadata": {},
   "outputs": [
    {
     "name": "stderr",
     "output_type": "stream",
     "text": [
      "100%|██████████| 1000/1000 [3:15:10<00:00, 11.71s/it]   \n"
     ]
    },
    {
     "name": "stdout",
     "output_type": "stream",
     "text": [
      "p_value = 0.6968397633081778 - p_values равномерное распределение\n",
      " === Power: 94.800%\n",
      " === Correctness: 49.300%\n"
     ]
    },
    {
     "data": {
      "image/png": "[encoded data removed]",
      "text/plain": [
       "<Figure size 470x427 with 1 Axes>"
      ]
     },
     "metadata": {},
     "output_type": "display_data"
    }
   ],
   "source": [
    "correctness = []\n",
    "power = []\n",
    "\n",
    "for idx in tqdm(range(ITER)):\n",
    "    df_with_group = groups_splitter(df_shop.copy(), columns=[\"user_id\", \"group\", \"cart_added_cnt\"], user_salt=salt_generator())\n",
    "\n",
    "    vec_a = df_with_group[df_with_group.group == 'A']['cart_added_cnt']\n",
    "    vec_b = df_with_group[df_with_group.group == 'B']['cart_added_cnt']\n",
    "    vec_b_effect = vec_b * 1.05\n",
    "\n",
    "    p_correctness, p_power = stats.ttest_ind(vec_a, vec_b)[1], stats.ttest_ind(vec_a, vec_b_effect)[1]\n",
    "    correctness.append(p_correctness)\n",
    "    power.append(p_power)\n",
    "\n",
    "correctness = np.array(correctness)\n",
    "power = np.array(power)\n",
    "\n",
    "sns.histplot(data=correctness, bins=10, kde=True)\n",
    "\n",
    "_, p_value_for_norm = stats.kstest(correctness, scipy.stats.uniform(loc=0.0, scale=1.0).cdf)\n",
    "if p_value_for_norm < 0.05:\n",
    "    print(f'p_value = {p_value_for_norm} - p_values неравномерное распределение')\n",
    "else:\n",
    "    print(f'p_value = {p_value_for_norm} - p_values равномерное распределение')\n",
    "\n",
    "print(\n",
    "    f\" === Power: {len(power[power < ALPHA]) / len(power) :.3%}\\n\"\n",
    "    f\" === Correctness: {1 - len(correctness[correctness < ALPHA]) / len(correctness):.3%}\"\n",
    ")"
   ]
  },
  {
   "cell_type": "markdown",
   "metadata": {},
   "source": [
    "**Мощность хорошая, но корректность не очень, хоть она и имеет равномерное распредление по критерию Колмоговора-Смирнова**"
   ]
  },
  {
   "cell_type": "markdown",
   "metadata": {},
   "source": [
    "**c бакитированием:**"
   ]
  },
  {
   "cell_type": "code",
   "execution_count": 33,
   "metadata": {},
   "outputs": [],
   "source": [
    "NUM_BUCKETS = [100, 1_000, 10_000, 25_000, 50_000, 100_000]"
   ]
  },
  {
   "cell_type": "code",
   "execution_count": 34,
   "metadata": {},
   "outputs": [
    {
     "name": "stdout",
     "output_type": "stream",
     "text": [
      " === Number of buckets: 100 ===\n",
      "p_value = 6.16529004645696e-181 - распределние мерики после бакитирования не нормальное\n",
      " === Power: 94.800%\n",
      " === Correctness: 49.300%\n"
     ]
    },
    {
     "name": "stderr",
     "output_type": "stream",
     "text": [
      "100%|██████████| 1000/1000 [06:08<00:00,  2.71it/s]\n"
     ]
    },
    {
     "name": "stdout",
     "output_type": "stream",
     "text": [
      "p_value = 8.791558490374316e-199 - p_values неравномерное распределение\n",
      " === Power: 95.900%\n",
      " === Correctness: 3.700%\n",
      "\n",
      "*****************************************************\n",
      "\n",
      " === Number of buckets: 1000 ===\n",
      "p_value = 6.615856490280428e-231 - распределние мерики после бакитирования не нормальное\n",
      " === Power: 95.900%\n",
      " === Correctness: 3.700%\n"
     ]
    },
    {
     "name": "stderr",
     "output_type": "stream",
     "text": [
      "100%|██████████| 1000/1000 [00:03<00:00, 318.04it/s]\n"
     ]
    },
    {
     "name": "stdout",
     "output_type": "stream",
     "text": [
      "p_value = 1.0576452821396001e-08 - p_values неравномерное распределение\n",
      " === Power: 58.500%\n",
      " === Correctness: 40.800%\n",
      "\n",
      "*****************************************************\n",
      "\n",
      " === Number of buckets: 10000 ===\n",
      "p_value = 9.271404425656619e-169 - распределние мерики после бакитирования не нормальное\n",
      " === Power: 58.500%\n",
      " === Correctness: 40.800%\n"
     ]
    },
    {
     "name": "stderr",
     "output_type": "stream",
     "text": [
      "100%|██████████| 1000/1000 [12:22<00:00,  1.35it/s] \n"
     ]
    },
    {
     "name": "stdout",
     "output_type": "stream",
     "text": [
      "p_value = 0.06852147819628485 - p_values неравномерное распределение\n",
      " === Power: 55.500%\n",
      " === Correctness: 47.200%\n",
      "\n",
      "*****************************************************\n",
      "\n",
      " === Number of buckets: 25000 ===\n",
      "p_value = 1.1247851328461433e-167 - распределние мерики после бакитирования не нормальное\n",
      " === Power: 55.500%\n",
      " === Correctness: 47.200%\n"
     ]
    },
    {
     "name": "stderr",
     "output_type": "stream",
     "text": [
      "100%|██████████| 1000/1000 [30:23<00:00,  1.82s/it] \n"
     ]
    },
    {
     "name": "stdout",
     "output_type": "stream",
     "text": [
      "p_value = 0.1770741758338068 - p_values неравномерное распределение\n",
      " === Power: 62.700%\n",
      " === Correctness: 48.900%\n",
      "\n",
      "*****************************************************\n",
      "\n",
      " === Number of buckets: 50000 ===\n",
      "p_value = 3.867820415293586e-163 - распределние мерики после бакитирования не нормальное\n",
      " === Power: 62.700%\n",
      " === Correctness: 48.900%\n"
     ]
    },
    {
     "name": "stderr",
     "output_type": "stream",
     "text": [
      "100%|██████████| 1000/1000 [1:05:08<00:00,  3.91s/it]  \n"
     ]
    },
    {
     "name": "stdout",
     "output_type": "stream",
     "text": [
      "p_value = 0.5302988915356598 - p_values неравномерное распределение\n",
      " === Power: 71.400%\n",
      " === Correctness: 48.900%\n",
      "\n",
      "*****************************************************\n",
      "\n",
      " === Number of buckets: 100000 ===\n",
      "p_value = 2.1286568159916456e-158 - распределние мерики после бакитирования не нормальное\n",
      " === Power: 71.400%\n",
      " === Correctness: 48.900%\n"
     ]
    },
    {
     "name": "stderr",
     "output_type": "stream",
     "text": [
      "100%|██████████| 1000/1000 [12:43:56<00:00, 45.84s/it]       \n"
     ]
    },
    {
     "name": "stdout",
     "output_type": "stream",
     "text": [
      "p_value = 0.6061230001485907 - p_values неравномерное распределение\n",
      " === Power: 84.600%\n",
      " === Correctness: 49.100%\n",
      "\n",
      "*****************************************************\n",
      "\n"
     ]
    },
    {
     "data": {
      "image/png": "[encoded data removed]",
      "text/plain": [
       "<Figure size 470x427 with 6 Axes>"
      ]
     },
     "metadata": {},
     "output_type": "display_data"
    }
   ],
   "source": [
    "correctnesses, powers, normals = [], [], []\n",
    "\n",
    "fig, axs = plt.subplots(3, 2)\n",
    "for plt_idx, n_bucket in enumerate(NUM_BUCKETS):\n",
    "    print(f\" === Number of buckets: {n_bucket} ===\")\n",
    "    df_shop_bucket = get_bucket(df=df_shop.copy(), col_metric=\"cart_added_cnt\", num_buckets=n_bucket)\n",
    "\n",
    "    _, p_value_for_norm = stats.kstest(correctness, \n",
    "                                       scipy.stats.norm(loc=df_shop_bucket['cart_added_cnt'].mean(), \n",
    "                                                        scale=df_shop_bucket['cart_added_cnt'].std()).cdf)\n",
    "    if p_value_for_norm < 0.05:\n",
    "        print(f'p_value = {p_value_for_norm} - распределние мерики после бакитирования не нормальное')\n",
    "        normals.append(False)\n",
    "    else:\n",
    "        normals.append(True)\n",
    "        print(f'p_value = {p_value_for_norm} - распределние мерики после бакитирования нормальное')\n",
    "\n",
    "    print(\n",
    "        f\" === Power: {len(power[power < ALPHA]) / len(power) :.3%}\\n\"\n",
    "        f\" === Correctness: {1 - len(correctness[correctness < ALPHA]) / len(correctness):.3%}\"\n",
    "    )\n",
    "\n",
    "    correctness = []\n",
    "    power = []\n",
    "\n",
    "    for idx in tqdm(range(ITER)):\n",
    "\n",
    "        df_with_group = groups_splitter(df_shop_bucket.copy(), columns=[\"user_id\", \"group\", \"cart_added_cnt\"], user_salt=salt_generator())\n",
    "\n",
    "        vec_a = df_with_group[df_with_group.group == 'A']['cart_added_cnt']\n",
    "        vec_b = df_with_group[df_with_group.group == 'B']['cart_added_cnt']\n",
    "        vec_b_effect = vec_b * 1.05\n",
    "\n",
    "        p_correctness, p_power = stats.ttest_ind(vec_a, vec_b)[1], stats.ttest_ind(vec_a, vec_b_effect)[1]\n",
    "        correctness.append(p_correctness)\n",
    "        power.append(p_power)\n",
    "\n",
    "    correctness = np.array(correctness)\n",
    "    power = np.array(power)\n",
    "\n",
    "    sns.histplot(data=correctness, bins=10, kde=True, ax=axs[plt_idx % 3, plt_idx % 2]) \n",
    "    axs[plt_idx % 3, plt_idx % 2].set_title(f\"Number of buckets: {n_bucket}\")\n",
    "\n",
    "    _, p_value_for_uninorm = stats.kstest(correctness, scipy.stats.uniform(loc=0.0, scale=1.0).cdf)\n",
    "    if p_value_for_norm < 0.05:\n",
    "        print(f'p_value = {p_value_for_uninorm} - p_values неравномерное распределение')\n",
    "    else:\n",
    "        print(f'p_value = {p_value_for_uninorm} - p_values равномерное распределение')\n",
    "\n",
    "    print(\n",
    "        f\" === Power: {len(power[power < ALPHA]) / len(power) :.3%}\\n\"\n",
    "        f\" === Correctness: {1 - len(correctness[correctness < ALPHA]) / len(correctness):.3%}\"\n",
    "    )\n",
    "\n",
    "    correctnesses.append(np.round(len(power[power < ALPHA]) / len(power) * 100, 3))\n",
    "    powers.append(np.round((1 - len(correctness[correctness < ALPHA]) / len(correctness)) * 100, 3))\n",
    "\n",
    "    print(\"\\n*****************************************************\\n\")\n",
    "\n",
    "plt.title(\"P-values correctness\")\n",
    "plt.tight_layout()"
   ]
  },
  {
   "cell_type": "code",
   "execution_count": 35,
   "metadata": {},
   "outputs": [
    {
     "data": {
      "text/html": [
       "<div>\n",
       "<style scoped>\n",
       "    .dataframe tbody tr th:only-of-type {\n",
       "        vertical-align: middle;\n",
       "    }\n",
       "\n",
       "    .dataframe tbody tr th {\n",
       "        vertical-align: top;\n",
       "    }\n",
       "\n",
       "    .dataframe thead th {\n",
       "        text-align: right;\n",
       "    }\n",
       "</style>\n",
       "<table border=\"1\" class=\"dataframe\">\n",
       "  <thead>\n",
       "    <tr style=\"text-align: right;\">\n",
       "      <th></th>\n",
       "      <th>Number of buckets</th>\n",
       "      <th>Power</th>\n",
       "      <th>Correctness</th>\n",
       "      <th>Dist_Normal</th>\n",
       "    </tr>\n",
       "  </thead>\n",
       "  <tbody>\n",
       "    <tr>\n",
       "      <th>0</th>\n",
       "      <td>100</td>\n",
       "      <td>3.7</td>\n",
       "      <td>95.9</td>\n",
       "      <td>False</td>\n",
       "    </tr>\n",
       "    <tr>\n",
       "      <th>1</th>\n",
       "      <td>1000</td>\n",
       "      <td>40.8</td>\n",
       "      <td>58.5</td>\n",
       "      <td>False</td>\n",
       "    </tr>\n",
       "    <tr>\n",
       "      <th>2</th>\n",
       "      <td>10000</td>\n",
       "      <td>47.2</td>\n",
       "      <td>55.5</td>\n",
       "      <td>False</td>\n",
       "    </tr>\n",
       "    <tr>\n",
       "      <th>3</th>\n",
       "      <td>25000</td>\n",
       "      <td>48.9</td>\n",
       "      <td>62.7</td>\n",
       "      <td>False</td>\n",
       "    </tr>\n",
       "    <tr>\n",
       "      <th>4</th>\n",
       "      <td>50000</td>\n",
       "      <td>48.9</td>\n",
       "      <td>71.4</td>\n",
       "      <td>False</td>\n",
       "    </tr>\n",
       "    <tr>\n",
       "      <th>5</th>\n",
       "      <td>100000</td>\n",
       "      <td>49.1</td>\n",
       "      <td>84.6</td>\n",
       "      <td>False</td>\n",
       "    </tr>\n",
       "  </tbody>\n",
       "</table>\n",
       "</div>"
      ],
      "text/plain": [
       "   Number of buckets  Power  Correctness  Dist_Normal\n",
       "0                100    3.7         95.9        False\n",
       "1               1000   40.8         58.5        False\n",
       "2              10000   47.2         55.5        False\n",
       "3              25000   48.9         62.7        False\n",
       "4              50000   48.9         71.4        False\n",
       "5             100000   49.1         84.6        False"
      ]
     },
     "execution_count": 35,
     "metadata": {},
     "output_type": "execute_result"
    }
   ],
   "source": [
    "pd.DataFrame(\n",
    "    {\n",
    "        \"Number of buckets\": NUM_BUCKETS,\n",
    "        \"Power\": powers,\n",
    "        \"Correctness\": correctnesses,\n",
    "        \"Dist_Normal\": norms,\n",
    "    }\n",
    ")"
   ]
  },
  {
   "cell_type": "markdown",
   "metadata": {},
   "source": [
    "**Уже наблюдается другая картина (по сравнению со сгенирированными данными), мощность растет, но не значительно при увелически кол-ва бакетов, а корректность наоборот уменьшается**"
   ]
  },
  {
   "cell_type": "markdown",
   "metadata": {},
   "source": [
    "# 4. Реализовать постстратификацию на данных shop_metrics_old для метрики cart_added_cnt:\n",
    "- на сочетании пола и возраста (возраст разбить на подгруппы: 18-24, 25-45, 46-60, 61-75, 76+)\n",
    "подсчитать результаты для случая без постстратификации и с постстратификацией\n",
    "- проверить мощность и корректность t-критерия для постстратифицированного случая"
   ]
  },
  {
   "cell_type": "code",
   "execution_count": 36,
   "metadata": {},
   "outputs": [
    {
     "data": {
      "text/html": [
       "<div>\n",
       "<style scoped>\n",
       "    .dataframe tbody tr th:only-of-type {\n",
       "        vertical-align: middle;\n",
       "    }\n",
       "\n",
       "    .dataframe tbody tr th {\n",
       "        vertical-align: top;\n",
       "    }\n",
       "\n",
       "    .dataframe thead th {\n",
       "        text-align: right;\n",
       "    }\n",
       "</style>\n",
       "<table border=\"1\" class=\"dataframe\">\n",
       "  <thead>\n",
       "    <tr style=\"text-align: right;\">\n",
       "      <th></th>\n",
       "      <th>user_id</th>\n",
       "      <th>group</th>\n",
       "      <th>is_viewed</th>\n",
       "      <th>products_viewed_cnt</th>\n",
       "      <th>price_sum</th>\n",
       "      <th>is_cart_added</th>\n",
       "      <th>is_purchased</th>\n",
       "      <th>cart_added_cnt</th>\n",
       "      <th>purchased_cnt</th>\n",
       "    </tr>\n",
       "  </thead>\n",
       "  <tbody>\n",
       "    <tr>\n",
       "      <th>0</th>\n",
       "      <td>1515915625353226922</td>\n",
       "      <td>B</td>\n",
       "      <td>1</td>\n",
       "      <td>1</td>\n",
       "      <td>76.48</td>\n",
       "      <td>0.0</td>\n",
       "      <td>0.0</td>\n",
       "      <td>0</td>\n",
       "      <td>0</td>\n",
       "    </tr>\n",
       "    <tr>\n",
       "      <th>1</th>\n",
       "      <td>1515915625353230067</td>\n",
       "      <td>A</td>\n",
       "      <td>1</td>\n",
       "      <td>1</td>\n",
       "      <td>28.98</td>\n",
       "      <td>0.0</td>\n",
       "      <td>0.0</td>\n",
       "      <td>0</td>\n",
       "      <td>0</td>\n",
       "    </tr>\n",
       "    <tr>\n",
       "      <th>2</th>\n",
       "      <td>1515915625353230683</td>\n",
       "      <td>A</td>\n",
       "      <td>1</td>\n",
       "      <td>10</td>\n",
       "      <td>592.21</td>\n",
       "      <td>0.0</td>\n",
       "      <td>0.0</td>\n",
       "      <td>0</td>\n",
       "      <td>0</td>\n",
       "    </tr>\n",
       "    <tr>\n",
       "      <th>3</th>\n",
       "      <td>1515915625353230922</td>\n",
       "      <td>A</td>\n",
       "      <td>1</td>\n",
       "      <td>1</td>\n",
       "      <td>274.40</td>\n",
       "      <td>0.0</td>\n",
       "      <td>0.0</td>\n",
       "      <td>0</td>\n",
       "      <td>0</td>\n",
       "    </tr>\n",
       "    <tr>\n",
       "      <th>4</th>\n",
       "      <td>1515915625353234047</td>\n",
       "      <td>A</td>\n",
       "      <td>1</td>\n",
       "      <td>14</td>\n",
       "      <td>1857.94</td>\n",
       "      <td>0.0</td>\n",
       "      <td>0.0</td>\n",
       "      <td>0</td>\n",
       "      <td>0</td>\n",
       "    </tr>\n",
       "    <tr>\n",
       "      <th>406858</th>\n",
       "      <td>1515915625611023671</td>\n",
       "      <td>B</td>\n",
       "      <td>1</td>\n",
       "      <td>1</td>\n",
       "      <td>32.22</td>\n",
       "      <td>0.0</td>\n",
       "      <td>0.0</td>\n",
       "      <td>0</td>\n",
       "      <td>0</td>\n",
       "    </tr>\n",
       "    <tr>\n",
       "      <th>406859</th>\n",
       "      <td>1515915625611023730</td>\n",
       "      <td>B</td>\n",
       "      <td>1</td>\n",
       "      <td>1</td>\n",
       "      <td>219.94</td>\n",
       "      <td>0.0</td>\n",
       "      <td>0.0</td>\n",
       "      <td>0</td>\n",
       "      <td>0</td>\n",
       "    </tr>\n",
       "    <tr>\n",
       "      <th>406860</th>\n",
       "      <td>1515915625611024014</td>\n",
       "      <td>B</td>\n",
       "      <td>1</td>\n",
       "      <td>1</td>\n",
       "      <td>80.03</td>\n",
       "      <td>0.0</td>\n",
       "      <td>0.0</td>\n",
       "      <td>0</td>\n",
       "      <td>0</td>\n",
       "    </tr>\n",
       "    <tr>\n",
       "      <th>406861</th>\n",
       "      <td>1515915625611024020</td>\n",
       "      <td>B</td>\n",
       "      <td>1</td>\n",
       "      <td>1</td>\n",
       "      <td>64.92</td>\n",
       "      <td>0.0</td>\n",
       "      <td>0.0</td>\n",
       "      <td>0</td>\n",
       "      <td>0</td>\n",
       "    </tr>\n",
       "    <tr>\n",
       "      <th>406862</th>\n",
       "      <td>1515915625611024030</td>\n",
       "      <td>B</td>\n",
       "      <td>1</td>\n",
       "      <td>1</td>\n",
       "      <td>10.16</td>\n",
       "      <td>0.0</td>\n",
       "      <td>0.0</td>\n",
       "      <td>0</td>\n",
       "      <td>0</td>\n",
       "    </tr>\n",
       "  </tbody>\n",
       "</table>\n",
       "</div>"
      ],
      "text/plain": [
       "                    user_id group  is_viewed  products_viewed_cnt  price_sum  \\\n",
       "0       1515915625353226922     B          1                    1      76.48   \n",
       "1       1515915625353230067     A          1                    1      28.98   \n",
       "2       1515915625353230683     A          1                   10     592.21   \n",
       "3       1515915625353230922     A          1                    1     274.40   \n",
       "4       1515915625353234047     A          1                   14    1857.94   \n",
       "406858  1515915625611023671     B          1                    1      32.22   \n",
       "406859  1515915625611023730     B          1                    1     219.94   \n",
       "406860  1515915625611024014     B          1                    1      80.03   \n",
       "406861  1515915625611024020     B          1                    1      64.92   \n",
       "406862  1515915625611024030     B          1                    1      10.16   \n",
       "\n",
       "        is_cart_added  is_purchased  cart_added_cnt  purchased_cnt  \n",
       "0                 0.0           0.0               0              0  \n",
       "1                 0.0           0.0               0              0  \n",
       "2                 0.0           0.0               0              0  \n",
       "3                 0.0           0.0               0              0  \n",
       "4                 0.0           0.0               0              0  \n",
       "406858            0.0           0.0               0              0  \n",
       "406859            0.0           0.0               0              0  \n",
       "406860            0.0           0.0               0              0  \n",
       "406861            0.0           0.0               0              0  \n",
       "406862            0.0           0.0               0              0  "
      ]
     },
     "execution_count": 36,
     "metadata": {},
     "output_type": "execute_result"
    }
   ],
   "source": [
    "df_shop_old = shop_metrics_old.copy()  #.drop(\"group\", axis=1)\n",
    "pd.concat([df_shop_old.head(), df_shop_old.tail()])"
   ]
  },
  {
   "cell_type": "code",
   "execution_count": 37,
   "metadata": {},
   "outputs": [
    {
     "data": {
      "text/html": [
       "<div>\n",
       "<style scoped>\n",
       "    .dataframe tbody tr th:only-of-type {\n",
       "        vertical-align: middle;\n",
       "    }\n",
       "\n",
       "    .dataframe tbody tr th {\n",
       "        vertical-align: top;\n",
       "    }\n",
       "\n",
       "    .dataframe thead th {\n",
       "        text-align: right;\n",
       "    }\n",
       "</style>\n",
       "<table border=\"1\" class=\"dataframe\">\n",
       "  <thead>\n",
       "    <tr style=\"text-align: right;\">\n",
       "      <th></th>\n",
       "      <th>user_id</th>\n",
       "      <th>user_age</th>\n",
       "      <th>user_sex</th>\n",
       "    </tr>\n",
       "  </thead>\n",
       "  <tbody>\n",
       "    <tr>\n",
       "      <th>0</th>\n",
       "      <td>1515915625519388267</td>\n",
       "      <td>41</td>\n",
       "      <td>f</td>\n",
       "    </tr>\n",
       "    <tr>\n",
       "      <th>1</th>\n",
       "      <td>1515915625519380411</td>\n",
       "      <td>84</td>\n",
       "      <td>m</td>\n",
       "    </tr>\n",
       "    <tr>\n",
       "      <th>2</th>\n",
       "      <td>1515915625513238515</td>\n",
       "      <td>41</td>\n",
       "      <td>m</td>\n",
       "    </tr>\n",
       "    <tr>\n",
       "      <th>3</th>\n",
       "      <td>1515915625519014356</td>\n",
       "      <td>25</td>\n",
       "      <td>m</td>\n",
       "    </tr>\n",
       "    <tr>\n",
       "      <th>4</th>\n",
       "      <td>1515915625510743344</td>\n",
       "      <td>42</td>\n",
       "      <td>m</td>\n",
       "    </tr>\n",
       "  </tbody>\n",
       "</table>\n",
       "</div>"
      ],
      "text/plain": [
       "               user_id  user_age user_sex\n",
       "0  1515915625519388267        41        f\n",
       "1  1515915625519380411        84        m\n",
       "2  1515915625513238515        41        m\n",
       "3  1515915625519014356        25        m\n",
       "4  1515915625510743344        42        m"
      ]
     },
     "execution_count": 37,
     "metadata": {},
     "output_type": "execute_result"
    }
   ],
   "source": [
    "shop_users_info.head()"
   ]
  },
  {
   "cell_type": "code",
   "execution_count": 38,
   "metadata": {},
   "outputs": [
    {
     "data": {
      "text/plain": [
       "user_id     0\n",
       "user_age    0\n",
       "user_sex    0\n",
       "dtype: int64"
      ]
     },
     "execution_count": 38,
     "metadata": {},
     "output_type": "execute_result"
    }
   ],
   "source": [
    "shop_users_info.isnull().sum()"
   ]
  },
  {
   "cell_type": "code",
   "execution_count": 39,
   "metadata": {},
   "outputs": [
    {
     "data": {
      "text/plain": [
       "user_sex\n",
       "m    244365\n",
       "f    162918\n",
       "Name: count, dtype: int64"
      ]
     },
     "execution_count": 39,
     "metadata": {},
     "output_type": "execute_result"
    }
   ],
   "source": [
    "shop_users_info[\"user_sex\"].value_counts()"
   ]
  },
  {
   "cell_type": "code",
   "execution_count": 40,
   "metadata": {},
   "outputs": [
    {
     "data": {
      "text/html": [
       "<div>\n",
       "<style scoped>\n",
       "    .dataframe tbody tr th:only-of-type {\n",
       "        vertical-align: middle;\n",
       "    }\n",
       "\n",
       "    .dataframe tbody tr th {\n",
       "        vertical-align: top;\n",
       "    }\n",
       "\n",
       "    .dataframe thead th {\n",
       "        text-align: right;\n",
       "    }\n",
       "</style>\n",
       "<table border=\"1\" class=\"dataframe\">\n",
       "  <thead>\n",
       "    <tr style=\"text-align: right;\">\n",
       "      <th></th>\n",
       "      <th>user_id</th>\n",
       "      <th>group</th>\n",
       "      <th>cart_added_cnt</th>\n",
       "      <th>user_age</th>\n",
       "      <th>user_sex</th>\n",
       "    </tr>\n",
       "  </thead>\n",
       "  <tbody>\n",
       "    <tr>\n",
       "      <th>0</th>\n",
       "      <td>1515915625353226922</td>\n",
       "      <td>B</td>\n",
       "      <td>0</td>\n",
       "      <td>55</td>\n",
       "      <td>f</td>\n",
       "    </tr>\n",
       "    <tr>\n",
       "      <th>1</th>\n",
       "      <td>1515915625353230067</td>\n",
       "      <td>A</td>\n",
       "      <td>0</td>\n",
       "      <td>58</td>\n",
       "      <td>m</td>\n",
       "    </tr>\n",
       "    <tr>\n",
       "      <th>2</th>\n",
       "      <td>1515915625353230683</td>\n",
       "      <td>A</td>\n",
       "      <td>0</td>\n",
       "      <td>23</td>\n",
       "      <td>f</td>\n",
       "    </tr>\n",
       "    <tr>\n",
       "      <th>3</th>\n",
       "      <td>1515915625353230922</td>\n",
       "      <td>A</td>\n",
       "      <td>0</td>\n",
       "      <td>33</td>\n",
       "      <td>m</td>\n",
       "    </tr>\n",
       "    <tr>\n",
       "      <th>4</th>\n",
       "      <td>1515915625353234047</td>\n",
       "      <td>A</td>\n",
       "      <td>0</td>\n",
       "      <td>26</td>\n",
       "      <td>f</td>\n",
       "    </tr>\n",
       "  </tbody>\n",
       "</table>\n",
       "</div>"
      ],
      "text/plain": [
       "               user_id group  cart_added_cnt  user_age user_sex\n",
       "0  1515915625353226922     B               0        55        f\n",
       "1  1515915625353230067     A               0        58        m\n",
       "2  1515915625353230683     A               0        23        f\n",
       "3  1515915625353230922     A               0        33        m\n",
       "4  1515915625353234047     A               0        26        f"
      ]
     },
     "execution_count": 40,
     "metadata": {},
     "output_type": "execute_result"
    }
   ],
   "source": [
    "df_shop_old_w_features = pd.merge(df_shop_old[[\"user_id\", \"group\", \"cart_added_cnt\"]], shop_users_info, on=['user_id'], how='left')\n",
    "df_shop_old_w_features.head()"
   ]
  },
  {
   "cell_type": "code",
   "execution_count": 41,
   "metadata": {},
   "outputs": [
    {
     "data": {
      "text/plain": [
       "user_id           0\n",
       "group             0\n",
       "cart_added_cnt    0\n",
       "user_age          0\n",
       "user_sex          0\n",
       "dtype: int64"
      ]
     },
     "execution_count": 41,
     "metadata": {},
     "output_type": "execute_result"
    }
   ],
   "source": [
    "df_shop_old_w_features.isnull().sum()"
   ]
  },
  {
   "cell_type": "code",
   "execution_count": 42,
   "metadata": {},
   "outputs": [
    {
     "data": {
      "text/plain": [
       "(18, 84)"
      ]
     },
     "execution_count": 42,
     "metadata": {},
     "output_type": "execute_result"
    }
   ],
   "source": [
    "df_shop_old_w_features.user_age.min(), df_shop_old_w_features.user_age.max()"
   ]
  },
  {
   "cell_type": "code",
   "execution_count": 43,
   "metadata": {},
   "outputs": [
    {
     "data": {
      "text/plain": [
       "age_group\n",
       "25-45    127901\n",
       "46-60     91051\n",
       "61-75     90435\n",
       "76+       54818\n",
       "18-24     42658\n",
       "Name: count, dtype: int64"
      ]
     },
     "metadata": {},
     "output_type": "display_data"
    },
    {
     "data": {
      "text/html": [
       "<div>\n",
       "<style scoped>\n",
       "    .dataframe tbody tr th:only-of-type {\n",
       "        vertical-align: middle;\n",
       "    }\n",
       "\n",
       "    .dataframe tbody tr th {\n",
       "        vertical-align: top;\n",
       "    }\n",
       "\n",
       "    .dataframe thead th {\n",
       "        text-align: right;\n",
       "    }\n",
       "</style>\n",
       "<table border=\"1\" class=\"dataframe\">\n",
       "  <thead>\n",
       "    <tr style=\"text-align: right;\">\n",
       "      <th></th>\n",
       "      <th>user_id</th>\n",
       "      <th>group</th>\n",
       "      <th>cart_added_cnt</th>\n",
       "      <th>user_age</th>\n",
       "      <th>user_sex</th>\n",
       "      <th>age_group</th>\n",
       "    </tr>\n",
       "  </thead>\n",
       "  <tbody>\n",
       "    <tr>\n",
       "      <th>0</th>\n",
       "      <td>1515915625353226922</td>\n",
       "      <td>B</td>\n",
       "      <td>0</td>\n",
       "      <td>55</td>\n",
       "      <td>f</td>\n",
       "      <td>46-60</td>\n",
       "    </tr>\n",
       "    <tr>\n",
       "      <th>1</th>\n",
       "      <td>1515915625353230067</td>\n",
       "      <td>A</td>\n",
       "      <td>0</td>\n",
       "      <td>58</td>\n",
       "      <td>m</td>\n",
       "      <td>46-60</td>\n",
       "    </tr>\n",
       "    <tr>\n",
       "      <th>2</th>\n",
       "      <td>1515915625353230683</td>\n",
       "      <td>A</td>\n",
       "      <td>0</td>\n",
       "      <td>23</td>\n",
       "      <td>f</td>\n",
       "      <td>18-24</td>\n",
       "    </tr>\n",
       "    <tr>\n",
       "      <th>3</th>\n",
       "      <td>1515915625353230922</td>\n",
       "      <td>A</td>\n",
       "      <td>0</td>\n",
       "      <td>33</td>\n",
       "      <td>m</td>\n",
       "      <td>25-45</td>\n",
       "    </tr>\n",
       "    <tr>\n",
       "      <th>4</th>\n",
       "      <td>1515915625353234047</td>\n",
       "      <td>A</td>\n",
       "      <td>0</td>\n",
       "      <td>26</td>\n",
       "      <td>f</td>\n",
       "      <td>25-45</td>\n",
       "    </tr>\n",
       "  </tbody>\n",
       "</table>\n",
       "</div>"
      ],
      "text/plain": [
       "               user_id group  cart_added_cnt  user_age user_sex age_group\n",
       "0  1515915625353226922     B               0        55        f     46-60\n",
       "1  1515915625353230067     A               0        58        m     46-60\n",
       "2  1515915625353230683     A               0        23        f     18-24\n",
       "3  1515915625353230922     A               0        33        m     25-45\n",
       "4  1515915625353234047     A               0        26        f     25-45"
      ]
     },
     "execution_count": 43,
     "metadata": {},
     "output_type": "execute_result"
    }
   ],
   "source": [
    "df_shop_old_w_features[\"age_group\"] = (\n",
    "    df_shop_old_w_features[\"user_age\"].mask(\n",
    "        (df_shop_old_w_features[\"user_age\"] >= 18) & (df_shop_old_w_features[\"user_age\"] <= 24), \"18-24\"\n",
    "    ).mask(\n",
    "        (df_shop_old_w_features[\"user_age\"] >= 25) & (df_shop_old_w_features[\"user_age\"] <= 45), \"25-45\"\n",
    "    ).mask(\n",
    "        (df_shop_old_w_features[\"user_age\"] >= 46) & (df_shop_old_w_features[\"user_age\"] <= 60), \"46-60\"\n",
    "    ).mask(\n",
    "        (df_shop_old_w_features[\"user_age\"] >= 61) & (df_shop_old_w_features[\"user_age\"] <= 75), \"61-75\"\n",
    "    ).mask(\n",
    "        df_shop_old_w_features[\"user_age\"] >= 76, \"76+\"\n",
    "    )   \n",
    ")\n",
    "\n",
    "display(df_shop_old_w_features[\"age_group\"].value_counts())\n",
    "df_shop_old_w_features.head()"
   ]
  },
  {
   "cell_type": "code",
   "execution_count": 44,
   "metadata": {},
   "outputs": [
    {
     "data": {
      "text/plain": [
       "user_sex  age_group\n",
       "f         18-24        16952\n",
       "          25-45        50979\n",
       "          46-60        36447\n",
       "          61-75        36185\n",
       "          76+          22207\n",
       "m         18-24        25706\n",
       "          25-45        76922\n",
       "          46-60        54604\n",
       "          61-75        54250\n",
       "          76+          32611\n",
       "Name: user_id, dtype: int64"
      ]
     },
     "execution_count": 44,
     "metadata": {},
     "output_type": "execute_result"
    }
   ],
   "source": [
    "df_shop_old_w_features.groupby([\"user_sex\", \"age_group\"])[\"user_id\"].count()"
   ]
  },
  {
   "cell_type": "code",
   "execution_count": 45,
   "metadata": {},
   "outputs": [],
   "source": [
    "df_shop_old_w_features[\"sex_age_group\"] = df_shop_old_w_features[\"user_sex\"] + \"_\" + df_shop_old_w_features[\"age_group\"]"
   ]
  },
  {
   "cell_type": "markdown",
   "metadata": {},
   "source": [
    "**Без постратификации:**"
   ]
  },
  {
   "cell_type": "code",
   "execution_count": 46,
   "metadata": {},
   "outputs": [
    {
     "name": "stdout",
     "output_type": "stream",
     "text": [
      "p_value = 0.4634447828246868 - нет значимых отличий в группах.\n"
     ]
    }
   ],
   "source": [
    "_, p_value = stats.ttest_ind(\n",
    "    df_shop_old_w_features[df_shop_old_w_features.group == 'A']['cart_added_cnt'], \n",
    "    df_shop_old_w_features[df_shop_old_w_features.group == 'B']['cart_added_cnt']\n",
    ")\n",
    "\n",
    "if p_value < 0.05:\n",
    "    print(f'p_value = {p_value} - есть значимые отличия в группах.')\n",
    "else:\n",
    "    print(f'p_value = {p_value} - нет значимых отличий в группах.')"
   ]
  },
  {
   "cell_type": "markdown",
   "metadata": {},
   "source": [
    "**Отличие средних в группах:**"
   ]
  },
  {
   "cell_type": "code",
   "execution_count": 47,
   "metadata": {},
   "outputs": [
    {
     "name": "stdout",
     "output_type": "stream",
     "text": [
      "В группе Б среднее больше на 1.124%\n"
     ]
    }
   ],
   "source": [
    "diff_mean = (\n",
    "    (\n",
    "        df_shop_old_w_features[df_shop_old_w_features.group == 'B'][\"cart_added_cnt\"].mean() \n",
    "        - df_shop_old_w_features[df_shop_old_w_features.group == 'A'][\"cart_added_cnt\"].mean()\n",
    "    ) / df_shop_old_w_features[df_shop_old_w_features.group == 'A'][\"cart_added_cnt\"].mean()\n",
    ") \n",
    "\n",
    "print(f\"В группе Б среднее больше на {diff_mean:.3%}\")"
   ]
  },
  {
   "cell_type": "code",
   "execution_count": 48,
   "metadata": {},
   "outputs": [
    {
     "name": "stdout",
     "output_type": "stream",
     "text": [
      "0.576689119780438 0.5987645651973791\n"
     ]
    }
   ],
   "source": [
    "print(df_shop_old_w_features[df_shop_old_w_features.group == 'A']['cart_added_cnt'].std(), \n",
    "      df_shop_old_w_features[df_shop_old_w_features.group == 'B']['cart_added_cnt'].std())"
   ]
  },
  {
   "cell_type": "markdown",
   "metadata": {},
   "source": [
    "**C постратификацией:**"
   ]
  },
  {
   "cell_type": "code",
   "execution_count": 49,
   "metadata": {},
   "outputs": [
    {
     "data": {
      "text/plain": [
       "group  sex_age_group\n",
       "A      m_25-45          38432\n",
       "       m_46-60          27321\n",
       "       m_61-75          27001\n",
       "       f_25-45          25540\n",
       "       f_46-60          18336\n",
       "       f_61-75          17939\n",
       "       m_76+            16249\n",
       "       m_18-24          12890\n",
       "       f_76+            11125\n",
       "       f_18-24           8503\n",
       "B      m_25-45          38490\n",
       "       m_46-60          27283\n",
       "       m_61-75          27249\n",
       "       f_25-45          25439\n",
       "       f_61-75          18246\n",
       "       f_46-60          18111\n",
       "       m_76+            16362\n",
       "       m_18-24          12816\n",
       "       f_76+            11082\n",
       "       f_18-24           8449\n",
       "Name: count, dtype: int64"
      ]
     },
     "execution_count": 49,
     "metadata": {},
     "output_type": "execute_result"
    }
   ],
   "source": [
    "df_shop_old_w_features.groupby(\"group\")[\"sex_age_group\"].value_counts()"
   ]
  },
  {
   "cell_type": "code",
   "execution_count": 51,
   "metadata": {},
   "outputs": [
    {
     "name": "stdout",
     "output_type": "stream",
     "text": [
      "effect: 1.124%, std_a: 8.179175411681481e-07, std_b: 8.814427810322829e-07\n",
      "p_value = 0.0 - есть значимые отличия в группах.\n"
     ]
    }
   ],
   "source": [
    "N = df_shop_old_w_features['user_id'].nunique()\n",
    "\n",
    "mean_a, mean_b = 0, 0\n",
    "std_a, std_b = 0, 0\n",
    "for idx in range(0, df_shop_old_w_features[\"sex_age_group\"].nunique()):\n",
    "    key = df_shop_old_w_features['sex_age_group'].value_counts().index[idx]\n",
    "    strats_weights = df_shop_old_w_features['sex_age_group'].value_counts().iloc[idx] / N\n",
    "\n",
    "    mean_a += df_shop_old_w_features[\n",
    "        (df_shop_old_w_features.group == 'A')\n",
    "        & (df_shop_old_w_features['sex_age_group'] == key)\n",
    "    ]['cart_added_cnt'].mean() * strats_weights\n",
    "\n",
    "    mean_b += df_shop_old_w_features[\n",
    "        (df_shop_old_w_features.group == 'B')\n",
    "        & (df_shop_old_w_features['sex_age_group'] == key)\n",
    "    ]['cart_added_cnt'].mean() * strats_weights\n",
    "\n",
    "    std_a += df_shop_old_w_features[\n",
    "        (df_shop_old_w_features.group == 'A')\n",
    "        & (df_shop_old_w_features['sex_age_group'] == key)\n",
    "    ]['cart_added_cnt'].std()**2 * strats_weights\n",
    "\n",
    "    std_b += df_shop_old_w_features[\n",
    "        (df_shop_old_w_features.group == 'B')\n",
    "        & (df_shop_old_w_features['sex_age_group'] == key)\n",
    "    ]['cart_added_cnt'].std()**2 * strats_weights\n",
    "\n",
    "std_a /= N\n",
    "std_b /= N\n",
    "\n",
    "n_a = len(df_shop_old_w_features[df_shop_old_w_features.group == 'A'])\n",
    "n_b = len(df_shop_old_w_features[df_shop_old_w_features.group == 'B'])\n",
    "\n",
    "print(f'effect: {(mean_b - mean_a)/mean_a:.3%}, std_a: {std_a}, std_b: {std_b}')\n",
    "\n",
    "statistic, p_value = stats.ttest_ind_from_stats(mean_a, std_a, n_a, mean_b, std_b, n_b)\n",
    "if p_value < 0.05:\n",
    "    print(f'p_value = {p_value} - есть значимые отличия в группах.')\n",
    "else:\n",
    "    print(f'p_value = {p_value} - нет значимых отличий в группах.')"
   ]
  },
  {
   "cell_type": "markdown",
   "metadata": {},
   "source": [
    "**Подход с постратификацией показывает, что значимые отличия в группах есть, скорее всего из-за того, в какой-то из групп эффект есть**"
   ]
  },
  {
   "cell_type": "markdown",
   "metadata": {},
   "source": [
    "**проверить мощность и корректность t-критерия для постстратифицированного случая**"
   ]
  },
  {
   "cell_type": "code",
   "execution_count": 52,
   "metadata": {},
   "outputs": [],
   "source": [
    "df_shop_old_w_features.drop(\"group\", axis=1, inplace=True)"
   ]
  },
  {
   "cell_type": "code",
   "execution_count": 53,
   "metadata": {},
   "outputs": [],
   "source": [
    "ALPHA = 0.5\n",
    "ITER = 1000"
   ]
  },
  {
   "cell_type": "markdown",
   "metadata": {},
   "source": [
    "**Вариант 1: сплитуем на группы, а потом считаем метрики в каждой из групп**"
   ]
  },
  {
   "cell_type": "code",
   "execution_count": 54,
   "metadata": {},
   "outputs": [
    {
     "name": "stderr",
     "output_type": "stream",
     "text": [
      "100%|██████████| 1000/1000 [24:03<00:00,  1.44s/it]\n"
     ]
    },
    {
     "name": "stdout",
     "output_type": "stream",
     "text": [
      "p_value = 0.0 - p_values неравномерное распределение\n",
      " === Power: 100.000%\n",
      " === Correctness: 0.000%\n"
     ]
    },
    {
     "data": {
      "image/png": "[encoded data removed]",
      "text/plain": [
       "<Figure size 470x427 with 1 Axes>"
      ]
     },
     "metadata": {},
     "output_type": "display_data"
    }
   ],
   "source": [
    "correctness = []\n",
    "power = []\n",
    "\n",
    "for idx in tqdm(range(ITER)):\n",
    "    df_with_group = groups_splitter(df_shop_old_w_features.copy(), \n",
    "                                    columns=[\"user_id\", \"group\", \"sex_age_group\", \"cart_added_cnt\"], \n",
    "                                    user_salt=salt_generator())\n",
    "\n",
    "    vec_a = df_with_group[(df_with_group.group == 'A')][[\"sex_age_group\", \"cart_added_cnt\"]]\n",
    "    vec_b = df_with_group[(df_with_group.group == 'B')][[\"sex_age_group\", \"cart_added_cnt\"]]\n",
    "    vec_b_effect = vec_b.copy()\n",
    "    vec_b_effect[\"cart_added_cnt\"] *= 1.05\n",
    "    \n",
    "    N = df_with_group['user_id'].nunique()\n",
    "    \n",
    "    mean_a, mean_b, mean_b_effect = 0, 0, 0\n",
    "    std_a, std_b, std_b_effect = 0, 0, 0\n",
    "    for idx in range(0, df_with_group[\"sex_age_group\"].nunique()):\n",
    "        key = df_with_group['sex_age_group'].value_counts().index[idx]\n",
    "        strats_weights = df_with_group['sex_age_group'].value_counts().iloc[idx] / N\n",
    "\n",
    "        mean_a += vec_a[(vec_a['sex_age_group'] == key)]['cart_added_cnt'].mean() * strats_weights\n",
    "        mean_b += vec_b[(vec_b['sex_age_group'] == key)]['cart_added_cnt'].mean() * strats_weights\n",
    "        mean_b_effect += vec_b_effect[(vec_b_effect['sex_age_group'] == key)]['cart_added_cnt'].mean() * strats_weights\n",
    "\n",
    "        std_a += vec_a[(vec_a['sex_age_group'] == key)]['cart_added_cnt'].std() ** 2 * strats_weights\n",
    "        std_b += vec_b[(vec_b['sex_age_group'] == key)]['cart_added_cnt'].std() ** 2 * strats_weights\n",
    "        std_b_effect += vec_b_effect[(vec_b_effect['sex_age_group'] == key)]['cart_added_cnt'].std() ** 2 * strats_weights\n",
    "\n",
    "    std_a /= N\n",
    "    std_b /= N\n",
    "    std_b_effect /= N\n",
    "\n",
    "    n_a = len(df_with_group[df_with_group.group == 'A'])\n",
    "    n_b = len(df_with_group[df_with_group.group == 'B'])\n",
    "\n",
    "    p_correctness = stats.ttest_ind_from_stats(mean_a, std_a, n_a, mean_b, std_b, n_b)[1]\n",
    "    p_power = stats.ttest_ind_from_stats(mean_a, std_a, n_a, mean_b_effect, std_b_effect, n_b)[1]\n",
    "\n",
    "    correctness.append(p_correctness)\n",
    "    power.append(p_power)\n",
    "\n",
    "correctness = np.array(correctness)\n",
    "power = np.array(power)\n",
    "\n",
    "sns.histplot(data=correctness, bins=10, kde=True)\n",
    "\n",
    "_, p_value_for_norm = stats.kstest(correctness, scipy.stats.uniform(loc=0.0, scale=1.0).cdf)\n",
    "if p_value_for_norm < 0.05:\n",
    "    print(f'p_value = {p_value_for_norm} - p_values неравномерное распределение')\n",
    "else:\n",
    "    print(f'p_value = {p_value_for_norm} - p_values равномерное распределение')\n",
    "\n",
    "print(\n",
    "    f\" === Power: {len(power[power < ALPHA]) / len(power) :.3%}\\n\"\n",
    "    f\" === Correctness: {1 - len(correctness[correctness < ALPHA]) / len(correctness):.3%}\"\n",
    ")"
   ]
  },
  {
   "cell_type": "markdown",
   "metadata": {},
   "source": [
    "**Вариант 2: сплитуем на группы, добавляем эффект внутри каждой группы, считаем метрики внутри групп** (в принципе не отличается от первого варината, но решил проверить)"
   ]
  },
  {
   "cell_type": "code",
   "execution_count": 55,
   "metadata": {},
   "outputs": [
    {
     "name": "stderr",
     "output_type": "stream",
     "text": [
      "  0%|          | 0/1000 [00:00<?, ?it/s]"
     ]
    },
    {
     "name": "stderr",
     "output_type": "stream",
     "text": [
      "100%|██████████| 1000/1000 [13:47<00:00,  1.21it/s]"
     ]
    },
    {
     "name": "stdout",
     "output_type": "stream",
     "text": [
      "p_value = 0.0 - p_values неравномерное распределение\n",
      " === Power: 100.000%\n",
      " === Correctness: 0.000%\n"
     ]
    },
    {
     "name": "stderr",
     "output_type": "stream",
     "text": [
      "\n"
     ]
    },
    {
     "data": {
      "image/png": "[encoded data removed]",
      "text/plain": [
       "<Figure size 470x427 with 1 Axes>"
      ]
     },
     "metadata": {},
     "output_type": "display_data"
    }
   ],
   "source": [
    "correctness = []\n",
    "power = []\n",
    "\n",
    "for idx in tqdm(range(ITER)):\n",
    "    vecs_a = {}\n",
    "    vecs_b = {}\n",
    "    vecs_b_effect = {}\n",
    "    unique_user_id = []\n",
    "    strats_weights = {}\n",
    "    for sag in df_shop_old_w_features[\"sex_age_group\"].unique(): \n",
    "        df_with_group = groups_splitter(\n",
    "            df_shop_old_w_features[df_shop_old_w_features[\"sex_age_group\"] == sag].copy(), \n",
    "            columns=[\"user_id\", \"group\", \"cart_added_cnt\"], \n",
    "            user_salt=salt_generator()\n",
    "        )\n",
    "\n",
    "        unique_user_id.extend(df_with_group['user_id'].unique().tolist())\n",
    "        strats_weights[sag] = len(df_with_group)\n",
    "\n",
    "        vecs_a[sag] = df_with_group[(df_with_group.group == 'A')]['cart_added_cnt']\n",
    "        vecs_b[sag] = df_with_group[(df_with_group.group == 'B')]['cart_added_cnt']\n",
    "        vecs_b_effect[sag] = vecs_b[sag] * 1.05\n",
    "    \n",
    "    N = len(set(unique_user_id))\n",
    "    mean_a, mean_b, mean_b_effect = 0, 0, 0\n",
    "    std_a, std_b, std_b_effect = 0, 0, 0\n",
    "    for sag in df_shop_old_w_features[\"sex_age_group\"].unique(): \n",
    "        strats_weights[sag] /= N\n",
    "\n",
    "        mean_a += vecs_a[sag].mean() * strats_weights[sag]\n",
    "        mean_b += vecs_b[sag].mean() * strats_weights[sag]\n",
    "        mean_b_effect += vecs_b_effect[sag].mean() * strats_weights[sag]\n",
    "\n",
    "        std_a += vecs_a[sag].std() ** 2 * strats_weights[sag]\n",
    "        std_b += vecs_b[sag].std() ** 2 * strats_weights[sag]\n",
    "        std_b_effect += vecs_b_effect[sag].std() ** 2 * strats_weights[sag]\n",
    "\n",
    "    std_a /= N\n",
    "    std_b /= N\n",
    "    std_b_effect /= N\n",
    "\n",
    "    n_a = np.sum([len(vec_a) for vec_a in vecs_a.values()])\n",
    "    n_b = np.sum([len(vec_b) for vec_b in vecs_b.values()])\n",
    "\n",
    "    p_correctness = stats.ttest_ind_from_stats(mean_a, std_a, n_a, mean_b, std_b, n_b)[1]\n",
    "    p_power = stats.ttest_ind_from_stats(mean_a, std_a, n_a, mean_b_effect, std_b_effect, n_b)[1]\n",
    "\n",
    "    correctness.append(p_correctness)\n",
    "    power.append(p_power)\n",
    "\n",
    "correctness = np.array(correctness)\n",
    "power = np.array(power)\n",
    "\n",
    "sns.histplot(data=correctness, bins=10, kde=True)\n",
    "\n",
    "_, p_value_for_norm = stats.kstest(correctness, scipy.stats.uniform(loc=0.0, scale=1.0).cdf)\n",
    "if p_value_for_norm < 0.05:\n",
    "    print(f'p_value = {p_value_for_norm} - p_values неравномерное распределение')\n",
    "else:\n",
    "    print(f'p_value = {p_value_for_norm} - p_values равномерное распределение')\n",
    "\n",
    "print(\n",
    "    f\" === Power: {len(power[power < ALPHA]) / len(power) :.3%}\\n\"\n",
    "    f\" === Correctness: {1 - len(correctness[correctness < ALPHA]) / len(correctness):.3%}\"\n",
    ")"
   ]
  },
  {
   "cell_type": "markdown",
   "metadata": {},
   "source": [
    "**Мощность высокая, корректность очень плохая**"
   ]
  },
  {
   "cell_type": "code",
   "execution_count": null,
   "metadata": {},
   "outputs": [],
   "source": []
  }
 ],
 "metadata": {
  "kernelspec": {
   "display_name": "venv",
   "language": "python",
   "name": "python3"
  },
  "language_info": {
   "codemirror_mode": {
    "name": "ipython",
    "version": 3
   },
   "file_extension": ".py",
   "mimetype": "text/x-python",
   "name": "python",
   "nbconvert_exporter": "python",
   "pygments_lexer": "ipython3",
   "version": "3.10.8"
  },
  "orig_nbformat": 4
 },
 "nbformat": 4,
 "nbformat_minor": 2
}
